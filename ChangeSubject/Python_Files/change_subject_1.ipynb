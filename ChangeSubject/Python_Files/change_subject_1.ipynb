{
 "cells": [
  {
   "cell_type": "code",
   "execution_count": 1,
   "id": "9dd3fe50-b81e-4e06-80d5-b22f076094b6",
   "metadata": {},
   "outputs": [],
   "source": [
    "from manim import *"
   ]
  },
  {
   "cell_type": "code",
   "execution_count": 4,
   "id": "c5aff988-1318-48b3-8232-aa725a5f445c",
   "metadata": {},
   "outputs": [
    {
     "data": {
      "text/html": [
       "<pre style=\"white-space:pre;overflow-x:auto;line-height:normal;font-family:Menlo,'DejaVu Sans Mono',consolas,'Courier New',monospace\">Manim Community <span style=\"color: #008000; text-decoration-color: #008000\">v0.19.0</span>\n",
       "\n",
       "</pre>\n"
      ],
      "text/plain": [
       "Manim Community \u001b[32mv0.\u001b[0m\u001b[32m19.0\u001b[0m\n",
       "\n"
      ]
     },
     "metadata": {},
     "output_type": "display_data"
    },
    {
     "name": "stderr",
     "output_type": "stream",
     "text": [
      "                                                                                     "
     ]
    },
    {
     "data": {
      "text/html": [
       "<video src=\"media/jupyter/ChangeSubjectFormula@2025-08-04@19-49-49.mp4\" controls autoplay loop style=\"max-width: 60%;\"  >\n",
       "      Your browser does not support the <code>video</code> element.\n",
       "    </video>"
      ],
      "text/plain": [
       "<IPython.core.display.Video object>"
      ]
     },
     "metadata": {},
     "output_type": "display_data"
    }
   ],
   "source": [
    "%%manim -qm -v WARNING ChangeSubjectFormula\n",
    "\n",
    "config.pixel_width = 1920\n",
    "config.pixel_height = 1080\n",
    "config.frame_rate = 30\n",
    "\n",
    "class ChangeSubjectFormula(Scene):\n",
    "    def construct(self):\n",
    "        # Add background image\n",
    "        background = ImageMobject(\"../Image/chalk_board.jpg\")\n",
    "        background.set_z_index(-1)\n",
    "        background.scale_to_fit_height(config.frame_height)\n",
    "        background.scale_to_fit_width(config.frame_width)\n",
    "        self.add(background)\n",
    "\n",
    "         # Load and position logo image\n",
    "        logo = ImageMobject(\"../Image/logo.png\")\n",
    "        logo_corner = logo.scale(0.15)\n",
    "        logo_corner.to_corner(DR)\n",
    "        self.add(logo_corner)\n",
    "\n",
    "        # Intro\n",
    "        title = Tex(r\"Changing the Subject of Formula\", color=YELLOW)\n",
    "        institution = Tex(r\"@Kaswia Academy\")\n",
    "        self.play(Write(title))\n",
    "        self.wait()\n",
    "        self.play(title.animate.shift(UP).scale(1.5), FadeIn(institution, shift=UP))\n",
    "        self.wait(2)\n",
    "\n",
    "        # Problem Statement\n",
    "        statement = Tex(r\"Problem Statement:\", color=YELLOW)\n",
    "        question = Tex(r\"Make $k$ the subject of the Formula in:\\\\\"\n",
    "                       r\"$x = \\frac{b - k^3}{k^3}$\")\n",
    "        self.play(FadeOut(title, institution, shift=RIGHT), Write(statement))\n",
    "        self.wait()\n",
    "        self.play(statement.animate.to_edge(UP).scale(1.5).set_color(WHITE))\n",
    "        self.wait()\n",
    "        self.play(FadeIn(question))\n",
    "        self.wait()\n",
    "        self.play(question.animate.shift(UP).scale(1.3))\n",
    "        self.wait()\n",
    "        self.play(FadeOut(statement, question))\n",
    "\n",
    "        # Step 1\n",
    "        text_1 = Tex(r\"Multiply both sides by $k^3$:\").to_edge(UP).scale(1.5)\n",
    "        eq1 = MathTex(r\"x = \\frac{b - k^3}{k^3}\").shift(2*UP).scale(1.5)\n",
    "        eq2 = MathTex(r\"k^3 \\times x = \\frac{b - k^3}{k^3} \\times k^3\").scale(1.5)\n",
    "        eq3 = MathTex(r\"k^3 \\times x = b - k^3\").next_to(eq2, direction = DOWN, buff = 0.5).scale(1.5)\n",
    "        eq4 = MathTex(r\"k^3x = b - k^3\").next_to(eq3, direction = DOWN, buff = 0.5).scale(1.5)\n",
    "        self.add(text_1, eq1)\n",
    "        self.wait()\n",
    "        self.play(Write(eq2))\n",
    "        self.wait()\n",
    "        self.play(TransformFromCopy(eq2, eq3))\n",
    "        self.wait()\n",
    "        self.play(TransformFromCopy(eq3, eq4))\n",
    "        self.play(FadeOut(text_1, eq1, eq2, eq3, eq4))\n",
    "        self.wait()\n",
    "\n",
    "        # Step 2\n",
    "        text_2 = Tex(r\"Add $k^3$ to both sides of the equation\").to_edge(UP).scale(1.5)\n",
    "        eq1 = MathTex(r\"k^3x = b - k^3\").shift(2*UP).scale(1.5)\n",
    "        eq2 = MathTex(r\"k^3x + k^3 = b - k^3 + k^3\").next_to(eq1, direction = DOWN, buff = 1).scale(1.5)\n",
    "        eq3 = MathTex(r\"k^3x + k^3 = b\").next_to(eq2, direction = DOWN, buff = 1).scale(1.5)\n",
    "        self.add(text_2)\n",
    "        self.play(Write(eq1))\n",
    "        self.wait()\n",
    "        self.play(TransformFromCopy(eq1, eq2))\n",
    "        self.wait()\n",
    "        self.play(TransformFromCopy(eq2, eq3))\n",
    "        self.wait()\n",
    "        self.play(FadeOut(text_2, eq1, eq2, eq3))\n",
    "        self.wait()\n",
    "\n",
    "        # Step 3\n",
    "        text_3 = Tex(r\"Factorise the left-hand side of the equation:\").to_edge(UP).scale(1.5)\n",
    "        eq1 = MathTex(r\"k^3x + k^3 = b\").shift(2*UP).scale(1.5)\n",
    "        eq2 = MathTex(r\"k^3(x + 1) = b\").next_to(eq1, direction = DOWN, buff = 1).scale(1.5)\n",
    "        self.add(text_3)\n",
    "        self.wait()\n",
    "        self.play(Write(eq1))\n",
    "        self.play(TransformFromCopy(eq1, eq2))\n",
    "        self.wait()\n",
    "        self.play(FadeOut(text_3, eq1, eq2))\n",
    "        self.wait()\n",
    "\n",
    "        # Step 4\n",
    "        text_4 = Tex(r\"Devide both sides by $x + 1$\").to_edge(UP).scale(1.5)\n",
    "        eq1 = MathTex(r\"k^3(x + 1) = b\").shift(2*UP).scale(1.5)\n",
    "        eq2 = MathTex(r\"\\frac{k^3(x + 1)}{(x + 1)} = \\frac{b}{(x + 1)}\").next_to(eq1, direction = DOWN, buff = 1).scale(1.5)\n",
    "        eq3 = MathTex(r\"k^3 = \\frac{b}{x + 1}\").next_to(eq2, direction = DOWN, buff = 1).scale(1.5)\n",
    "        self.add(text_4)\n",
    "        self.wait()\n",
    "        self.play(FadeIn(eq1))\n",
    "        self.wait()\n",
    "        self.play(TransformFromCopy(eq1, eq2))\n",
    "        self.wait()\n",
    "        self.play(TransformFromCopy(eq2, eq3))\n",
    "        self.wait()\n",
    "        self.play(FadeOut(text_4, eq1, eq2, eq3))\n",
    "        self.wait()\n",
    "\n",
    "        # Step 5\n",
    "        text_5 = Tex(r\"Take the cube-root of both sides:\").to_edge(UP).scale(1.5)\n",
    "        eq1 = MathTex(r\"k^3 = \\frac{b}{x + 1}\").shift(2*UP).scale(1.5)\n",
    "        eq2 = MathTex(r\"\\sqrt[3]{k^3} = \\sqrt[3]{\\frac{b}{x + 1}}\").next_to(eq1, direction = DOWN, buff = 1).scale(1.5)\n",
    "        eq3 = MathTex(r\"k = \\sqrt[3]{\\frac{b}{x + 1}}\").next_to(eq2, direction = DOWN, buff = 1).scale(1.5)\n",
    "        self.add(text_5)\n",
    "        self.wait()\n",
    "        self.play(Write(eq1))\n",
    "        self.wait()\n",
    "        self.play(TransformFromCopy(eq1, eq2))\n",
    "        self.wait()\n",
    "        self.play(TransformFromCopy(eq2, eq3))\n",
    "        self.wait()\n",
    "        self.play(FadeOut(text_5, eq1, eq2, eq3))\n",
    "        self.wait()\n",
    "        \n",
    "        # Final Answer\n",
    "        text_6 = Tex(r\"The Final Answer is:\").to_edge(UP).scale(1.75)\n",
    "        final_answer = MathTex(r\"\\boxed{k = \\sqrt[3]{\\frac{b}{x + 1}}}\").shift(DOWN).scale(1.75)\n",
    "        self.add(text_6)\n",
    "        self.play(Write(final_answer))\n",
    "        self.wait()\n",
    "        self.play(FadeOut(text_6, final_answer))\n",
    "        \n",
    "         # Outro\n",
    "        final_text = Tex(\"Thank you for watching!\", color=YELLOW).scale(1.5)\n",
    "        self.play(Write(final_text))\n",
    "        self.wait()\n",
    "        self.play(logo_corner.animate.move_to(ORIGIN).scale(3), \n",
    "                  final_text.animate.to_edge(DOWN).set_color(WHITE))\n",
    "        self.wait(2)\n",
    "        self.play(FadeOut(final_text, logo_corner))\n",
    "        self.wait()\n"
   ]
  },
  {
   "cell_type": "code",
   "execution_count": null,
   "id": "e9cd3581-10ac-4a1f-a2c4-b90ce5e6ecba",
   "metadata": {},
   "outputs": [],
   "source": []
  }
 ],
 "metadata": {
  "kernelspec": {
   "display_name": "Python 3 (ipykernel)",
   "language": "python",
   "name": "python3"
  },
  "language_info": {
   "codemirror_mode": {
    "name": "ipython",
    "version": 3
   },
   "file_extension": ".py",
   "mimetype": "text/x-python",
   "name": "python",
   "nbconvert_exporter": "python",
   "pygments_lexer": "ipython3",
   "version": "3.12.3"
  }
 },
 "nbformat": 4,
 "nbformat_minor": 5
}
