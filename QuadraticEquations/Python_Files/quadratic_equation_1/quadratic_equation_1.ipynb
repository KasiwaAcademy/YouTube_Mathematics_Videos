{
 "cells": [
  {
   "cell_type": "code",
   "execution_count": 1,
   "id": "4f164baf-f3d0-44c3-afb6-1db0820a0dae",
   "metadata": {},
   "outputs": [],
   "source": [
    "from manim import *\n",
    "import manim_voiceover"
   ]
  },
  {
   "cell_type": "code",
   "execution_count": 2,
   "id": "02b5d03d-a56c-4daf-8477-15f1bd24a35c",
   "metadata": {},
   "outputs": [
    {
     "data": {
      "text/html": [
       "<pre style=\"white-space:pre;overflow-x:auto;line-height:normal;font-family:Menlo,'DejaVu Sans Mono',consolas,'Courier New',monospace\">Manim Community <span style=\"color: #008000; text-decoration-color: #008000\">v0.19.0</span>\n",
       "\n",
       "</pre>\n"
      ],
      "text/plain": [
       "Manim Community \u001b[32mv0.\u001b[0m\u001b[32m19.0\u001b[0m\n",
       "\n"
      ]
     },
     "metadata": {},
     "output_type": "display_data"
    },
    {
     "data": {
      "text/html": [
       "<pre style=\"white-space:pre;overflow-x:auto;line-height:normal;font-family:Menlo,'DejaVu Sans Mono',consolas,'Courier New',monospace\"><span style=\"color: #7fbfbf; text-decoration-color: #7fbfbf\">[08/14/25 10:23:24] </span><span style=\"color: #008000; text-decoration-color: #008000\">INFO    </span> tts_models/en/ljspeech/tacotron2-DDC is already downloaded.              <a href=\"file:///home/mcbrown/.manim_venv/lib/python3.10/site-packages/TTS/utils/manage.py\" target=\"_blank\"><span style=\"color: #7f7f7f; text-decoration-color: #7f7f7f\">manage.py</span></a><span style=\"color: #7f7f7f; text-decoration-color: #7f7f7f\">:</span><a href=\"file:///home/mcbrown/.manim_venv/lib/python3.10/site-packages/TTS/utils/manage.py#430\" target=\"_blank\"><span style=\"color: #7f7f7f; text-decoration-color: #7f7f7f\">430</span></a>\n",
       "</pre>\n"
      ],
      "text/plain": [
       "\u001b[2;36m[08/14/25 10:23:24]\u001b[0m\u001b[2;36m \u001b[0m\u001b[32mINFO    \u001b[0m tts_models/en/ljspeech/tacotron2-DDC is already downloaded.              \u001b]8;id=783192;file:///home/mcbrown/.manim_venv/lib/python3.10/site-packages/TTS/utils/manage.py\u001b\\\u001b[2mmanage.py\u001b[0m\u001b]8;;\u001b\\\u001b[2m:\u001b[0m\u001b]8;id=173675;file:///home/mcbrown/.manim_venv/lib/python3.10/site-packages/TTS/utils/manage.py#430\u001b\\\u001b[2m430\u001b[0m\u001b]8;;\u001b\\\n"
      ]
     },
     "metadata": {},
     "output_type": "display_data"
    },
    {
     "data": {
      "text/html": [
       "<pre style=\"white-space:pre;overflow-x:auto;line-height:normal;font-family:Menlo,'DejaVu Sans Mono',consolas,'Courier New',monospace\"><span style=\"color: #7fbfbf; text-decoration-color: #7fbfbf\">                    </span><span style=\"color: #008000; text-decoration-color: #008000\">INFO    </span> vocoder_models/en/ljspeech/hifigan_v2 is already downloaded.             <a href=\"file:///home/mcbrown/.manim_venv/lib/python3.10/site-packages/TTS/utils/manage.py\" target=\"_blank\"><span style=\"color: #7f7f7f; text-decoration-color: #7f7f7f\">manage.py</span></a><span style=\"color: #7f7f7f; text-decoration-color: #7f7f7f\">:</span><a href=\"file:///home/mcbrown/.manim_venv/lib/python3.10/site-packages/TTS/utils/manage.py#430\" target=\"_blank\"><span style=\"color: #7f7f7f; text-decoration-color: #7f7f7f\">430</span></a>\n",
       "</pre>\n"
      ],
      "text/plain": [
       "\u001b[2;36m                   \u001b[0m\u001b[2;36m \u001b[0m\u001b[32mINFO    \u001b[0m vocoder_models/en/ljspeech/hifigan_v2 is already downloaded.             \u001b]8;id=333029;file:///home/mcbrown/.manim_venv/lib/python3.10/site-packages/TTS/utils/manage.py\u001b\\\u001b[2mmanage.py\u001b[0m\u001b]8;;\u001b\\\u001b[2m:\u001b[0m\u001b]8;id=759515;file:///home/mcbrown/.manim_venv/lib/python3.10/site-packages/TTS/utils/manage.py#430\u001b\\\u001b[2m430\u001b[0m\u001b]8;;\u001b\\\n"
      ]
     },
     "metadata": {},
     "output_type": "display_data"
    },
    {
     "data": {
      "text/html": [
       "<pre style=\"white-space:pre;overflow-x:auto;line-height:normal;font-family:Menlo,'DejaVu Sans Mono',consolas,'Courier New',monospace\"><span style=\"color: #7fbfbf; text-decoration-color: #7fbfbf\">                    </span><span style=\"color: #008000; text-decoration-color: #008000\">INFO    </span> Using model: Tacotron2                                                   <a href=\"file:///home/mcbrown/.manim_venv/lib/python3.10/site-packages/TTS/tts/models/__init__.py\" target=\"_blank\"><span style=\"color: #7f7f7f; text-decoration-color: #7f7f7f\">__init__.py</span></a><span style=\"color: #7f7f7f; text-decoration-color: #7f7f7f\">:</span><a href=\"file:///home/mcbrown/.manim_venv/lib/python3.10/site-packages/TTS/tts/models/__init__.py#9\" target=\"_blank\"><span style=\"color: #7f7f7f; text-decoration-color: #7f7f7f\">9</span></a>\n",
       "</pre>\n"
      ],
      "text/plain": [
       "\u001b[2;36m                   \u001b[0m\u001b[2;36m \u001b[0m\u001b[32mINFO    \u001b[0m Using model: Tacotron2                                                   \u001b]8;id=510864;file:///home/mcbrown/.manim_venv/lib/python3.10/site-packages/TTS/tts/models/__init__.py\u001b\\\u001b[2m__init__.py\u001b[0m\u001b]8;;\u001b\\\u001b[2m:\u001b[0m\u001b]8;id=790665;file:///home/mcbrown/.manim_venv/lib/python3.10/site-packages/TTS/tts/models/__init__.py#9\u001b\\\u001b[2m9\u001b[0m\u001b]8;;\u001b\\\n"
      ]
     },
     "metadata": {},
     "output_type": "display_data"
    },
    {
     "data": {
      "text/html": [
       "<pre style=\"white-space:pre;overflow-x:auto;line-height:normal;font-family:Menlo,'DejaVu Sans Mono',consolas,'Courier New',monospace\"><span style=\"color: #7fbfbf; text-decoration-color: #7fbfbf\">                    </span><span style=\"color: #008000; text-decoration-color: #008000\">INFO    </span> Setting up Audio Processor<span style=\"color: #808000; text-decoration-color: #808000\">...</span>                                         <a href=\"file:///home/mcbrown/.manim_venv/lib/python3.10/site-packages/TTS/utils/audio/processor.py\" target=\"_blank\"><span style=\"color: #7f7f7f; text-decoration-color: #7f7f7f\">processor.py</span></a><span style=\"color: #7f7f7f; text-decoration-color: #7f7f7f\">:</span><a href=\"file:///home/mcbrown/.manim_venv/lib/python3.10/site-packages/TTS/utils/audio/processor.py#229\" target=\"_blank\"><span style=\"color: #7f7f7f; text-decoration-color: #7f7f7f\">229</span></a>\n",
       "</pre>\n"
      ],
      "text/plain": [
       "\u001b[2;36m                   \u001b[0m\u001b[2;36m \u001b[0m\u001b[32mINFO    \u001b[0m Setting up Audio Processor\u001b[33m...\u001b[0m                                         \u001b]8;id=5360;file:///home/mcbrown/.manim_venv/lib/python3.10/site-packages/TTS/utils/audio/processor.py\u001b\\\u001b[2mprocessor.py\u001b[0m\u001b]8;;\u001b\\\u001b[2m:\u001b[0m\u001b]8;id=154837;file:///home/mcbrown/.manim_venv/lib/python3.10/site-packages/TTS/utils/audio/processor.py#229\u001b\\\u001b[2m229\u001b[0m\u001b]8;;\u001b\\\n"
      ]
     },
     "metadata": {},
     "output_type": "display_data"
    },
    {
     "data": {
      "text/html": [
       "<pre style=\"white-space:pre;overflow-x:auto;line-height:normal;font-family:Menlo,'DejaVu Sans Mono',consolas,'Courier New',monospace\"><span style=\"color: #7fbfbf; text-decoration-color: #7fbfbf\">[08/14/25 10:23:25] </span><span style=\"color: #008000; text-decoration-color: #008000\">INFO    </span>  | sample_rate: <span style=\"color: #008000; text-decoration-color: #008000\">22050</span>                                                 <a href=\"file:///home/mcbrown/.manim_venv/lib/python3.10/site-packages/TTS/utils/audio/processor.py\" target=\"_blank\"><span style=\"color: #7f7f7f; text-decoration-color: #7f7f7f\">processor.py</span></a><span style=\"color: #7f7f7f; text-decoration-color: #7f7f7f\">:</span><a href=\"file:///home/mcbrown/.manim_venv/lib/python3.10/site-packages/TTS/utils/audio/processor.py#231\" target=\"_blank\"><span style=\"color: #7f7f7f; text-decoration-color: #7f7f7f\">231</span></a>\n",
       "</pre>\n"
      ],
      "text/plain": [
       "\u001b[2;36m[08/14/25 10:23:25]\u001b[0m\u001b[2;36m \u001b[0m\u001b[32mINFO    \u001b[0m  | sample_rate: \u001b[32m22050\u001b[0m                                                 \u001b]8;id=691443;file:///home/mcbrown/.manim_venv/lib/python3.10/site-packages/TTS/utils/audio/processor.py\u001b\\\u001b[2mprocessor.py\u001b[0m\u001b]8;;\u001b\\\u001b[2m:\u001b[0m\u001b]8;id=8850;file:///home/mcbrown/.manim_venv/lib/python3.10/site-packages/TTS/utils/audio/processor.py#231\u001b\\\u001b[2m231\u001b[0m\u001b]8;;\u001b\\\n"
      ]
     },
     "metadata": {},
     "output_type": "display_data"
    },
    {
     "data": {
      "text/html": [
       "<pre style=\"white-space:pre;overflow-x:auto;line-height:normal;font-family:Menlo,'DejaVu Sans Mono',consolas,'Courier New',monospace\"><span style=\"color: #7fbfbf; text-decoration-color: #7fbfbf\">                    </span><span style=\"color: #008000; text-decoration-color: #008000\">INFO    </span>  | resample: <span style=\"color: #ff0000; text-decoration-color: #ff0000; font-style: italic\">False</span>                                                    <a href=\"file:///home/mcbrown/.manim_venv/lib/python3.10/site-packages/TTS/utils/audio/processor.py\" target=\"_blank\"><span style=\"color: #7f7f7f; text-decoration-color: #7f7f7f\">processor.py</span></a><span style=\"color: #7f7f7f; text-decoration-color: #7f7f7f\">:</span><a href=\"file:///home/mcbrown/.manim_venv/lib/python3.10/site-packages/TTS/utils/audio/processor.py#231\" target=\"_blank\"><span style=\"color: #7f7f7f; text-decoration-color: #7f7f7f\">231</span></a>\n",
       "</pre>\n"
      ],
      "text/plain": [
       "\u001b[2;36m                   \u001b[0m\u001b[2;36m \u001b[0m\u001b[32mINFO    \u001b[0m  | resample: \u001b[3;91mFalse\u001b[0m                                                    \u001b]8;id=77036;file:///home/mcbrown/.manim_venv/lib/python3.10/site-packages/TTS/utils/audio/processor.py\u001b\\\u001b[2mprocessor.py\u001b[0m\u001b]8;;\u001b\\\u001b[2m:\u001b[0m\u001b]8;id=611602;file:///home/mcbrown/.manim_venv/lib/python3.10/site-packages/TTS/utils/audio/processor.py#231\u001b\\\u001b[2m231\u001b[0m\u001b]8;;\u001b\\\n"
      ]
     },
     "metadata": {},
     "output_type": "display_data"
    },
    {
     "data": {
      "text/html": [
       "<pre style=\"white-space:pre;overflow-x:auto;line-height:normal;font-family:Menlo,'DejaVu Sans Mono',consolas,'Courier New',monospace\"><span style=\"color: #7fbfbf; text-decoration-color: #7fbfbf\">                    </span><span style=\"color: #008000; text-decoration-color: #008000\">INFO    </span>  | num_mels: <span style=\"color: #008000; text-decoration-color: #008000\">80</span>                                                       <a href=\"file:///home/mcbrown/.manim_venv/lib/python3.10/site-packages/TTS/utils/audio/processor.py\" target=\"_blank\"><span style=\"color: #7f7f7f; text-decoration-color: #7f7f7f\">processor.py</span></a><span style=\"color: #7f7f7f; text-decoration-color: #7f7f7f\">:</span><a href=\"file:///home/mcbrown/.manim_venv/lib/python3.10/site-packages/TTS/utils/audio/processor.py#231\" target=\"_blank\"><span style=\"color: #7f7f7f; text-decoration-color: #7f7f7f\">231</span></a>\n",
       "</pre>\n"
      ],
      "text/plain": [
       "\u001b[2;36m                   \u001b[0m\u001b[2;36m \u001b[0m\u001b[32mINFO    \u001b[0m  | num_mels: \u001b[32m80\u001b[0m                                                       \u001b]8;id=499099;file:///home/mcbrown/.manim_venv/lib/python3.10/site-packages/TTS/utils/audio/processor.py\u001b\\\u001b[2mprocessor.py\u001b[0m\u001b]8;;\u001b\\\u001b[2m:\u001b[0m\u001b]8;id=523081;file:///home/mcbrown/.manim_venv/lib/python3.10/site-packages/TTS/utils/audio/processor.py#231\u001b\\\u001b[2m231\u001b[0m\u001b]8;;\u001b\\\n"
      ]
     },
     "metadata": {},
     "output_type": "display_data"
    },
    {
     "data": {
      "text/html": [
       "<pre style=\"white-space:pre;overflow-x:auto;line-height:normal;font-family:Menlo,'DejaVu Sans Mono',consolas,'Courier New',monospace\"><span style=\"color: #7fbfbf; text-decoration-color: #7fbfbf\">                    </span><span style=\"color: #008000; text-decoration-color: #008000\">INFO    </span>  | log_func: np.log                                                   <a href=\"file:///home/mcbrown/.manim_venv/lib/python3.10/site-packages/TTS/utils/audio/processor.py\" target=\"_blank\"><span style=\"color: #7f7f7f; text-decoration-color: #7f7f7f\">processor.py</span></a><span style=\"color: #7f7f7f; text-decoration-color: #7f7f7f\">:</span><a href=\"file:///home/mcbrown/.manim_venv/lib/python3.10/site-packages/TTS/utils/audio/processor.py#231\" target=\"_blank\"><span style=\"color: #7f7f7f; text-decoration-color: #7f7f7f\">231</span></a>\n",
       "</pre>\n"
      ],
      "text/plain": [
       "\u001b[2;36m                   \u001b[0m\u001b[2;36m \u001b[0m\u001b[32mINFO    \u001b[0m  | log_func: np.log                                                   \u001b]8;id=272495;file:///home/mcbrown/.manim_venv/lib/python3.10/site-packages/TTS/utils/audio/processor.py\u001b\\\u001b[2mprocessor.py\u001b[0m\u001b]8;;\u001b\\\u001b[2m:\u001b[0m\u001b]8;id=914239;file:///home/mcbrown/.manim_venv/lib/python3.10/site-packages/TTS/utils/audio/processor.py#231\u001b\\\u001b[2m231\u001b[0m\u001b]8;;\u001b\\\n"
      ]
     },
     "metadata": {},
     "output_type": "display_data"
    },
    {
     "data": {
      "text/html": [
       "<pre style=\"white-space:pre;overflow-x:auto;line-height:normal;font-family:Menlo,'DejaVu Sans Mono',consolas,'Courier New',monospace\"><span style=\"color: #7fbfbf; text-decoration-color: #7fbfbf\">                    </span><span style=\"color: #008000; text-decoration-color: #008000\">INFO    </span>  | min_level_db: <span style=\"color: #008000; text-decoration-color: #008000\">-100</span>                                                 <a href=\"file:///home/mcbrown/.manim_venv/lib/python3.10/site-packages/TTS/utils/audio/processor.py\" target=\"_blank\"><span style=\"color: #7f7f7f; text-decoration-color: #7f7f7f\">processor.py</span></a><span style=\"color: #7f7f7f; text-decoration-color: #7f7f7f\">:</span><a href=\"file:///home/mcbrown/.manim_venv/lib/python3.10/site-packages/TTS/utils/audio/processor.py#231\" target=\"_blank\"><span style=\"color: #7f7f7f; text-decoration-color: #7f7f7f\">231</span></a>\n",
       "</pre>\n"
      ],
      "text/plain": [
       "\u001b[2;36m                   \u001b[0m\u001b[2;36m \u001b[0m\u001b[32mINFO    \u001b[0m  | min_level_db: \u001b[32m-100\u001b[0m                                                 \u001b]8;id=237268;file:///home/mcbrown/.manim_venv/lib/python3.10/site-packages/TTS/utils/audio/processor.py\u001b\\\u001b[2mprocessor.py\u001b[0m\u001b]8;;\u001b\\\u001b[2m:\u001b[0m\u001b]8;id=210188;file:///home/mcbrown/.manim_venv/lib/python3.10/site-packages/TTS/utils/audio/processor.py#231\u001b\\\u001b[2m231\u001b[0m\u001b]8;;\u001b\\\n"
      ]
     },
     "metadata": {},
     "output_type": "display_data"
    },
    {
     "data": {
      "text/html": [
       "<pre style=\"white-space:pre;overflow-x:auto;line-height:normal;font-family:Menlo,'DejaVu Sans Mono',consolas,'Courier New',monospace\"><span style=\"color: #7fbfbf; text-decoration-color: #7fbfbf\">                    </span><span style=\"color: #008000; text-decoration-color: #008000\">INFO    </span>  | frame_shift_ms: <span style=\"color: #800080; text-decoration-color: #800080; font-style: italic\">None</span>                                               <a href=\"file:///home/mcbrown/.manim_venv/lib/python3.10/site-packages/TTS/utils/audio/processor.py\" target=\"_blank\"><span style=\"color: #7f7f7f; text-decoration-color: #7f7f7f\">processor.py</span></a><span style=\"color: #7f7f7f; text-decoration-color: #7f7f7f\">:</span><a href=\"file:///home/mcbrown/.manim_venv/lib/python3.10/site-packages/TTS/utils/audio/processor.py#231\" target=\"_blank\"><span style=\"color: #7f7f7f; text-decoration-color: #7f7f7f\">231</span></a>\n",
       "</pre>\n"
      ],
      "text/plain": [
       "\u001b[2;36m                   \u001b[0m\u001b[2;36m \u001b[0m\u001b[32mINFO    \u001b[0m  | frame_shift_ms: \u001b[3;35mNone\u001b[0m                                               \u001b]8;id=368617;file:///home/mcbrown/.manim_venv/lib/python3.10/site-packages/TTS/utils/audio/processor.py\u001b\\\u001b[2mprocessor.py\u001b[0m\u001b]8;;\u001b\\\u001b[2m:\u001b[0m\u001b]8;id=333428;file:///home/mcbrown/.manim_venv/lib/python3.10/site-packages/TTS/utils/audio/processor.py#231\u001b\\\u001b[2m231\u001b[0m\u001b]8;;\u001b\\\n"
      ]
     },
     "metadata": {},
     "output_type": "display_data"
    },
    {
     "data": {
      "text/html": [
       "<pre style=\"white-space:pre;overflow-x:auto;line-height:normal;font-family:Menlo,'DejaVu Sans Mono',consolas,'Courier New',monospace\"><span style=\"color: #7fbfbf; text-decoration-color: #7fbfbf\">                    </span><span style=\"color: #008000; text-decoration-color: #008000\">INFO    </span>  | frame_length_ms: <span style=\"color: #800080; text-decoration-color: #800080; font-style: italic\">None</span>                                              <a href=\"file:///home/mcbrown/.manim_venv/lib/python3.10/site-packages/TTS/utils/audio/processor.py\" target=\"_blank\"><span style=\"color: #7f7f7f; text-decoration-color: #7f7f7f\">processor.py</span></a><span style=\"color: #7f7f7f; text-decoration-color: #7f7f7f\">:</span><a href=\"file:///home/mcbrown/.manim_venv/lib/python3.10/site-packages/TTS/utils/audio/processor.py#231\" target=\"_blank\"><span style=\"color: #7f7f7f; text-decoration-color: #7f7f7f\">231</span></a>\n",
       "</pre>\n"
      ],
      "text/plain": [
       "\u001b[2;36m                   \u001b[0m\u001b[2;36m \u001b[0m\u001b[32mINFO    \u001b[0m  | frame_length_ms: \u001b[3;35mNone\u001b[0m                                              \u001b]8;id=693785;file:///home/mcbrown/.manim_venv/lib/python3.10/site-packages/TTS/utils/audio/processor.py\u001b\\\u001b[2mprocessor.py\u001b[0m\u001b]8;;\u001b\\\u001b[2m:\u001b[0m\u001b]8;id=592565;file:///home/mcbrown/.manim_venv/lib/python3.10/site-packages/TTS/utils/audio/processor.py#231\u001b\\\u001b[2m231\u001b[0m\u001b]8;;\u001b\\\n"
      ]
     },
     "metadata": {},
     "output_type": "display_data"
    },
    {
     "data": {
      "text/html": [
       "<pre style=\"white-space:pre;overflow-x:auto;line-height:normal;font-family:Menlo,'DejaVu Sans Mono',consolas,'Courier New',monospace\"><span style=\"color: #7fbfbf; text-decoration-color: #7fbfbf\">                    </span><span style=\"color: #008000; text-decoration-color: #008000\">INFO    </span>  | ref_level_db: <span style=\"color: #008000; text-decoration-color: #008000\">20</span>                                                   <a href=\"file:///home/mcbrown/.manim_venv/lib/python3.10/site-packages/TTS/utils/audio/processor.py\" target=\"_blank\"><span style=\"color: #7f7f7f; text-decoration-color: #7f7f7f\">processor.py</span></a><span style=\"color: #7f7f7f; text-decoration-color: #7f7f7f\">:</span><a href=\"file:///home/mcbrown/.manim_venv/lib/python3.10/site-packages/TTS/utils/audio/processor.py#231\" target=\"_blank\"><span style=\"color: #7f7f7f; text-decoration-color: #7f7f7f\">231</span></a>\n",
       "</pre>\n"
      ],
      "text/plain": [
       "\u001b[2;36m                   \u001b[0m\u001b[2;36m \u001b[0m\u001b[32mINFO    \u001b[0m  | ref_level_db: \u001b[32m20\u001b[0m                                                   \u001b]8;id=814574;file:///home/mcbrown/.manim_venv/lib/python3.10/site-packages/TTS/utils/audio/processor.py\u001b\\\u001b[2mprocessor.py\u001b[0m\u001b]8;;\u001b\\\u001b[2m:\u001b[0m\u001b]8;id=490063;file:///home/mcbrown/.manim_venv/lib/python3.10/site-packages/TTS/utils/audio/processor.py#231\u001b\\\u001b[2m231\u001b[0m\u001b]8;;\u001b\\\n"
      ]
     },
     "metadata": {},
     "output_type": "display_data"
    },
    {
     "data": {
      "text/html": [
       "<pre style=\"white-space:pre;overflow-x:auto;line-height:normal;font-family:Menlo,'DejaVu Sans Mono',consolas,'Courier New',monospace\"><span style=\"color: #7fbfbf; text-decoration-color: #7fbfbf\">                    </span><span style=\"color: #008000; text-decoration-color: #008000\">INFO    </span>  | fft_size: <span style=\"color: #008000; text-decoration-color: #008000\">1024</span>                                                     <a href=\"file:///home/mcbrown/.manim_venv/lib/python3.10/site-packages/TTS/utils/audio/processor.py\" target=\"_blank\"><span style=\"color: #7f7f7f; text-decoration-color: #7f7f7f\">processor.py</span></a><span style=\"color: #7f7f7f; text-decoration-color: #7f7f7f\">:</span><a href=\"file:///home/mcbrown/.manim_venv/lib/python3.10/site-packages/TTS/utils/audio/processor.py#231\" target=\"_blank\"><span style=\"color: #7f7f7f; text-decoration-color: #7f7f7f\">231</span></a>\n",
       "</pre>\n"
      ],
      "text/plain": [
       "\u001b[2;36m                   \u001b[0m\u001b[2;36m \u001b[0m\u001b[32mINFO    \u001b[0m  | fft_size: \u001b[32m1024\u001b[0m                                                     \u001b]8;id=778618;file:///home/mcbrown/.manim_venv/lib/python3.10/site-packages/TTS/utils/audio/processor.py\u001b\\\u001b[2mprocessor.py\u001b[0m\u001b]8;;\u001b\\\u001b[2m:\u001b[0m\u001b]8;id=808460;file:///home/mcbrown/.manim_venv/lib/python3.10/site-packages/TTS/utils/audio/processor.py#231\u001b\\\u001b[2m231\u001b[0m\u001b]8;;\u001b\\\n"
      ]
     },
     "metadata": {},
     "output_type": "display_data"
    },
    {
     "data": {
      "text/html": [
       "<pre style=\"white-space:pre;overflow-x:auto;line-height:normal;font-family:Menlo,'DejaVu Sans Mono',consolas,'Courier New',monospace\"><span style=\"color: #7fbfbf; text-decoration-color: #7fbfbf\">                    </span><span style=\"color: #008000; text-decoration-color: #008000\">INFO    </span>  | power: <span style=\"color: #008000; text-decoration-color: #008000\">1.5</span>                                                         <a href=\"file:///home/mcbrown/.manim_venv/lib/python3.10/site-packages/TTS/utils/audio/processor.py\" target=\"_blank\"><span style=\"color: #7f7f7f; text-decoration-color: #7f7f7f\">processor.py</span></a><span style=\"color: #7f7f7f; text-decoration-color: #7f7f7f\">:</span><a href=\"file:///home/mcbrown/.manim_venv/lib/python3.10/site-packages/TTS/utils/audio/processor.py#231\" target=\"_blank\"><span style=\"color: #7f7f7f; text-decoration-color: #7f7f7f\">231</span></a>\n",
       "</pre>\n"
      ],
      "text/plain": [
       "\u001b[2;36m                   \u001b[0m\u001b[2;36m \u001b[0m\u001b[32mINFO    \u001b[0m  | power: \u001b[32m1.5\u001b[0m                                                         \u001b]8;id=382343;file:///home/mcbrown/.manim_venv/lib/python3.10/site-packages/TTS/utils/audio/processor.py\u001b\\\u001b[2mprocessor.py\u001b[0m\u001b]8;;\u001b\\\u001b[2m:\u001b[0m\u001b]8;id=109241;file:///home/mcbrown/.manim_venv/lib/python3.10/site-packages/TTS/utils/audio/processor.py#231\u001b\\\u001b[2m231\u001b[0m\u001b]8;;\u001b\\\n"
      ]
     },
     "metadata": {},
     "output_type": "display_data"
    },
    {
     "data": {
      "text/html": [
       "<pre style=\"white-space:pre;overflow-x:auto;line-height:normal;font-family:Menlo,'DejaVu Sans Mono',consolas,'Courier New',monospace\"><span style=\"color: #7fbfbf; text-decoration-color: #7fbfbf\">                    </span><span style=\"color: #008000; text-decoration-color: #008000\">INFO    </span>  | preemphasis: <span style=\"color: #008000; text-decoration-color: #008000\">0.0</span>                                                   <a href=\"file:///home/mcbrown/.manim_venv/lib/python3.10/site-packages/TTS/utils/audio/processor.py\" target=\"_blank\"><span style=\"color: #7f7f7f; text-decoration-color: #7f7f7f\">processor.py</span></a><span style=\"color: #7f7f7f; text-decoration-color: #7f7f7f\">:</span><a href=\"file:///home/mcbrown/.manim_venv/lib/python3.10/site-packages/TTS/utils/audio/processor.py#231\" target=\"_blank\"><span style=\"color: #7f7f7f; text-decoration-color: #7f7f7f\">231</span></a>\n",
       "</pre>\n"
      ],
      "text/plain": [
       "\u001b[2;36m                   \u001b[0m\u001b[2;36m \u001b[0m\u001b[32mINFO    \u001b[0m  | preemphasis: \u001b[32m0.0\u001b[0m                                                   \u001b]8;id=215780;file:///home/mcbrown/.manim_venv/lib/python3.10/site-packages/TTS/utils/audio/processor.py\u001b\\\u001b[2mprocessor.py\u001b[0m\u001b]8;;\u001b\\\u001b[2m:\u001b[0m\u001b]8;id=178512;file:///home/mcbrown/.manim_venv/lib/python3.10/site-packages/TTS/utils/audio/processor.py#231\u001b\\\u001b[2m231\u001b[0m\u001b]8;;\u001b\\\n"
      ]
     },
     "metadata": {},
     "output_type": "display_data"
    },
    {
     "data": {
      "text/html": [
       "<pre style=\"white-space:pre;overflow-x:auto;line-height:normal;font-family:Menlo,'DejaVu Sans Mono',consolas,'Courier New',monospace\"><span style=\"color: #7fbfbf; text-decoration-color: #7fbfbf\">                    </span><span style=\"color: #008000; text-decoration-color: #008000\">INFO    </span>  | griffin_lim_iters: <span style=\"color: #008000; text-decoration-color: #008000\">60</span>                                              <a href=\"file:///home/mcbrown/.manim_venv/lib/python3.10/site-packages/TTS/utils/audio/processor.py\" target=\"_blank\"><span style=\"color: #7f7f7f; text-decoration-color: #7f7f7f\">processor.py</span></a><span style=\"color: #7f7f7f; text-decoration-color: #7f7f7f\">:</span><a href=\"file:///home/mcbrown/.manim_venv/lib/python3.10/site-packages/TTS/utils/audio/processor.py#231\" target=\"_blank\"><span style=\"color: #7f7f7f; text-decoration-color: #7f7f7f\">231</span></a>\n",
       "</pre>\n"
      ],
      "text/plain": [
       "\u001b[2;36m                   \u001b[0m\u001b[2;36m \u001b[0m\u001b[32mINFO    \u001b[0m  | griffin_lim_iters: \u001b[32m60\u001b[0m                                              \u001b]8;id=915659;file:///home/mcbrown/.manim_venv/lib/python3.10/site-packages/TTS/utils/audio/processor.py\u001b\\\u001b[2mprocessor.py\u001b[0m\u001b]8;;\u001b\\\u001b[2m:\u001b[0m\u001b]8;id=17992;file:///home/mcbrown/.manim_venv/lib/python3.10/site-packages/TTS/utils/audio/processor.py#231\u001b\\\u001b[2m231\u001b[0m\u001b]8;;\u001b\\\n"
      ]
     },
     "metadata": {},
     "output_type": "display_data"
    },
    {
     "data": {
      "text/html": [
       "<pre style=\"white-space:pre;overflow-x:auto;line-height:normal;font-family:Menlo,'DejaVu Sans Mono',consolas,'Courier New',monospace\"><span style=\"color: #7fbfbf; text-decoration-color: #7fbfbf\">                    </span><span style=\"color: #008000; text-decoration-color: #008000\">INFO    </span>  | signal_norm: <span style=\"color: #ff0000; text-decoration-color: #ff0000; font-style: italic\">False</span>                                                 <a href=\"file:///home/mcbrown/.manim_venv/lib/python3.10/site-packages/TTS/utils/audio/processor.py\" target=\"_blank\"><span style=\"color: #7f7f7f; text-decoration-color: #7f7f7f\">processor.py</span></a><span style=\"color: #7f7f7f; text-decoration-color: #7f7f7f\">:</span><a href=\"file:///home/mcbrown/.manim_venv/lib/python3.10/site-packages/TTS/utils/audio/processor.py#231\" target=\"_blank\"><span style=\"color: #7f7f7f; text-decoration-color: #7f7f7f\">231</span></a>\n",
       "</pre>\n"
      ],
      "text/plain": [
       "\u001b[2;36m                   \u001b[0m\u001b[2;36m \u001b[0m\u001b[32mINFO    \u001b[0m  | signal_norm: \u001b[3;91mFalse\u001b[0m                                                 \u001b]8;id=879606;file:///home/mcbrown/.manim_venv/lib/python3.10/site-packages/TTS/utils/audio/processor.py\u001b\\\u001b[2mprocessor.py\u001b[0m\u001b]8;;\u001b\\\u001b[2m:\u001b[0m\u001b]8;id=345465;file:///home/mcbrown/.manim_venv/lib/python3.10/site-packages/TTS/utils/audio/processor.py#231\u001b\\\u001b[2m231\u001b[0m\u001b]8;;\u001b\\\n"
      ]
     },
     "metadata": {},
     "output_type": "display_data"
    },
    {
     "data": {
      "text/html": [
       "<pre style=\"white-space:pre;overflow-x:auto;line-height:normal;font-family:Menlo,'DejaVu Sans Mono',consolas,'Courier New',monospace\"><span style=\"color: #7fbfbf; text-decoration-color: #7fbfbf\">                    </span><span style=\"color: #008000; text-decoration-color: #008000\">INFO    </span>  | symmetric_norm: <span style=\"color: #00ff00; text-decoration-color: #00ff00; font-style: italic\">True</span>                                               <a href=\"file:///home/mcbrown/.manim_venv/lib/python3.10/site-packages/TTS/utils/audio/processor.py\" target=\"_blank\"><span style=\"color: #7f7f7f; text-decoration-color: #7f7f7f\">processor.py</span></a><span style=\"color: #7f7f7f; text-decoration-color: #7f7f7f\">:</span><a href=\"file:///home/mcbrown/.manim_venv/lib/python3.10/site-packages/TTS/utils/audio/processor.py#231\" target=\"_blank\"><span style=\"color: #7f7f7f; text-decoration-color: #7f7f7f\">231</span></a>\n",
       "</pre>\n"
      ],
      "text/plain": [
       "\u001b[2;36m                   \u001b[0m\u001b[2;36m \u001b[0m\u001b[32mINFO    \u001b[0m  | symmetric_norm: \u001b[3;92mTrue\u001b[0m                                               \u001b]8;id=96879;file:///home/mcbrown/.manim_venv/lib/python3.10/site-packages/TTS/utils/audio/processor.py\u001b\\\u001b[2mprocessor.py\u001b[0m\u001b]8;;\u001b\\\u001b[2m:\u001b[0m\u001b]8;id=642229;file:///home/mcbrown/.manim_venv/lib/python3.10/site-packages/TTS/utils/audio/processor.py#231\u001b\\\u001b[2m231\u001b[0m\u001b]8;;\u001b\\\n"
      ]
     },
     "metadata": {},
     "output_type": "display_data"
    },
    {
     "data": {
      "text/html": [
       "<pre style=\"white-space:pre;overflow-x:auto;line-height:normal;font-family:Menlo,'DejaVu Sans Mono',consolas,'Courier New',monospace\"><span style=\"color: #7fbfbf; text-decoration-color: #7fbfbf\">                    </span><span style=\"color: #008000; text-decoration-color: #008000\">INFO    </span>  | mel_fmin: <span style=\"color: #008000; text-decoration-color: #008000\">0</span>                                                        <a href=\"file:///home/mcbrown/.manim_venv/lib/python3.10/site-packages/TTS/utils/audio/processor.py\" target=\"_blank\"><span style=\"color: #7f7f7f; text-decoration-color: #7f7f7f\">processor.py</span></a><span style=\"color: #7f7f7f; text-decoration-color: #7f7f7f\">:</span><a href=\"file:///home/mcbrown/.manim_venv/lib/python3.10/site-packages/TTS/utils/audio/processor.py#231\" target=\"_blank\"><span style=\"color: #7f7f7f; text-decoration-color: #7f7f7f\">231</span></a>\n",
       "</pre>\n"
      ],
      "text/plain": [
       "\u001b[2;36m                   \u001b[0m\u001b[2;36m \u001b[0m\u001b[32mINFO    \u001b[0m  | mel_fmin: \u001b[32m0\u001b[0m                                                        \u001b]8;id=571125;file:///home/mcbrown/.manim_venv/lib/python3.10/site-packages/TTS/utils/audio/processor.py\u001b\\\u001b[2mprocessor.py\u001b[0m\u001b]8;;\u001b\\\u001b[2m:\u001b[0m\u001b]8;id=92026;file:///home/mcbrown/.manim_venv/lib/python3.10/site-packages/TTS/utils/audio/processor.py#231\u001b\\\u001b[2m231\u001b[0m\u001b]8;;\u001b\\\n"
      ]
     },
     "metadata": {},
     "output_type": "display_data"
    },
    {
     "data": {
      "text/html": [
       "<pre style=\"white-space:pre;overflow-x:auto;line-height:normal;font-family:Menlo,'DejaVu Sans Mono',consolas,'Courier New',monospace\"><span style=\"color: #7fbfbf; text-decoration-color: #7fbfbf\">                    </span><span style=\"color: #008000; text-decoration-color: #008000\">INFO    </span>  | mel_fmax: <span style=\"color: #008000; text-decoration-color: #008000\">8000.0</span>                                                   <a href=\"file:///home/mcbrown/.manim_venv/lib/python3.10/site-packages/TTS/utils/audio/processor.py\" target=\"_blank\"><span style=\"color: #7f7f7f; text-decoration-color: #7f7f7f\">processor.py</span></a><span style=\"color: #7f7f7f; text-decoration-color: #7f7f7f\">:</span><a href=\"file:///home/mcbrown/.manim_venv/lib/python3.10/site-packages/TTS/utils/audio/processor.py#231\" target=\"_blank\"><span style=\"color: #7f7f7f; text-decoration-color: #7f7f7f\">231</span></a>\n",
       "</pre>\n"
      ],
      "text/plain": [
       "\u001b[2;36m                   \u001b[0m\u001b[2;36m \u001b[0m\u001b[32mINFO    \u001b[0m  | mel_fmax: \u001b[32m8000.0\u001b[0m                                                   \u001b]8;id=533739;file:///home/mcbrown/.manim_venv/lib/python3.10/site-packages/TTS/utils/audio/processor.py\u001b\\\u001b[2mprocessor.py\u001b[0m\u001b]8;;\u001b\\\u001b[2m:\u001b[0m\u001b]8;id=713879;file:///home/mcbrown/.manim_venv/lib/python3.10/site-packages/TTS/utils/audio/processor.py#231\u001b\\\u001b[2m231\u001b[0m\u001b]8;;\u001b\\\n"
      ]
     },
     "metadata": {},
     "output_type": "display_data"
    },
    {
     "data": {
      "text/html": [
       "<pre style=\"white-space:pre;overflow-x:auto;line-height:normal;font-family:Menlo,'DejaVu Sans Mono',consolas,'Courier New',monospace\"><span style=\"color: #7fbfbf; text-decoration-color: #7fbfbf\">                    </span><span style=\"color: #008000; text-decoration-color: #008000\">INFO    </span>  | pitch_fmin: <span style=\"color: #008000; text-decoration-color: #008000\">1.0</span>                                                    <a href=\"file:///home/mcbrown/.manim_venv/lib/python3.10/site-packages/TTS/utils/audio/processor.py\" target=\"_blank\"><span style=\"color: #7f7f7f; text-decoration-color: #7f7f7f\">processor.py</span></a><span style=\"color: #7f7f7f; text-decoration-color: #7f7f7f\">:</span><a href=\"file:///home/mcbrown/.manim_venv/lib/python3.10/site-packages/TTS/utils/audio/processor.py#231\" target=\"_blank\"><span style=\"color: #7f7f7f; text-decoration-color: #7f7f7f\">231</span></a>\n",
       "</pre>\n"
      ],
      "text/plain": [
       "\u001b[2;36m                   \u001b[0m\u001b[2;36m \u001b[0m\u001b[32mINFO    \u001b[0m  | pitch_fmin: \u001b[32m1.0\u001b[0m                                                    \u001b]8;id=733318;file:///home/mcbrown/.manim_venv/lib/python3.10/site-packages/TTS/utils/audio/processor.py\u001b\\\u001b[2mprocessor.py\u001b[0m\u001b]8;;\u001b\\\u001b[2m:\u001b[0m\u001b]8;id=905252;file:///home/mcbrown/.manim_venv/lib/python3.10/site-packages/TTS/utils/audio/processor.py#231\u001b\\\u001b[2m231\u001b[0m\u001b]8;;\u001b\\\n"
      ]
     },
     "metadata": {},
     "output_type": "display_data"
    },
    {
     "data": {
      "text/html": [
       "<pre style=\"white-space:pre;overflow-x:auto;line-height:normal;font-family:Menlo,'DejaVu Sans Mono',consolas,'Courier New',monospace\"><span style=\"color: #7fbfbf; text-decoration-color: #7fbfbf\">                    </span><span style=\"color: #008000; text-decoration-color: #008000\">INFO    </span>  | pitch_fmax: <span style=\"color: #008000; text-decoration-color: #008000\">640.0</span>                                                  <a href=\"file:///home/mcbrown/.manim_venv/lib/python3.10/site-packages/TTS/utils/audio/processor.py\" target=\"_blank\"><span style=\"color: #7f7f7f; text-decoration-color: #7f7f7f\">processor.py</span></a><span style=\"color: #7f7f7f; text-decoration-color: #7f7f7f\">:</span><a href=\"file:///home/mcbrown/.manim_venv/lib/python3.10/site-packages/TTS/utils/audio/processor.py#231\" target=\"_blank\"><span style=\"color: #7f7f7f; text-decoration-color: #7f7f7f\">231</span></a>\n",
       "</pre>\n"
      ],
      "text/plain": [
       "\u001b[2;36m                   \u001b[0m\u001b[2;36m \u001b[0m\u001b[32mINFO    \u001b[0m  | pitch_fmax: \u001b[32m640.0\u001b[0m                                                  \u001b]8;id=692819;file:///home/mcbrown/.manim_venv/lib/python3.10/site-packages/TTS/utils/audio/processor.py\u001b\\\u001b[2mprocessor.py\u001b[0m\u001b]8;;\u001b\\\u001b[2m:\u001b[0m\u001b]8;id=119746;file:///home/mcbrown/.manim_venv/lib/python3.10/site-packages/TTS/utils/audio/processor.py#231\u001b\\\u001b[2m231\u001b[0m\u001b]8;;\u001b\\\n"
      ]
     },
     "metadata": {},
     "output_type": "display_data"
    },
    {
     "data": {
      "text/html": [
       "<pre style=\"white-space:pre;overflow-x:auto;line-height:normal;font-family:Menlo,'DejaVu Sans Mono',consolas,'Courier New',monospace\"><span style=\"color: #7fbfbf; text-decoration-color: #7fbfbf\">                    </span><span style=\"color: #008000; text-decoration-color: #008000\">INFO    </span>  | spec_gain: <span style=\"color: #008000; text-decoration-color: #008000\">1.0</span>                                                     <a href=\"file:///home/mcbrown/.manim_venv/lib/python3.10/site-packages/TTS/utils/audio/processor.py\" target=\"_blank\"><span style=\"color: #7f7f7f; text-decoration-color: #7f7f7f\">processor.py</span></a><span style=\"color: #7f7f7f; text-decoration-color: #7f7f7f\">:</span><a href=\"file:///home/mcbrown/.manim_venv/lib/python3.10/site-packages/TTS/utils/audio/processor.py#231\" target=\"_blank\"><span style=\"color: #7f7f7f; text-decoration-color: #7f7f7f\">231</span></a>\n",
       "</pre>\n"
      ],
      "text/plain": [
       "\u001b[2;36m                   \u001b[0m\u001b[2;36m \u001b[0m\u001b[32mINFO    \u001b[0m  | spec_gain: \u001b[32m1.0\u001b[0m                                                     \u001b]8;id=920205;file:///home/mcbrown/.manim_venv/lib/python3.10/site-packages/TTS/utils/audio/processor.py\u001b\\\u001b[2mprocessor.py\u001b[0m\u001b]8;;\u001b\\\u001b[2m:\u001b[0m\u001b]8;id=775060;file:///home/mcbrown/.manim_venv/lib/python3.10/site-packages/TTS/utils/audio/processor.py#231\u001b\\\u001b[2m231\u001b[0m\u001b]8;;\u001b\\\n"
      ]
     },
     "metadata": {},
     "output_type": "display_data"
    },
    {
     "data": {
      "text/html": [
       "<pre style=\"white-space:pre;overflow-x:auto;line-height:normal;font-family:Menlo,'DejaVu Sans Mono',consolas,'Courier New',monospace\"><span style=\"color: #7fbfbf; text-decoration-color: #7fbfbf\">                    </span><span style=\"color: #008000; text-decoration-color: #008000\">INFO    </span>  | stft_pad_mode: reflect                                             <a href=\"file:///home/mcbrown/.manim_venv/lib/python3.10/site-packages/TTS/utils/audio/processor.py\" target=\"_blank\"><span style=\"color: #7f7f7f; text-decoration-color: #7f7f7f\">processor.py</span></a><span style=\"color: #7f7f7f; text-decoration-color: #7f7f7f\">:</span><a href=\"file:///home/mcbrown/.manim_venv/lib/python3.10/site-packages/TTS/utils/audio/processor.py#231\" target=\"_blank\"><span style=\"color: #7f7f7f; text-decoration-color: #7f7f7f\">231</span></a>\n",
       "</pre>\n"
      ],
      "text/plain": [
       "\u001b[2;36m                   \u001b[0m\u001b[2;36m \u001b[0m\u001b[32mINFO    \u001b[0m  | stft_pad_mode: reflect                                             \u001b]8;id=696258;file:///home/mcbrown/.manim_venv/lib/python3.10/site-packages/TTS/utils/audio/processor.py\u001b\\\u001b[2mprocessor.py\u001b[0m\u001b]8;;\u001b\\\u001b[2m:\u001b[0m\u001b]8;id=311316;file:///home/mcbrown/.manim_venv/lib/python3.10/site-packages/TTS/utils/audio/processor.py#231\u001b\\\u001b[2m231\u001b[0m\u001b]8;;\u001b\\\n"
      ]
     },
     "metadata": {},
     "output_type": "display_data"
    },
    {
     "data": {
      "text/html": [
       "<pre style=\"white-space:pre;overflow-x:auto;line-height:normal;font-family:Menlo,'DejaVu Sans Mono',consolas,'Courier New',monospace\"><span style=\"color: #7fbfbf; text-decoration-color: #7fbfbf\">                    </span><span style=\"color: #008000; text-decoration-color: #008000\">INFO    </span>  | max_norm: <span style=\"color: #008000; text-decoration-color: #008000\">4.0</span>                                                      <a href=\"file:///home/mcbrown/.manim_venv/lib/python3.10/site-packages/TTS/utils/audio/processor.py\" target=\"_blank\"><span style=\"color: #7f7f7f; text-decoration-color: #7f7f7f\">processor.py</span></a><span style=\"color: #7f7f7f; text-decoration-color: #7f7f7f\">:</span><a href=\"file:///home/mcbrown/.manim_venv/lib/python3.10/site-packages/TTS/utils/audio/processor.py#231\" target=\"_blank\"><span style=\"color: #7f7f7f; text-decoration-color: #7f7f7f\">231</span></a>\n",
       "</pre>\n"
      ],
      "text/plain": [
       "\u001b[2;36m                   \u001b[0m\u001b[2;36m \u001b[0m\u001b[32mINFO    \u001b[0m  | max_norm: \u001b[32m4.0\u001b[0m                                                      \u001b]8;id=204395;file:///home/mcbrown/.manim_venv/lib/python3.10/site-packages/TTS/utils/audio/processor.py\u001b\\\u001b[2mprocessor.py\u001b[0m\u001b]8;;\u001b\\\u001b[2m:\u001b[0m\u001b]8;id=703203;file:///home/mcbrown/.manim_venv/lib/python3.10/site-packages/TTS/utils/audio/processor.py#231\u001b\\\u001b[2m231\u001b[0m\u001b]8;;\u001b\\\n"
      ]
     },
     "metadata": {},
     "output_type": "display_data"
    },
    {
     "data": {
      "text/html": [
       "<pre style=\"white-space:pre;overflow-x:auto;line-height:normal;font-family:Menlo,'DejaVu Sans Mono',consolas,'Courier New',monospace\"><span style=\"color: #7fbfbf; text-decoration-color: #7fbfbf\">                    </span><span style=\"color: #008000; text-decoration-color: #008000\">INFO    </span>  | clip_norm: <span style=\"color: #00ff00; text-decoration-color: #00ff00; font-style: italic\">True</span>                                                    <a href=\"file:///home/mcbrown/.manim_venv/lib/python3.10/site-packages/TTS/utils/audio/processor.py\" target=\"_blank\"><span style=\"color: #7f7f7f; text-decoration-color: #7f7f7f\">processor.py</span></a><span style=\"color: #7f7f7f; text-decoration-color: #7f7f7f\">:</span><a href=\"file:///home/mcbrown/.manim_venv/lib/python3.10/site-packages/TTS/utils/audio/processor.py#231\" target=\"_blank\"><span style=\"color: #7f7f7f; text-decoration-color: #7f7f7f\">231</span></a>\n",
       "</pre>\n"
      ],
      "text/plain": [
       "\u001b[2;36m                   \u001b[0m\u001b[2;36m \u001b[0m\u001b[32mINFO    \u001b[0m  | clip_norm: \u001b[3;92mTrue\u001b[0m                                                    \u001b]8;id=103982;file:///home/mcbrown/.manim_venv/lib/python3.10/site-packages/TTS/utils/audio/processor.py\u001b\\\u001b[2mprocessor.py\u001b[0m\u001b]8;;\u001b\\\u001b[2m:\u001b[0m\u001b]8;id=878055;file:///home/mcbrown/.manim_venv/lib/python3.10/site-packages/TTS/utils/audio/processor.py#231\u001b\\\u001b[2m231\u001b[0m\u001b]8;;\u001b\\\n"
      ]
     },
     "metadata": {},
     "output_type": "display_data"
    },
    {
     "data": {
      "text/html": [
       "<pre style=\"white-space:pre;overflow-x:auto;line-height:normal;font-family:Menlo,'DejaVu Sans Mono',consolas,'Courier New',monospace\"><span style=\"color: #7fbfbf; text-decoration-color: #7fbfbf\">                    </span><span style=\"color: #008000; text-decoration-color: #008000\">INFO    </span>  | do_trim_silence: <span style=\"color: #00ff00; text-decoration-color: #00ff00; font-style: italic\">True</span>                                              <a href=\"file:///home/mcbrown/.manim_venv/lib/python3.10/site-packages/TTS/utils/audio/processor.py\" target=\"_blank\"><span style=\"color: #7f7f7f; text-decoration-color: #7f7f7f\">processor.py</span></a><span style=\"color: #7f7f7f; text-decoration-color: #7f7f7f\">:</span><a href=\"file:///home/mcbrown/.manim_venv/lib/python3.10/site-packages/TTS/utils/audio/processor.py#231\" target=\"_blank\"><span style=\"color: #7f7f7f; text-decoration-color: #7f7f7f\">231</span></a>\n",
       "</pre>\n"
      ],
      "text/plain": [
       "\u001b[2;36m                   \u001b[0m\u001b[2;36m \u001b[0m\u001b[32mINFO    \u001b[0m  | do_trim_silence: \u001b[3;92mTrue\u001b[0m                                              \u001b]8;id=894743;file:///home/mcbrown/.manim_venv/lib/python3.10/site-packages/TTS/utils/audio/processor.py\u001b\\\u001b[2mprocessor.py\u001b[0m\u001b]8;;\u001b\\\u001b[2m:\u001b[0m\u001b]8;id=421620;file:///home/mcbrown/.manim_venv/lib/python3.10/site-packages/TTS/utils/audio/processor.py#231\u001b\\\u001b[2m231\u001b[0m\u001b]8;;\u001b\\\n"
      ]
     },
     "metadata": {},
     "output_type": "display_data"
    },
    {
     "data": {
      "text/html": [
       "<pre style=\"white-space:pre;overflow-x:auto;line-height:normal;font-family:Menlo,'DejaVu Sans Mono',consolas,'Courier New',monospace\"><span style=\"color: #7fbfbf; text-decoration-color: #7fbfbf\">                    </span><span style=\"color: #008000; text-decoration-color: #008000\">INFO    </span>  | trim_db: <span style=\"color: #008000; text-decoration-color: #008000\">60</span>                                                        <a href=\"file:///home/mcbrown/.manim_venv/lib/python3.10/site-packages/TTS/utils/audio/processor.py\" target=\"_blank\"><span style=\"color: #7f7f7f; text-decoration-color: #7f7f7f\">processor.py</span></a><span style=\"color: #7f7f7f; text-decoration-color: #7f7f7f\">:</span><a href=\"file:///home/mcbrown/.manim_venv/lib/python3.10/site-packages/TTS/utils/audio/processor.py#231\" target=\"_blank\"><span style=\"color: #7f7f7f; text-decoration-color: #7f7f7f\">231</span></a>\n",
       "</pre>\n"
      ],
      "text/plain": [
       "\u001b[2;36m                   \u001b[0m\u001b[2;36m \u001b[0m\u001b[32mINFO    \u001b[0m  | trim_db: \u001b[32m60\u001b[0m                                                        \u001b]8;id=785641;file:///home/mcbrown/.manim_venv/lib/python3.10/site-packages/TTS/utils/audio/processor.py\u001b\\\u001b[2mprocessor.py\u001b[0m\u001b]8;;\u001b\\\u001b[2m:\u001b[0m\u001b]8;id=779519;file:///home/mcbrown/.manim_venv/lib/python3.10/site-packages/TTS/utils/audio/processor.py#231\u001b\\\u001b[2m231\u001b[0m\u001b]8;;\u001b\\\n"
      ]
     },
     "metadata": {},
     "output_type": "display_data"
    },
    {
     "data": {
      "text/html": [
       "<pre style=\"white-space:pre;overflow-x:auto;line-height:normal;font-family:Menlo,'DejaVu Sans Mono',consolas,'Courier New',monospace\"><span style=\"color: #7fbfbf; text-decoration-color: #7fbfbf\">                    </span><span style=\"color: #008000; text-decoration-color: #008000\">INFO    </span>  | do_sound_norm: <span style=\"color: #ff0000; text-decoration-color: #ff0000; font-style: italic\">False</span>                                               <a href=\"file:///home/mcbrown/.manim_venv/lib/python3.10/site-packages/TTS/utils/audio/processor.py\" target=\"_blank\"><span style=\"color: #7f7f7f; text-decoration-color: #7f7f7f\">processor.py</span></a><span style=\"color: #7f7f7f; text-decoration-color: #7f7f7f\">:</span><a href=\"file:///home/mcbrown/.manim_venv/lib/python3.10/site-packages/TTS/utils/audio/processor.py#231\" target=\"_blank\"><span style=\"color: #7f7f7f; text-decoration-color: #7f7f7f\">231</span></a>\n",
       "</pre>\n"
      ],
      "text/plain": [
       "\u001b[2;36m                   \u001b[0m\u001b[2;36m \u001b[0m\u001b[32mINFO    \u001b[0m  | do_sound_norm: \u001b[3;91mFalse\u001b[0m                                               \u001b]8;id=868349;file:///home/mcbrown/.manim_venv/lib/python3.10/site-packages/TTS/utils/audio/processor.py\u001b\\\u001b[2mprocessor.py\u001b[0m\u001b]8;;\u001b\\\u001b[2m:\u001b[0m\u001b]8;id=569570;file:///home/mcbrown/.manim_venv/lib/python3.10/site-packages/TTS/utils/audio/processor.py#231\u001b\\\u001b[2m231\u001b[0m\u001b]8;;\u001b\\\n"
      ]
     },
     "metadata": {},
     "output_type": "display_data"
    },
    {
     "data": {
      "text/html": [
       "<pre style=\"white-space:pre;overflow-x:auto;line-height:normal;font-family:Menlo,'DejaVu Sans Mono',consolas,'Courier New',monospace\"><span style=\"color: #7fbfbf; text-decoration-color: #7fbfbf\">                    </span><span style=\"color: #008000; text-decoration-color: #008000\">INFO    </span>  | do_amp_to_db_linear: <span style=\"color: #00ff00; text-decoration-color: #00ff00; font-style: italic\">True</span>                                          <a href=\"file:///home/mcbrown/.manim_venv/lib/python3.10/site-packages/TTS/utils/audio/processor.py\" target=\"_blank\"><span style=\"color: #7f7f7f; text-decoration-color: #7f7f7f\">processor.py</span></a><span style=\"color: #7f7f7f; text-decoration-color: #7f7f7f\">:</span><a href=\"file:///home/mcbrown/.manim_venv/lib/python3.10/site-packages/TTS/utils/audio/processor.py#231\" target=\"_blank\"><span style=\"color: #7f7f7f; text-decoration-color: #7f7f7f\">231</span></a>\n",
       "</pre>\n"
      ],
      "text/plain": [
       "\u001b[2;36m                   \u001b[0m\u001b[2;36m \u001b[0m\u001b[32mINFO    \u001b[0m  | do_amp_to_db_linear: \u001b[3;92mTrue\u001b[0m                                          \u001b]8;id=699072;file:///home/mcbrown/.manim_venv/lib/python3.10/site-packages/TTS/utils/audio/processor.py\u001b\\\u001b[2mprocessor.py\u001b[0m\u001b]8;;\u001b\\\u001b[2m:\u001b[0m\u001b]8;id=992013;file:///home/mcbrown/.manim_venv/lib/python3.10/site-packages/TTS/utils/audio/processor.py#231\u001b\\\u001b[2m231\u001b[0m\u001b]8;;\u001b\\\n"
      ]
     },
     "metadata": {},
     "output_type": "display_data"
    },
    {
     "data": {
      "text/html": [
       "<pre style=\"white-space:pre;overflow-x:auto;line-height:normal;font-family:Menlo,'DejaVu Sans Mono',consolas,'Courier New',monospace\"><span style=\"color: #7fbfbf; text-decoration-color: #7fbfbf\">                    </span><span style=\"color: #008000; text-decoration-color: #008000\">INFO    </span>  | do_amp_to_db_mel: <span style=\"color: #00ff00; text-decoration-color: #00ff00; font-style: italic\">True</span>                                             <a href=\"file:///home/mcbrown/.manim_venv/lib/python3.10/site-packages/TTS/utils/audio/processor.py\" target=\"_blank\"><span style=\"color: #7f7f7f; text-decoration-color: #7f7f7f\">processor.py</span></a><span style=\"color: #7f7f7f; text-decoration-color: #7f7f7f\">:</span><a href=\"file:///home/mcbrown/.manim_venv/lib/python3.10/site-packages/TTS/utils/audio/processor.py#231\" target=\"_blank\"><span style=\"color: #7f7f7f; text-decoration-color: #7f7f7f\">231</span></a>\n",
       "</pre>\n"
      ],
      "text/plain": [
       "\u001b[2;36m                   \u001b[0m\u001b[2;36m \u001b[0m\u001b[32mINFO    \u001b[0m  | do_amp_to_db_mel: \u001b[3;92mTrue\u001b[0m                                             \u001b]8;id=143494;file:///home/mcbrown/.manim_venv/lib/python3.10/site-packages/TTS/utils/audio/processor.py\u001b\\\u001b[2mprocessor.py\u001b[0m\u001b]8;;\u001b\\\u001b[2m:\u001b[0m\u001b]8;id=139127;file:///home/mcbrown/.manim_venv/lib/python3.10/site-packages/TTS/utils/audio/processor.py#231\u001b\\\u001b[2m231\u001b[0m\u001b]8;;\u001b\\\n"
      ]
     },
     "metadata": {},
     "output_type": "display_data"
    },
    {
     "data": {
      "text/html": [
       "<pre style=\"white-space:pre;overflow-x:auto;line-height:normal;font-family:Menlo,'DejaVu Sans Mono',consolas,'Courier New',monospace\"><span style=\"color: #7fbfbf; text-decoration-color: #7fbfbf\">                    </span><span style=\"color: #008000; text-decoration-color: #008000\">INFO    </span>  | do_rms_norm: <span style=\"color: #ff0000; text-decoration-color: #ff0000; font-style: italic\">False</span>                                                 <a href=\"file:///home/mcbrown/.manim_venv/lib/python3.10/site-packages/TTS/utils/audio/processor.py\" target=\"_blank\"><span style=\"color: #7f7f7f; text-decoration-color: #7f7f7f\">processor.py</span></a><span style=\"color: #7f7f7f; text-decoration-color: #7f7f7f\">:</span><a href=\"file:///home/mcbrown/.manim_venv/lib/python3.10/site-packages/TTS/utils/audio/processor.py#231\" target=\"_blank\"><span style=\"color: #7f7f7f; text-decoration-color: #7f7f7f\">231</span></a>\n",
       "</pre>\n"
      ],
      "text/plain": [
       "\u001b[2;36m                   \u001b[0m\u001b[2;36m \u001b[0m\u001b[32mINFO    \u001b[0m  | do_rms_norm: \u001b[3;91mFalse\u001b[0m                                                 \u001b]8;id=605431;file:///home/mcbrown/.manim_venv/lib/python3.10/site-packages/TTS/utils/audio/processor.py\u001b\\\u001b[2mprocessor.py\u001b[0m\u001b]8;;\u001b\\\u001b[2m:\u001b[0m\u001b]8;id=789740;file:///home/mcbrown/.manim_venv/lib/python3.10/site-packages/TTS/utils/audio/processor.py#231\u001b\\\u001b[2m231\u001b[0m\u001b]8;;\u001b\\\n"
      ]
     },
     "metadata": {},
     "output_type": "display_data"
    },
    {
     "data": {
      "text/html": [
       "<pre style=\"white-space:pre;overflow-x:auto;line-height:normal;font-family:Menlo,'DejaVu Sans Mono',consolas,'Courier New',monospace\"><span style=\"color: #7fbfbf; text-decoration-color: #7fbfbf\">                    </span><span style=\"color: #008000; text-decoration-color: #008000\">INFO    </span>  | db_level: <span style=\"color: #800080; text-decoration-color: #800080; font-style: italic\">None</span>                                                     <a href=\"file:///home/mcbrown/.manim_venv/lib/python3.10/site-packages/TTS/utils/audio/processor.py\" target=\"_blank\"><span style=\"color: #7f7f7f; text-decoration-color: #7f7f7f\">processor.py</span></a><span style=\"color: #7f7f7f; text-decoration-color: #7f7f7f\">:</span><a href=\"file:///home/mcbrown/.manim_venv/lib/python3.10/site-packages/TTS/utils/audio/processor.py#231\" target=\"_blank\"><span style=\"color: #7f7f7f; text-decoration-color: #7f7f7f\">231</span></a>\n",
       "</pre>\n"
      ],
      "text/plain": [
       "\u001b[2;36m                   \u001b[0m\u001b[2;36m \u001b[0m\u001b[32mINFO    \u001b[0m  | db_level: \u001b[3;35mNone\u001b[0m                                                     \u001b]8;id=757380;file:///home/mcbrown/.manim_venv/lib/python3.10/site-packages/TTS/utils/audio/processor.py\u001b\\\u001b[2mprocessor.py\u001b[0m\u001b]8;;\u001b\\\u001b[2m:\u001b[0m\u001b]8;id=877301;file:///home/mcbrown/.manim_venv/lib/python3.10/site-packages/TTS/utils/audio/processor.py#231\u001b\\\u001b[2m231\u001b[0m\u001b]8;;\u001b\\\n"
      ]
     },
     "metadata": {},
     "output_type": "display_data"
    },
    {
     "data": {
      "text/html": [
       "<pre style=\"white-space:pre;overflow-x:auto;line-height:normal;font-family:Menlo,'DejaVu Sans Mono',consolas,'Courier New',monospace\"><span style=\"color: #7fbfbf; text-decoration-color: #7fbfbf\">                    </span><span style=\"color: #008000; text-decoration-color: #008000\">INFO    </span>  | stats_path: <span style=\"color: #800080; text-decoration-color: #800080; font-style: italic\">None</span>                                                   <a href=\"file:///home/mcbrown/.manim_venv/lib/python3.10/site-packages/TTS/utils/audio/processor.py\" target=\"_blank\"><span style=\"color: #7f7f7f; text-decoration-color: #7f7f7f\">processor.py</span></a><span style=\"color: #7f7f7f; text-decoration-color: #7f7f7f\">:</span><a href=\"file:///home/mcbrown/.manim_venv/lib/python3.10/site-packages/TTS/utils/audio/processor.py#231\" target=\"_blank\"><span style=\"color: #7f7f7f; text-decoration-color: #7f7f7f\">231</span></a>\n",
       "</pre>\n"
      ],
      "text/plain": [
       "\u001b[2;36m                   \u001b[0m\u001b[2;36m \u001b[0m\u001b[32mINFO    \u001b[0m  | stats_path: \u001b[3;35mNone\u001b[0m                                                   \u001b]8;id=869261;file:///home/mcbrown/.manim_venv/lib/python3.10/site-packages/TTS/utils/audio/processor.py\u001b\\\u001b[2mprocessor.py\u001b[0m\u001b]8;;\u001b\\\u001b[2m:\u001b[0m\u001b]8;id=856043;file:///home/mcbrown/.manim_venv/lib/python3.10/site-packages/TTS/utils/audio/processor.py#231\u001b\\\u001b[2m231\u001b[0m\u001b]8;;\u001b\\\n"
      ]
     },
     "metadata": {},
     "output_type": "display_data"
    },
    {
     "data": {
      "text/html": [
       "<pre style=\"white-space:pre;overflow-x:auto;line-height:normal;font-family:Menlo,'DejaVu Sans Mono',consolas,'Courier New',monospace\"><span style=\"color: #7fbfbf; text-decoration-color: #7fbfbf\">                    </span><span style=\"color: #008000; text-decoration-color: #008000\">INFO    </span>  | base: <span style=\"color: #008000; text-decoration-color: #008000\">2.718281828459045</span>                                            <a href=\"file:///home/mcbrown/.manim_venv/lib/python3.10/site-packages/TTS/utils/audio/processor.py\" target=\"_blank\"><span style=\"color: #7f7f7f; text-decoration-color: #7f7f7f\">processor.py</span></a><span style=\"color: #7f7f7f; text-decoration-color: #7f7f7f\">:</span><a href=\"file:///home/mcbrown/.manim_venv/lib/python3.10/site-packages/TTS/utils/audio/processor.py#231\" target=\"_blank\"><span style=\"color: #7f7f7f; text-decoration-color: #7f7f7f\">231</span></a>\n",
       "</pre>\n"
      ],
      "text/plain": [
       "\u001b[2;36m                   \u001b[0m\u001b[2;36m \u001b[0m\u001b[32mINFO    \u001b[0m  | base: \u001b[32m2.718281828459045\u001b[0m                                            \u001b]8;id=708064;file:///home/mcbrown/.manim_venv/lib/python3.10/site-packages/TTS/utils/audio/processor.py\u001b\\\u001b[2mprocessor.py\u001b[0m\u001b]8;;\u001b\\\u001b[2m:\u001b[0m\u001b]8;id=651243;file:///home/mcbrown/.manim_venv/lib/python3.10/site-packages/TTS/utils/audio/processor.py#231\u001b\\\u001b[2m231\u001b[0m\u001b]8;;\u001b\\\n"
      ]
     },
     "metadata": {},
     "output_type": "display_data"
    },
    {
     "data": {
      "text/html": [
       "<pre style=\"white-space:pre;overflow-x:auto;line-height:normal;font-family:Menlo,'DejaVu Sans Mono',consolas,'Courier New',monospace\"><span style=\"color: #7fbfbf; text-decoration-color: #7fbfbf\">                    </span><span style=\"color: #008000; text-decoration-color: #008000\">INFO    </span>  | hop_length: <span style=\"color: #008000; text-decoration-color: #008000\">256</span>                                                    <a href=\"file:///home/mcbrown/.manim_venv/lib/python3.10/site-packages/TTS/utils/audio/processor.py\" target=\"_blank\"><span style=\"color: #7f7f7f; text-decoration-color: #7f7f7f\">processor.py</span></a><span style=\"color: #7f7f7f; text-decoration-color: #7f7f7f\">:</span><a href=\"file:///home/mcbrown/.manim_venv/lib/python3.10/site-packages/TTS/utils/audio/processor.py#231\" target=\"_blank\"><span style=\"color: #7f7f7f; text-decoration-color: #7f7f7f\">231</span></a>\n",
       "</pre>\n"
      ],
      "text/plain": [
       "\u001b[2;36m                   \u001b[0m\u001b[2;36m \u001b[0m\u001b[32mINFO    \u001b[0m  | hop_length: \u001b[32m256\u001b[0m                                                    \u001b]8;id=968843;file:///home/mcbrown/.manim_venv/lib/python3.10/site-packages/TTS/utils/audio/processor.py\u001b\\\u001b[2mprocessor.py\u001b[0m\u001b]8;;\u001b\\\u001b[2m:\u001b[0m\u001b]8;id=207738;file:///home/mcbrown/.manim_venv/lib/python3.10/site-packages/TTS/utils/audio/processor.py#231\u001b\\\u001b[2m231\u001b[0m\u001b]8;;\u001b\\\n"
      ]
     },
     "metadata": {},
     "output_type": "display_data"
    },
    {
     "data": {
      "text/html": [
       "<pre style=\"white-space:pre;overflow-x:auto;line-height:normal;font-family:Menlo,'DejaVu Sans Mono',consolas,'Courier New',monospace\"><span style=\"color: #7fbfbf; text-decoration-color: #7fbfbf\">                    </span><span style=\"color: #008000; text-decoration-color: #008000\">INFO    </span>  | win_length: <span style=\"color: #008000; text-decoration-color: #008000\">1024</span>                                                   <a href=\"file:///home/mcbrown/.manim_venv/lib/python3.10/site-packages/TTS/utils/audio/processor.py\" target=\"_blank\"><span style=\"color: #7f7f7f; text-decoration-color: #7f7f7f\">processor.py</span></a><span style=\"color: #7f7f7f; text-decoration-color: #7f7f7f\">:</span><a href=\"file:///home/mcbrown/.manim_venv/lib/python3.10/site-packages/TTS/utils/audio/processor.py#231\" target=\"_blank\"><span style=\"color: #7f7f7f; text-decoration-color: #7f7f7f\">231</span></a>\n",
       "</pre>\n"
      ],
      "text/plain": [
       "\u001b[2;36m                   \u001b[0m\u001b[2;36m \u001b[0m\u001b[32mINFO    \u001b[0m  | win_length: \u001b[32m1024\u001b[0m                                                   \u001b]8;id=812893;file:///home/mcbrown/.manim_venv/lib/python3.10/site-packages/TTS/utils/audio/processor.py\u001b\\\u001b[2mprocessor.py\u001b[0m\u001b]8;;\u001b\\\u001b[2m:\u001b[0m\u001b]8;id=465747;file:///home/mcbrown/.manim_venv/lib/python3.10/site-packages/TTS/utils/audio/processor.py#231\u001b\\\u001b[2m231\u001b[0m\u001b]8;;\u001b\\\n"
      ]
     },
     "metadata": {},
     "output_type": "display_data"
    },
    {
     "data": {
      "text/html": [
       "<pre style=\"white-space:pre;overflow-x:auto;line-height:normal;font-family:Menlo,'DejaVu Sans Mono',consolas,'Courier New',monospace\"><span style=\"color: #7fbfbf; text-decoration-color: #7fbfbf\">[08/14/25 10:23:26] </span><span style=\"color: #008000; text-decoration-color: #008000\">INFO    </span> Model's reduction rate `r` is set to: <span style=\"color: #008000; text-decoration-color: #008000\">1</span>                           <a href=\"file:///home/mcbrown/.manim_venv/lib/python3.10/site-packages/TTS/tts/models/base_tacotron.py\" target=\"_blank\"><span style=\"color: #7f7f7f; text-decoration-color: #7f7f7f\">base_tacotron.py</span></a><span style=\"color: #7f7f7f; text-decoration-color: #7f7f7f\">:</span><a href=\"file:///home/mcbrown/.manim_venv/lib/python3.10/site-packages/TTS/tts/models/base_tacotron.py#147\" target=\"_blank\"><span style=\"color: #7f7f7f; text-decoration-color: #7f7f7f\">147</span></a>\n",
       "</pre>\n"
      ],
      "text/plain": [
       "\u001b[2;36m[08/14/25 10:23:26]\u001b[0m\u001b[2;36m \u001b[0m\u001b[32mINFO    \u001b[0m Model's reduction rate `r` is set to: \u001b[32m1\u001b[0m                           \u001b]8;id=339069;file:///home/mcbrown/.manim_venv/lib/python3.10/site-packages/TTS/tts/models/base_tacotron.py\u001b\\\u001b[2mbase_tacotron.py\u001b[0m\u001b]8;;\u001b\\\u001b[2m:\u001b[0m\u001b]8;id=758113;file:///home/mcbrown/.manim_venv/lib/python3.10/site-packages/TTS/tts/models/base_tacotron.py#147\u001b\\\u001b[2m147\u001b[0m\u001b]8;;\u001b\\\n"
      ]
     },
     "metadata": {},
     "output_type": "display_data"
    },
    {
     "data": {
      "text/html": [
       "<pre style=\"white-space:pre;overflow-x:auto;line-height:normal;font-family:Menlo,'DejaVu Sans Mono',consolas,'Courier New',monospace\"><span style=\"color: #7fbfbf; text-decoration-color: #7fbfbf\">                    </span><span style=\"color: #008000; text-decoration-color: #008000\">INFO    </span> Setting up Audio Processor<span style=\"color: #808000; text-decoration-color: #808000\">...</span>                                         <a href=\"file:///home/mcbrown/.manim_venv/lib/python3.10/site-packages/TTS/utils/audio/processor.py\" target=\"_blank\"><span style=\"color: #7f7f7f; text-decoration-color: #7f7f7f\">processor.py</span></a><span style=\"color: #7f7f7f; text-decoration-color: #7f7f7f\">:</span><a href=\"file:///home/mcbrown/.manim_venv/lib/python3.10/site-packages/TTS/utils/audio/processor.py#229\" target=\"_blank\"><span style=\"color: #7f7f7f; text-decoration-color: #7f7f7f\">229</span></a>\n",
       "</pre>\n"
      ],
      "text/plain": [
       "\u001b[2;36m                   \u001b[0m\u001b[2;36m \u001b[0m\u001b[32mINFO    \u001b[0m Setting up Audio Processor\u001b[33m...\u001b[0m                                         \u001b]8;id=5028;file:///home/mcbrown/.manim_venv/lib/python3.10/site-packages/TTS/utils/audio/processor.py\u001b\\\u001b[2mprocessor.py\u001b[0m\u001b]8;;\u001b\\\u001b[2m:\u001b[0m\u001b]8;id=575256;file:///home/mcbrown/.manim_venv/lib/python3.10/site-packages/TTS/utils/audio/processor.py#229\u001b\\\u001b[2m229\u001b[0m\u001b]8;;\u001b\\\n"
      ]
     },
     "metadata": {},
     "output_type": "display_data"
    },
    {
     "data": {
      "text/html": [
       "<pre style=\"white-space:pre;overflow-x:auto;line-height:normal;font-family:Menlo,'DejaVu Sans Mono',consolas,'Courier New',monospace\"><span style=\"color: #7fbfbf; text-decoration-color: #7fbfbf\">                    </span><span style=\"color: #008000; text-decoration-color: #008000\">INFO    </span>  | sample_rate: <span style=\"color: #008000; text-decoration-color: #008000\">22050</span>                                                 <a href=\"file:///home/mcbrown/.manim_venv/lib/python3.10/site-packages/TTS/utils/audio/processor.py\" target=\"_blank\"><span style=\"color: #7f7f7f; text-decoration-color: #7f7f7f\">processor.py</span></a><span style=\"color: #7f7f7f; text-decoration-color: #7f7f7f\">:</span><a href=\"file:///home/mcbrown/.manim_venv/lib/python3.10/site-packages/TTS/utils/audio/processor.py#231\" target=\"_blank\"><span style=\"color: #7f7f7f; text-decoration-color: #7f7f7f\">231</span></a>\n",
       "</pre>\n"
      ],
      "text/plain": [
       "\u001b[2;36m                   \u001b[0m\u001b[2;36m \u001b[0m\u001b[32mINFO    \u001b[0m  | sample_rate: \u001b[32m22050\u001b[0m                                                 \u001b]8;id=533726;file:///home/mcbrown/.manim_venv/lib/python3.10/site-packages/TTS/utils/audio/processor.py\u001b\\\u001b[2mprocessor.py\u001b[0m\u001b]8;;\u001b\\\u001b[2m:\u001b[0m\u001b]8;id=677655;file:///home/mcbrown/.manim_venv/lib/python3.10/site-packages/TTS/utils/audio/processor.py#231\u001b\\\u001b[2m231\u001b[0m\u001b]8;;\u001b\\\n"
      ]
     },
     "metadata": {},
     "output_type": "display_data"
    },
    {
     "data": {
      "text/html": [
       "<pre style=\"white-space:pre;overflow-x:auto;line-height:normal;font-family:Menlo,'DejaVu Sans Mono',consolas,'Courier New',monospace\"><span style=\"color: #7fbfbf; text-decoration-color: #7fbfbf\">                    </span><span style=\"color: #008000; text-decoration-color: #008000\">INFO    </span>  | resample: <span style=\"color: #ff0000; text-decoration-color: #ff0000; font-style: italic\">False</span>                                                    <a href=\"file:///home/mcbrown/.manim_venv/lib/python3.10/site-packages/TTS/utils/audio/processor.py\" target=\"_blank\"><span style=\"color: #7f7f7f; text-decoration-color: #7f7f7f\">processor.py</span></a><span style=\"color: #7f7f7f; text-decoration-color: #7f7f7f\">:</span><a href=\"file:///home/mcbrown/.manim_venv/lib/python3.10/site-packages/TTS/utils/audio/processor.py#231\" target=\"_blank\"><span style=\"color: #7f7f7f; text-decoration-color: #7f7f7f\">231</span></a>\n",
       "</pre>\n"
      ],
      "text/plain": [
       "\u001b[2;36m                   \u001b[0m\u001b[2;36m \u001b[0m\u001b[32mINFO    \u001b[0m  | resample: \u001b[3;91mFalse\u001b[0m                                                    \u001b]8;id=891399;file:///home/mcbrown/.manim_venv/lib/python3.10/site-packages/TTS/utils/audio/processor.py\u001b\\\u001b[2mprocessor.py\u001b[0m\u001b]8;;\u001b\\\u001b[2m:\u001b[0m\u001b]8;id=8530;file:///home/mcbrown/.manim_venv/lib/python3.10/site-packages/TTS/utils/audio/processor.py#231\u001b\\\u001b[2m231\u001b[0m\u001b]8;;\u001b\\\n"
      ]
     },
     "metadata": {},
     "output_type": "display_data"
    },
    {
     "data": {
      "text/html": [
       "<pre style=\"white-space:pre;overflow-x:auto;line-height:normal;font-family:Menlo,'DejaVu Sans Mono',consolas,'Courier New',monospace\"><span style=\"color: #7fbfbf; text-decoration-color: #7fbfbf\">                    </span><span style=\"color: #008000; text-decoration-color: #008000\">INFO    </span>  | num_mels: <span style=\"color: #008000; text-decoration-color: #008000\">80</span>                                                       <a href=\"file:///home/mcbrown/.manim_venv/lib/python3.10/site-packages/TTS/utils/audio/processor.py\" target=\"_blank\"><span style=\"color: #7f7f7f; text-decoration-color: #7f7f7f\">processor.py</span></a><span style=\"color: #7f7f7f; text-decoration-color: #7f7f7f\">:</span><a href=\"file:///home/mcbrown/.manim_venv/lib/python3.10/site-packages/TTS/utils/audio/processor.py#231\" target=\"_blank\"><span style=\"color: #7f7f7f; text-decoration-color: #7f7f7f\">231</span></a>\n",
       "</pre>\n"
      ],
      "text/plain": [
       "\u001b[2;36m                   \u001b[0m\u001b[2;36m \u001b[0m\u001b[32mINFO    \u001b[0m  | num_mels: \u001b[32m80\u001b[0m                                                       \u001b]8;id=176561;file:///home/mcbrown/.manim_venv/lib/python3.10/site-packages/TTS/utils/audio/processor.py\u001b\\\u001b[2mprocessor.py\u001b[0m\u001b]8;;\u001b\\\u001b[2m:\u001b[0m\u001b]8;id=163555;file:///home/mcbrown/.manim_venv/lib/python3.10/site-packages/TTS/utils/audio/processor.py#231\u001b\\\u001b[2m231\u001b[0m\u001b]8;;\u001b\\\n"
      ]
     },
     "metadata": {},
     "output_type": "display_data"
    },
    {
     "data": {
      "text/html": [
       "<pre style=\"white-space:pre;overflow-x:auto;line-height:normal;font-family:Menlo,'DejaVu Sans Mono',consolas,'Courier New',monospace\"><span style=\"color: #7fbfbf; text-decoration-color: #7fbfbf\">                    </span><span style=\"color: #008000; text-decoration-color: #008000\">INFO    </span>  | log_func: np.log                                                   <a href=\"file:///home/mcbrown/.manim_venv/lib/python3.10/site-packages/TTS/utils/audio/processor.py\" target=\"_blank\"><span style=\"color: #7f7f7f; text-decoration-color: #7f7f7f\">processor.py</span></a><span style=\"color: #7f7f7f; text-decoration-color: #7f7f7f\">:</span><a href=\"file:///home/mcbrown/.manim_venv/lib/python3.10/site-packages/TTS/utils/audio/processor.py#231\" target=\"_blank\"><span style=\"color: #7f7f7f; text-decoration-color: #7f7f7f\">231</span></a>\n",
       "</pre>\n"
      ],
      "text/plain": [
       "\u001b[2;36m                   \u001b[0m\u001b[2;36m \u001b[0m\u001b[32mINFO    \u001b[0m  | log_func: np.log                                                   \u001b]8;id=684299;file:///home/mcbrown/.manim_venv/lib/python3.10/site-packages/TTS/utils/audio/processor.py\u001b\\\u001b[2mprocessor.py\u001b[0m\u001b]8;;\u001b\\\u001b[2m:\u001b[0m\u001b]8;id=909677;file:///home/mcbrown/.manim_venv/lib/python3.10/site-packages/TTS/utils/audio/processor.py#231\u001b\\\u001b[2m231\u001b[0m\u001b]8;;\u001b\\\n"
      ]
     },
     "metadata": {},
     "output_type": "display_data"
    },
    {
     "data": {
      "text/html": [
       "<pre style=\"white-space:pre;overflow-x:auto;line-height:normal;font-family:Menlo,'DejaVu Sans Mono',consolas,'Courier New',monospace\"><span style=\"color: #7fbfbf; text-decoration-color: #7fbfbf\">                    </span><span style=\"color: #008000; text-decoration-color: #008000\">INFO    </span>  | min_level_db: <span style=\"color: #008000; text-decoration-color: #008000\">-100</span>                                                 <a href=\"file:///home/mcbrown/.manim_venv/lib/python3.10/site-packages/TTS/utils/audio/processor.py\" target=\"_blank\"><span style=\"color: #7f7f7f; text-decoration-color: #7f7f7f\">processor.py</span></a><span style=\"color: #7f7f7f; text-decoration-color: #7f7f7f\">:</span><a href=\"file:///home/mcbrown/.manim_venv/lib/python3.10/site-packages/TTS/utils/audio/processor.py#231\" target=\"_blank\"><span style=\"color: #7f7f7f; text-decoration-color: #7f7f7f\">231</span></a>\n",
       "</pre>\n"
      ],
      "text/plain": [
       "\u001b[2;36m                   \u001b[0m\u001b[2;36m \u001b[0m\u001b[32mINFO    \u001b[0m  | min_level_db: \u001b[32m-100\u001b[0m                                                 \u001b]8;id=230526;file:///home/mcbrown/.manim_venv/lib/python3.10/site-packages/TTS/utils/audio/processor.py\u001b\\\u001b[2mprocessor.py\u001b[0m\u001b]8;;\u001b\\\u001b[2m:\u001b[0m\u001b]8;id=397867;file:///home/mcbrown/.manim_venv/lib/python3.10/site-packages/TTS/utils/audio/processor.py#231\u001b\\\u001b[2m231\u001b[0m\u001b]8;;\u001b\\\n"
      ]
     },
     "metadata": {},
     "output_type": "display_data"
    },
    {
     "data": {
      "text/html": [
       "<pre style=\"white-space:pre;overflow-x:auto;line-height:normal;font-family:Menlo,'DejaVu Sans Mono',consolas,'Courier New',monospace\"><span style=\"color: #7fbfbf; text-decoration-color: #7fbfbf\">                    </span><span style=\"color: #008000; text-decoration-color: #008000\">INFO    </span>  | frame_shift_ms: <span style=\"color: #800080; text-decoration-color: #800080; font-style: italic\">None</span>                                               <a href=\"file:///home/mcbrown/.manim_venv/lib/python3.10/site-packages/TTS/utils/audio/processor.py\" target=\"_blank\"><span style=\"color: #7f7f7f; text-decoration-color: #7f7f7f\">processor.py</span></a><span style=\"color: #7f7f7f; text-decoration-color: #7f7f7f\">:</span><a href=\"file:///home/mcbrown/.manim_venv/lib/python3.10/site-packages/TTS/utils/audio/processor.py#231\" target=\"_blank\"><span style=\"color: #7f7f7f; text-decoration-color: #7f7f7f\">231</span></a>\n",
       "</pre>\n"
      ],
      "text/plain": [
       "\u001b[2;36m                   \u001b[0m\u001b[2;36m \u001b[0m\u001b[32mINFO    \u001b[0m  | frame_shift_ms: \u001b[3;35mNone\u001b[0m                                               \u001b]8;id=422927;file:///home/mcbrown/.manim_venv/lib/python3.10/site-packages/TTS/utils/audio/processor.py\u001b\\\u001b[2mprocessor.py\u001b[0m\u001b]8;;\u001b\\\u001b[2m:\u001b[0m\u001b]8;id=292847;file:///home/mcbrown/.manim_venv/lib/python3.10/site-packages/TTS/utils/audio/processor.py#231\u001b\\\u001b[2m231\u001b[0m\u001b]8;;\u001b\\\n"
      ]
     },
     "metadata": {},
     "output_type": "display_data"
    },
    {
     "data": {
      "text/html": [
       "<pre style=\"white-space:pre;overflow-x:auto;line-height:normal;font-family:Menlo,'DejaVu Sans Mono',consolas,'Courier New',monospace\"><span style=\"color: #7fbfbf; text-decoration-color: #7fbfbf\">                    </span><span style=\"color: #008000; text-decoration-color: #008000\">INFO    </span>  | frame_length_ms: <span style=\"color: #800080; text-decoration-color: #800080; font-style: italic\">None</span>                                              <a href=\"file:///home/mcbrown/.manim_venv/lib/python3.10/site-packages/TTS/utils/audio/processor.py\" target=\"_blank\"><span style=\"color: #7f7f7f; text-decoration-color: #7f7f7f\">processor.py</span></a><span style=\"color: #7f7f7f; text-decoration-color: #7f7f7f\">:</span><a href=\"file:///home/mcbrown/.manim_venv/lib/python3.10/site-packages/TTS/utils/audio/processor.py#231\" target=\"_blank\"><span style=\"color: #7f7f7f; text-decoration-color: #7f7f7f\">231</span></a>\n",
       "</pre>\n"
      ],
      "text/plain": [
       "\u001b[2;36m                   \u001b[0m\u001b[2;36m \u001b[0m\u001b[32mINFO    \u001b[0m  | frame_length_ms: \u001b[3;35mNone\u001b[0m                                              \u001b]8;id=136977;file:///home/mcbrown/.manim_venv/lib/python3.10/site-packages/TTS/utils/audio/processor.py\u001b\\\u001b[2mprocessor.py\u001b[0m\u001b]8;;\u001b\\\u001b[2m:\u001b[0m\u001b]8;id=596104;file:///home/mcbrown/.manim_venv/lib/python3.10/site-packages/TTS/utils/audio/processor.py#231\u001b\\\u001b[2m231\u001b[0m\u001b]8;;\u001b\\\n"
      ]
     },
     "metadata": {},
     "output_type": "display_data"
    },
    {
     "data": {
      "text/html": [
       "<pre style=\"white-space:pre;overflow-x:auto;line-height:normal;font-family:Menlo,'DejaVu Sans Mono',consolas,'Courier New',monospace\"><span style=\"color: #7fbfbf; text-decoration-color: #7fbfbf\">                    </span><span style=\"color: #008000; text-decoration-color: #008000\">INFO    </span>  | ref_level_db: <span style=\"color: #008000; text-decoration-color: #008000\">20</span>                                                   <a href=\"file:///home/mcbrown/.manim_venv/lib/python3.10/site-packages/TTS/utils/audio/processor.py\" target=\"_blank\"><span style=\"color: #7f7f7f; text-decoration-color: #7f7f7f\">processor.py</span></a><span style=\"color: #7f7f7f; text-decoration-color: #7f7f7f\">:</span><a href=\"file:///home/mcbrown/.manim_venv/lib/python3.10/site-packages/TTS/utils/audio/processor.py#231\" target=\"_blank\"><span style=\"color: #7f7f7f; text-decoration-color: #7f7f7f\">231</span></a>\n",
       "</pre>\n"
      ],
      "text/plain": [
       "\u001b[2;36m                   \u001b[0m\u001b[2;36m \u001b[0m\u001b[32mINFO    \u001b[0m  | ref_level_db: \u001b[32m20\u001b[0m                                                   \u001b]8;id=77214;file:///home/mcbrown/.manim_venv/lib/python3.10/site-packages/TTS/utils/audio/processor.py\u001b\\\u001b[2mprocessor.py\u001b[0m\u001b]8;;\u001b\\\u001b[2m:\u001b[0m\u001b]8;id=591333;file:///home/mcbrown/.manim_venv/lib/python3.10/site-packages/TTS/utils/audio/processor.py#231\u001b\\\u001b[2m231\u001b[0m\u001b]8;;\u001b\\\n"
      ]
     },
     "metadata": {},
     "output_type": "display_data"
    },
    {
     "data": {
      "text/html": [
       "<pre style=\"white-space:pre;overflow-x:auto;line-height:normal;font-family:Menlo,'DejaVu Sans Mono',consolas,'Courier New',monospace\"><span style=\"color: #7fbfbf; text-decoration-color: #7fbfbf\">                    </span><span style=\"color: #008000; text-decoration-color: #008000\">INFO    </span>  | fft_size: <span style=\"color: #008000; text-decoration-color: #008000\">1024</span>                                                     <a href=\"file:///home/mcbrown/.manim_venv/lib/python3.10/site-packages/TTS/utils/audio/processor.py\" target=\"_blank\"><span style=\"color: #7f7f7f; text-decoration-color: #7f7f7f\">processor.py</span></a><span style=\"color: #7f7f7f; text-decoration-color: #7f7f7f\">:</span><a href=\"file:///home/mcbrown/.manim_venv/lib/python3.10/site-packages/TTS/utils/audio/processor.py#231\" target=\"_blank\"><span style=\"color: #7f7f7f; text-decoration-color: #7f7f7f\">231</span></a>\n",
       "</pre>\n"
      ],
      "text/plain": [
       "\u001b[2;36m                   \u001b[0m\u001b[2;36m \u001b[0m\u001b[32mINFO    \u001b[0m  | fft_size: \u001b[32m1024\u001b[0m                                                     \u001b]8;id=83360;file:///home/mcbrown/.manim_venv/lib/python3.10/site-packages/TTS/utils/audio/processor.py\u001b\\\u001b[2mprocessor.py\u001b[0m\u001b]8;;\u001b\\\u001b[2m:\u001b[0m\u001b]8;id=578296;file:///home/mcbrown/.manim_venv/lib/python3.10/site-packages/TTS/utils/audio/processor.py#231\u001b\\\u001b[2m231\u001b[0m\u001b]8;;\u001b\\\n"
      ]
     },
     "metadata": {},
     "output_type": "display_data"
    },
    {
     "data": {
      "text/html": [
       "<pre style=\"white-space:pre;overflow-x:auto;line-height:normal;font-family:Menlo,'DejaVu Sans Mono',consolas,'Courier New',monospace\"><span style=\"color: #7fbfbf; text-decoration-color: #7fbfbf\">                    </span><span style=\"color: #008000; text-decoration-color: #008000\">INFO    </span>  | power: <span style=\"color: #008000; text-decoration-color: #008000\">1.5</span>                                                         <a href=\"file:///home/mcbrown/.manim_venv/lib/python3.10/site-packages/TTS/utils/audio/processor.py\" target=\"_blank\"><span style=\"color: #7f7f7f; text-decoration-color: #7f7f7f\">processor.py</span></a><span style=\"color: #7f7f7f; text-decoration-color: #7f7f7f\">:</span><a href=\"file:///home/mcbrown/.manim_venv/lib/python3.10/site-packages/TTS/utils/audio/processor.py#231\" target=\"_blank\"><span style=\"color: #7f7f7f; text-decoration-color: #7f7f7f\">231</span></a>\n",
       "</pre>\n"
      ],
      "text/plain": [
       "\u001b[2;36m                   \u001b[0m\u001b[2;36m \u001b[0m\u001b[32mINFO    \u001b[0m  | power: \u001b[32m1.5\u001b[0m                                                         \u001b]8;id=240629;file:///home/mcbrown/.manim_venv/lib/python3.10/site-packages/TTS/utils/audio/processor.py\u001b\\\u001b[2mprocessor.py\u001b[0m\u001b]8;;\u001b\\\u001b[2m:\u001b[0m\u001b]8;id=190481;file:///home/mcbrown/.manim_venv/lib/python3.10/site-packages/TTS/utils/audio/processor.py#231\u001b\\\u001b[2m231\u001b[0m\u001b]8;;\u001b\\\n"
      ]
     },
     "metadata": {},
     "output_type": "display_data"
    },
    {
     "data": {
      "text/html": [
       "<pre style=\"white-space:pre;overflow-x:auto;line-height:normal;font-family:Menlo,'DejaVu Sans Mono',consolas,'Courier New',monospace\"><span style=\"color: #7fbfbf; text-decoration-color: #7fbfbf\">                    </span><span style=\"color: #008000; text-decoration-color: #008000\">INFO    </span>  | preemphasis: <span style=\"color: #008000; text-decoration-color: #008000\">0.0</span>                                                   <a href=\"file:///home/mcbrown/.manim_venv/lib/python3.10/site-packages/TTS/utils/audio/processor.py\" target=\"_blank\"><span style=\"color: #7f7f7f; text-decoration-color: #7f7f7f\">processor.py</span></a><span style=\"color: #7f7f7f; text-decoration-color: #7f7f7f\">:</span><a href=\"file:///home/mcbrown/.manim_venv/lib/python3.10/site-packages/TTS/utils/audio/processor.py#231\" target=\"_blank\"><span style=\"color: #7f7f7f; text-decoration-color: #7f7f7f\">231</span></a>\n",
       "</pre>\n"
      ],
      "text/plain": [
       "\u001b[2;36m                   \u001b[0m\u001b[2;36m \u001b[0m\u001b[32mINFO    \u001b[0m  | preemphasis: \u001b[32m0.0\u001b[0m                                                   \u001b]8;id=441323;file:///home/mcbrown/.manim_venv/lib/python3.10/site-packages/TTS/utils/audio/processor.py\u001b\\\u001b[2mprocessor.py\u001b[0m\u001b]8;;\u001b\\\u001b[2m:\u001b[0m\u001b]8;id=358237;file:///home/mcbrown/.manim_venv/lib/python3.10/site-packages/TTS/utils/audio/processor.py#231\u001b\\\u001b[2m231\u001b[0m\u001b]8;;\u001b\\\n"
      ]
     },
     "metadata": {},
     "output_type": "display_data"
    },
    {
     "data": {
      "text/html": [
       "<pre style=\"white-space:pre;overflow-x:auto;line-height:normal;font-family:Menlo,'DejaVu Sans Mono',consolas,'Courier New',monospace\"><span style=\"color: #7fbfbf; text-decoration-color: #7fbfbf\">                    </span><span style=\"color: #008000; text-decoration-color: #008000\">INFO    </span>  | griffin_lim_iters: <span style=\"color: #008000; text-decoration-color: #008000\">60</span>                                              <a href=\"file:///home/mcbrown/.manim_venv/lib/python3.10/site-packages/TTS/utils/audio/processor.py\" target=\"_blank\"><span style=\"color: #7f7f7f; text-decoration-color: #7f7f7f\">processor.py</span></a><span style=\"color: #7f7f7f; text-decoration-color: #7f7f7f\">:</span><a href=\"file:///home/mcbrown/.manim_venv/lib/python3.10/site-packages/TTS/utils/audio/processor.py#231\" target=\"_blank\"><span style=\"color: #7f7f7f; text-decoration-color: #7f7f7f\">231</span></a>\n",
       "</pre>\n"
      ],
      "text/plain": [
       "\u001b[2;36m                   \u001b[0m\u001b[2;36m \u001b[0m\u001b[32mINFO    \u001b[0m  | griffin_lim_iters: \u001b[32m60\u001b[0m                                              \u001b]8;id=422331;file:///home/mcbrown/.manim_venv/lib/python3.10/site-packages/TTS/utils/audio/processor.py\u001b\\\u001b[2mprocessor.py\u001b[0m\u001b]8;;\u001b\\\u001b[2m:\u001b[0m\u001b]8;id=917143;file:///home/mcbrown/.manim_venv/lib/python3.10/site-packages/TTS/utils/audio/processor.py#231\u001b\\\u001b[2m231\u001b[0m\u001b]8;;\u001b\\\n"
      ]
     },
     "metadata": {},
     "output_type": "display_data"
    },
    {
     "data": {
      "text/html": [
       "<pre style=\"white-space:pre;overflow-x:auto;line-height:normal;font-family:Menlo,'DejaVu Sans Mono',consolas,'Courier New',monospace\"><span style=\"color: #7fbfbf; text-decoration-color: #7fbfbf\">                    </span><span style=\"color: #008000; text-decoration-color: #008000\">INFO    </span>  | signal_norm: <span style=\"color: #ff0000; text-decoration-color: #ff0000; font-style: italic\">False</span>                                                 <a href=\"file:///home/mcbrown/.manim_venv/lib/python3.10/site-packages/TTS/utils/audio/processor.py\" target=\"_blank\"><span style=\"color: #7f7f7f; text-decoration-color: #7f7f7f\">processor.py</span></a><span style=\"color: #7f7f7f; text-decoration-color: #7f7f7f\">:</span><a href=\"file:///home/mcbrown/.manim_venv/lib/python3.10/site-packages/TTS/utils/audio/processor.py#231\" target=\"_blank\"><span style=\"color: #7f7f7f; text-decoration-color: #7f7f7f\">231</span></a>\n",
       "</pre>\n"
      ],
      "text/plain": [
       "\u001b[2;36m                   \u001b[0m\u001b[2;36m \u001b[0m\u001b[32mINFO    \u001b[0m  | signal_norm: \u001b[3;91mFalse\u001b[0m                                                 \u001b]8;id=63161;file:///home/mcbrown/.manim_venv/lib/python3.10/site-packages/TTS/utils/audio/processor.py\u001b\\\u001b[2mprocessor.py\u001b[0m\u001b]8;;\u001b\\\u001b[2m:\u001b[0m\u001b]8;id=17836;file:///home/mcbrown/.manim_venv/lib/python3.10/site-packages/TTS/utils/audio/processor.py#231\u001b\\\u001b[2m231\u001b[0m\u001b]8;;\u001b\\\n"
      ]
     },
     "metadata": {},
     "output_type": "display_data"
    },
    {
     "data": {
      "text/html": [
       "<pre style=\"white-space:pre;overflow-x:auto;line-height:normal;font-family:Menlo,'DejaVu Sans Mono',consolas,'Courier New',monospace\"><span style=\"color: #7fbfbf; text-decoration-color: #7fbfbf\">                    </span><span style=\"color: #008000; text-decoration-color: #008000\">INFO    </span>  | symmetric_norm: <span style=\"color: #00ff00; text-decoration-color: #00ff00; font-style: italic\">True</span>                                               <a href=\"file:///home/mcbrown/.manim_venv/lib/python3.10/site-packages/TTS/utils/audio/processor.py\" target=\"_blank\"><span style=\"color: #7f7f7f; text-decoration-color: #7f7f7f\">processor.py</span></a><span style=\"color: #7f7f7f; text-decoration-color: #7f7f7f\">:</span><a href=\"file:///home/mcbrown/.manim_venv/lib/python3.10/site-packages/TTS/utils/audio/processor.py#231\" target=\"_blank\"><span style=\"color: #7f7f7f; text-decoration-color: #7f7f7f\">231</span></a>\n",
       "</pre>\n"
      ],
      "text/plain": [
       "\u001b[2;36m                   \u001b[0m\u001b[2;36m \u001b[0m\u001b[32mINFO    \u001b[0m  | symmetric_norm: \u001b[3;92mTrue\u001b[0m                                               \u001b]8;id=266203;file:///home/mcbrown/.manim_venv/lib/python3.10/site-packages/TTS/utils/audio/processor.py\u001b\\\u001b[2mprocessor.py\u001b[0m\u001b]8;;\u001b\\\u001b[2m:\u001b[0m\u001b]8;id=792004;file:///home/mcbrown/.manim_venv/lib/python3.10/site-packages/TTS/utils/audio/processor.py#231\u001b\\\u001b[2m231\u001b[0m\u001b]8;;\u001b\\\n"
      ]
     },
     "metadata": {},
     "output_type": "display_data"
    },
    {
     "data": {
      "text/html": [
       "<pre style=\"white-space:pre;overflow-x:auto;line-height:normal;font-family:Menlo,'DejaVu Sans Mono',consolas,'Courier New',monospace\"><span style=\"color: #7fbfbf; text-decoration-color: #7fbfbf\">                    </span><span style=\"color: #008000; text-decoration-color: #008000\">INFO    </span>  | mel_fmin: <span style=\"color: #008000; text-decoration-color: #008000\">0</span>                                                        <a href=\"file:///home/mcbrown/.manim_venv/lib/python3.10/site-packages/TTS/utils/audio/processor.py\" target=\"_blank\"><span style=\"color: #7f7f7f; text-decoration-color: #7f7f7f\">processor.py</span></a><span style=\"color: #7f7f7f; text-decoration-color: #7f7f7f\">:</span><a href=\"file:///home/mcbrown/.manim_venv/lib/python3.10/site-packages/TTS/utils/audio/processor.py#231\" target=\"_blank\"><span style=\"color: #7f7f7f; text-decoration-color: #7f7f7f\">231</span></a>\n",
       "</pre>\n"
      ],
      "text/plain": [
       "\u001b[2;36m                   \u001b[0m\u001b[2;36m \u001b[0m\u001b[32mINFO    \u001b[0m  | mel_fmin: \u001b[32m0\u001b[0m                                                        \u001b]8;id=942890;file:///home/mcbrown/.manim_venv/lib/python3.10/site-packages/TTS/utils/audio/processor.py\u001b\\\u001b[2mprocessor.py\u001b[0m\u001b]8;;\u001b\\\u001b[2m:\u001b[0m\u001b]8;id=190;file:///home/mcbrown/.manim_venv/lib/python3.10/site-packages/TTS/utils/audio/processor.py#231\u001b\\\u001b[2m231\u001b[0m\u001b]8;;\u001b\\\n"
      ]
     },
     "metadata": {},
     "output_type": "display_data"
    },
    {
     "data": {
      "text/html": [
       "<pre style=\"white-space:pre;overflow-x:auto;line-height:normal;font-family:Menlo,'DejaVu Sans Mono',consolas,'Courier New',monospace\"><span style=\"color: #7fbfbf; text-decoration-color: #7fbfbf\">                    </span><span style=\"color: #008000; text-decoration-color: #008000\">INFO    </span>  | mel_fmax: <span style=\"color: #008000; text-decoration-color: #008000\">8000.0</span>                                                   <a href=\"file:///home/mcbrown/.manim_venv/lib/python3.10/site-packages/TTS/utils/audio/processor.py\" target=\"_blank\"><span style=\"color: #7f7f7f; text-decoration-color: #7f7f7f\">processor.py</span></a><span style=\"color: #7f7f7f; text-decoration-color: #7f7f7f\">:</span><a href=\"file:///home/mcbrown/.manim_venv/lib/python3.10/site-packages/TTS/utils/audio/processor.py#231\" target=\"_blank\"><span style=\"color: #7f7f7f; text-decoration-color: #7f7f7f\">231</span></a>\n",
       "</pre>\n"
      ],
      "text/plain": [
       "\u001b[2;36m                   \u001b[0m\u001b[2;36m \u001b[0m\u001b[32mINFO    \u001b[0m  | mel_fmax: \u001b[32m8000.0\u001b[0m                                                   \u001b]8;id=858161;file:///home/mcbrown/.manim_venv/lib/python3.10/site-packages/TTS/utils/audio/processor.py\u001b\\\u001b[2mprocessor.py\u001b[0m\u001b]8;;\u001b\\\u001b[2m:\u001b[0m\u001b]8;id=408631;file:///home/mcbrown/.manim_venv/lib/python3.10/site-packages/TTS/utils/audio/processor.py#231\u001b\\\u001b[2m231\u001b[0m\u001b]8;;\u001b\\\n"
      ]
     },
     "metadata": {},
     "output_type": "display_data"
    },
    {
     "data": {
      "text/html": [
       "<pre style=\"white-space:pre;overflow-x:auto;line-height:normal;font-family:Menlo,'DejaVu Sans Mono',consolas,'Courier New',monospace\"><span style=\"color: #7fbfbf; text-decoration-color: #7fbfbf\">                    </span><span style=\"color: #008000; text-decoration-color: #008000\">INFO    </span>  | pitch_fmin: <span style=\"color: #008000; text-decoration-color: #008000\">1.0</span>                                                    <a href=\"file:///home/mcbrown/.manim_venv/lib/python3.10/site-packages/TTS/utils/audio/processor.py\" target=\"_blank\"><span style=\"color: #7f7f7f; text-decoration-color: #7f7f7f\">processor.py</span></a><span style=\"color: #7f7f7f; text-decoration-color: #7f7f7f\">:</span><a href=\"file:///home/mcbrown/.manim_venv/lib/python3.10/site-packages/TTS/utils/audio/processor.py#231\" target=\"_blank\"><span style=\"color: #7f7f7f; text-decoration-color: #7f7f7f\">231</span></a>\n",
       "</pre>\n"
      ],
      "text/plain": [
       "\u001b[2;36m                   \u001b[0m\u001b[2;36m \u001b[0m\u001b[32mINFO    \u001b[0m  | pitch_fmin: \u001b[32m1.0\u001b[0m                                                    \u001b]8;id=908816;file:///home/mcbrown/.manim_venv/lib/python3.10/site-packages/TTS/utils/audio/processor.py\u001b\\\u001b[2mprocessor.py\u001b[0m\u001b]8;;\u001b\\\u001b[2m:\u001b[0m\u001b]8;id=33206;file:///home/mcbrown/.manim_venv/lib/python3.10/site-packages/TTS/utils/audio/processor.py#231\u001b\\\u001b[2m231\u001b[0m\u001b]8;;\u001b\\\n"
      ]
     },
     "metadata": {},
     "output_type": "display_data"
    },
    {
     "data": {
      "text/html": [
       "<pre style=\"white-space:pre;overflow-x:auto;line-height:normal;font-family:Menlo,'DejaVu Sans Mono',consolas,'Courier New',monospace\"><span style=\"color: #7fbfbf; text-decoration-color: #7fbfbf\">                    </span><span style=\"color: #008000; text-decoration-color: #008000\">INFO    </span>  | pitch_fmax: <span style=\"color: #008000; text-decoration-color: #008000\">640.0</span>                                                  <a href=\"file:///home/mcbrown/.manim_venv/lib/python3.10/site-packages/TTS/utils/audio/processor.py\" target=\"_blank\"><span style=\"color: #7f7f7f; text-decoration-color: #7f7f7f\">processor.py</span></a><span style=\"color: #7f7f7f; text-decoration-color: #7f7f7f\">:</span><a href=\"file:///home/mcbrown/.manim_venv/lib/python3.10/site-packages/TTS/utils/audio/processor.py#231\" target=\"_blank\"><span style=\"color: #7f7f7f; text-decoration-color: #7f7f7f\">231</span></a>\n",
       "</pre>\n"
      ],
      "text/plain": [
       "\u001b[2;36m                   \u001b[0m\u001b[2;36m \u001b[0m\u001b[32mINFO    \u001b[0m  | pitch_fmax: \u001b[32m640.0\u001b[0m                                                  \u001b]8;id=983378;file:///home/mcbrown/.manim_venv/lib/python3.10/site-packages/TTS/utils/audio/processor.py\u001b\\\u001b[2mprocessor.py\u001b[0m\u001b]8;;\u001b\\\u001b[2m:\u001b[0m\u001b]8;id=195287;file:///home/mcbrown/.manim_venv/lib/python3.10/site-packages/TTS/utils/audio/processor.py#231\u001b\\\u001b[2m231\u001b[0m\u001b]8;;\u001b\\\n"
      ]
     },
     "metadata": {},
     "output_type": "display_data"
    },
    {
     "data": {
      "text/html": [
       "<pre style=\"white-space:pre;overflow-x:auto;line-height:normal;font-family:Menlo,'DejaVu Sans Mono',consolas,'Courier New',monospace\"><span style=\"color: #7fbfbf; text-decoration-color: #7fbfbf\">                    </span><span style=\"color: #008000; text-decoration-color: #008000\">INFO    </span>  | spec_gain: <span style=\"color: #008000; text-decoration-color: #008000\">1.0</span>                                                     <a href=\"file:///home/mcbrown/.manim_venv/lib/python3.10/site-packages/TTS/utils/audio/processor.py\" target=\"_blank\"><span style=\"color: #7f7f7f; text-decoration-color: #7f7f7f\">processor.py</span></a><span style=\"color: #7f7f7f; text-decoration-color: #7f7f7f\">:</span><a href=\"file:///home/mcbrown/.manim_venv/lib/python3.10/site-packages/TTS/utils/audio/processor.py#231\" target=\"_blank\"><span style=\"color: #7f7f7f; text-decoration-color: #7f7f7f\">231</span></a>\n",
       "</pre>\n"
      ],
      "text/plain": [
       "\u001b[2;36m                   \u001b[0m\u001b[2;36m \u001b[0m\u001b[32mINFO    \u001b[0m  | spec_gain: \u001b[32m1.0\u001b[0m                                                     \u001b]8;id=656653;file:///home/mcbrown/.manim_venv/lib/python3.10/site-packages/TTS/utils/audio/processor.py\u001b\\\u001b[2mprocessor.py\u001b[0m\u001b]8;;\u001b\\\u001b[2m:\u001b[0m\u001b]8;id=594679;file:///home/mcbrown/.manim_venv/lib/python3.10/site-packages/TTS/utils/audio/processor.py#231\u001b\\\u001b[2m231\u001b[0m\u001b]8;;\u001b\\\n"
      ]
     },
     "metadata": {},
     "output_type": "display_data"
    },
    {
     "data": {
      "text/html": [
       "<pre style=\"white-space:pre;overflow-x:auto;line-height:normal;font-family:Menlo,'DejaVu Sans Mono',consolas,'Courier New',monospace\"><span style=\"color: #7fbfbf; text-decoration-color: #7fbfbf\">                    </span><span style=\"color: #008000; text-decoration-color: #008000\">INFO    </span>  | stft_pad_mode: reflect                                             <a href=\"file:///home/mcbrown/.manim_venv/lib/python3.10/site-packages/TTS/utils/audio/processor.py\" target=\"_blank\"><span style=\"color: #7f7f7f; text-decoration-color: #7f7f7f\">processor.py</span></a><span style=\"color: #7f7f7f; text-decoration-color: #7f7f7f\">:</span><a href=\"file:///home/mcbrown/.manim_venv/lib/python3.10/site-packages/TTS/utils/audio/processor.py#231\" target=\"_blank\"><span style=\"color: #7f7f7f; text-decoration-color: #7f7f7f\">231</span></a>\n",
       "</pre>\n"
      ],
      "text/plain": [
       "\u001b[2;36m                   \u001b[0m\u001b[2;36m \u001b[0m\u001b[32mINFO    \u001b[0m  | stft_pad_mode: reflect                                             \u001b]8;id=201257;file:///home/mcbrown/.manim_venv/lib/python3.10/site-packages/TTS/utils/audio/processor.py\u001b\\\u001b[2mprocessor.py\u001b[0m\u001b]8;;\u001b\\\u001b[2m:\u001b[0m\u001b]8;id=719639;file:///home/mcbrown/.manim_venv/lib/python3.10/site-packages/TTS/utils/audio/processor.py#231\u001b\\\u001b[2m231\u001b[0m\u001b]8;;\u001b\\\n"
      ]
     },
     "metadata": {},
     "output_type": "display_data"
    },
    {
     "data": {
      "text/html": [
       "<pre style=\"white-space:pre;overflow-x:auto;line-height:normal;font-family:Menlo,'DejaVu Sans Mono',consolas,'Courier New',monospace\"><span style=\"color: #7fbfbf; text-decoration-color: #7fbfbf\">                    </span><span style=\"color: #008000; text-decoration-color: #008000\">INFO    </span>  | max_norm: <span style=\"color: #008000; text-decoration-color: #008000\">4.0</span>                                                      <a href=\"file:///home/mcbrown/.manim_venv/lib/python3.10/site-packages/TTS/utils/audio/processor.py\" target=\"_blank\"><span style=\"color: #7f7f7f; text-decoration-color: #7f7f7f\">processor.py</span></a><span style=\"color: #7f7f7f; text-decoration-color: #7f7f7f\">:</span><a href=\"file:///home/mcbrown/.manim_venv/lib/python3.10/site-packages/TTS/utils/audio/processor.py#231\" target=\"_blank\"><span style=\"color: #7f7f7f; text-decoration-color: #7f7f7f\">231</span></a>\n",
       "</pre>\n"
      ],
      "text/plain": [
       "\u001b[2;36m                   \u001b[0m\u001b[2;36m \u001b[0m\u001b[32mINFO    \u001b[0m  | max_norm: \u001b[32m4.0\u001b[0m                                                      \u001b]8;id=857575;file:///home/mcbrown/.manim_venv/lib/python3.10/site-packages/TTS/utils/audio/processor.py\u001b\\\u001b[2mprocessor.py\u001b[0m\u001b]8;;\u001b\\\u001b[2m:\u001b[0m\u001b]8;id=217045;file:///home/mcbrown/.manim_venv/lib/python3.10/site-packages/TTS/utils/audio/processor.py#231\u001b\\\u001b[2m231\u001b[0m\u001b]8;;\u001b\\\n"
      ]
     },
     "metadata": {},
     "output_type": "display_data"
    },
    {
     "data": {
      "text/html": [
       "<pre style=\"white-space:pre;overflow-x:auto;line-height:normal;font-family:Menlo,'DejaVu Sans Mono',consolas,'Courier New',monospace\"><span style=\"color: #7fbfbf; text-decoration-color: #7fbfbf\">                    </span><span style=\"color: #008000; text-decoration-color: #008000\">INFO    </span>  | clip_norm: <span style=\"color: #00ff00; text-decoration-color: #00ff00; font-style: italic\">True</span>                                                    <a href=\"file:///home/mcbrown/.manim_venv/lib/python3.10/site-packages/TTS/utils/audio/processor.py\" target=\"_blank\"><span style=\"color: #7f7f7f; text-decoration-color: #7f7f7f\">processor.py</span></a><span style=\"color: #7f7f7f; text-decoration-color: #7f7f7f\">:</span><a href=\"file:///home/mcbrown/.manim_venv/lib/python3.10/site-packages/TTS/utils/audio/processor.py#231\" target=\"_blank\"><span style=\"color: #7f7f7f; text-decoration-color: #7f7f7f\">231</span></a>\n",
       "</pre>\n"
      ],
      "text/plain": [
       "\u001b[2;36m                   \u001b[0m\u001b[2;36m \u001b[0m\u001b[32mINFO    \u001b[0m  | clip_norm: \u001b[3;92mTrue\u001b[0m                                                    \u001b]8;id=272047;file:///home/mcbrown/.manim_venv/lib/python3.10/site-packages/TTS/utils/audio/processor.py\u001b\\\u001b[2mprocessor.py\u001b[0m\u001b]8;;\u001b\\\u001b[2m:\u001b[0m\u001b]8;id=497313;file:///home/mcbrown/.manim_venv/lib/python3.10/site-packages/TTS/utils/audio/processor.py#231\u001b\\\u001b[2m231\u001b[0m\u001b]8;;\u001b\\\n"
      ]
     },
     "metadata": {},
     "output_type": "display_data"
    },
    {
     "data": {
      "text/html": [
       "<pre style=\"white-space:pre;overflow-x:auto;line-height:normal;font-family:Menlo,'DejaVu Sans Mono',consolas,'Courier New',monospace\"><span style=\"color: #7fbfbf; text-decoration-color: #7fbfbf\">                    </span><span style=\"color: #008000; text-decoration-color: #008000\">INFO    </span>  | do_trim_silence: <span style=\"color: #ff0000; text-decoration-color: #ff0000; font-style: italic\">False</span>                                             <a href=\"file:///home/mcbrown/.manim_venv/lib/python3.10/site-packages/TTS/utils/audio/processor.py\" target=\"_blank\"><span style=\"color: #7f7f7f; text-decoration-color: #7f7f7f\">processor.py</span></a><span style=\"color: #7f7f7f; text-decoration-color: #7f7f7f\">:</span><a href=\"file:///home/mcbrown/.manim_venv/lib/python3.10/site-packages/TTS/utils/audio/processor.py#231\" target=\"_blank\"><span style=\"color: #7f7f7f; text-decoration-color: #7f7f7f\">231</span></a>\n",
       "</pre>\n"
      ],
      "text/plain": [
       "\u001b[2;36m                   \u001b[0m\u001b[2;36m \u001b[0m\u001b[32mINFO    \u001b[0m  | do_trim_silence: \u001b[3;91mFalse\u001b[0m                                             \u001b]8;id=56383;file:///home/mcbrown/.manim_venv/lib/python3.10/site-packages/TTS/utils/audio/processor.py\u001b\\\u001b[2mprocessor.py\u001b[0m\u001b]8;;\u001b\\\u001b[2m:\u001b[0m\u001b]8;id=250085;file:///home/mcbrown/.manim_venv/lib/python3.10/site-packages/TTS/utils/audio/processor.py#231\u001b\\\u001b[2m231\u001b[0m\u001b]8;;\u001b\\\n"
      ]
     },
     "metadata": {},
     "output_type": "display_data"
    },
    {
     "data": {
      "text/html": [
       "<pre style=\"white-space:pre;overflow-x:auto;line-height:normal;font-family:Menlo,'DejaVu Sans Mono',consolas,'Courier New',monospace\"><span style=\"color: #7fbfbf; text-decoration-color: #7fbfbf\">                    </span><span style=\"color: #008000; text-decoration-color: #008000\">INFO    </span>  | trim_db: <span style=\"color: #008000; text-decoration-color: #008000\">60</span>                                                        <a href=\"file:///home/mcbrown/.manim_venv/lib/python3.10/site-packages/TTS/utils/audio/processor.py\" target=\"_blank\"><span style=\"color: #7f7f7f; text-decoration-color: #7f7f7f\">processor.py</span></a><span style=\"color: #7f7f7f; text-decoration-color: #7f7f7f\">:</span><a href=\"file:///home/mcbrown/.manim_venv/lib/python3.10/site-packages/TTS/utils/audio/processor.py#231\" target=\"_blank\"><span style=\"color: #7f7f7f; text-decoration-color: #7f7f7f\">231</span></a>\n",
       "</pre>\n"
      ],
      "text/plain": [
       "\u001b[2;36m                   \u001b[0m\u001b[2;36m \u001b[0m\u001b[32mINFO    \u001b[0m  | trim_db: \u001b[32m60\u001b[0m                                                        \u001b]8;id=142781;file:///home/mcbrown/.manim_venv/lib/python3.10/site-packages/TTS/utils/audio/processor.py\u001b\\\u001b[2mprocessor.py\u001b[0m\u001b]8;;\u001b\\\u001b[2m:\u001b[0m\u001b]8;id=995333;file:///home/mcbrown/.manim_venv/lib/python3.10/site-packages/TTS/utils/audio/processor.py#231\u001b\\\u001b[2m231\u001b[0m\u001b]8;;\u001b\\\n"
      ]
     },
     "metadata": {},
     "output_type": "display_data"
    },
    {
     "data": {
      "text/html": [
       "<pre style=\"white-space:pre;overflow-x:auto;line-height:normal;font-family:Menlo,'DejaVu Sans Mono',consolas,'Courier New',monospace\"><span style=\"color: #7fbfbf; text-decoration-color: #7fbfbf\">                    </span><span style=\"color: #008000; text-decoration-color: #008000\">INFO    </span>  | do_sound_norm: <span style=\"color: #ff0000; text-decoration-color: #ff0000; font-style: italic\">False</span>                                               <a href=\"file:///home/mcbrown/.manim_venv/lib/python3.10/site-packages/TTS/utils/audio/processor.py\" target=\"_blank\"><span style=\"color: #7f7f7f; text-decoration-color: #7f7f7f\">processor.py</span></a><span style=\"color: #7f7f7f; text-decoration-color: #7f7f7f\">:</span><a href=\"file:///home/mcbrown/.manim_venv/lib/python3.10/site-packages/TTS/utils/audio/processor.py#231\" target=\"_blank\"><span style=\"color: #7f7f7f; text-decoration-color: #7f7f7f\">231</span></a>\n",
       "</pre>\n"
      ],
      "text/plain": [
       "\u001b[2;36m                   \u001b[0m\u001b[2;36m \u001b[0m\u001b[32mINFO    \u001b[0m  | do_sound_norm: \u001b[3;91mFalse\u001b[0m                                               \u001b]8;id=767981;file:///home/mcbrown/.manim_venv/lib/python3.10/site-packages/TTS/utils/audio/processor.py\u001b\\\u001b[2mprocessor.py\u001b[0m\u001b]8;;\u001b\\\u001b[2m:\u001b[0m\u001b]8;id=383137;file:///home/mcbrown/.manim_venv/lib/python3.10/site-packages/TTS/utils/audio/processor.py#231\u001b\\\u001b[2m231\u001b[0m\u001b]8;;\u001b\\\n"
      ]
     },
     "metadata": {},
     "output_type": "display_data"
    },
    {
     "data": {
      "text/html": [
       "<pre style=\"white-space:pre;overflow-x:auto;line-height:normal;font-family:Menlo,'DejaVu Sans Mono',consolas,'Courier New',monospace\"><span style=\"color: #7fbfbf; text-decoration-color: #7fbfbf\">                    </span><span style=\"color: #008000; text-decoration-color: #008000\">INFO    </span>  | do_amp_to_db_linear: <span style=\"color: #00ff00; text-decoration-color: #00ff00; font-style: italic\">True</span>                                          <a href=\"file:///home/mcbrown/.manim_venv/lib/python3.10/site-packages/TTS/utils/audio/processor.py\" target=\"_blank\"><span style=\"color: #7f7f7f; text-decoration-color: #7f7f7f\">processor.py</span></a><span style=\"color: #7f7f7f; text-decoration-color: #7f7f7f\">:</span><a href=\"file:///home/mcbrown/.manim_venv/lib/python3.10/site-packages/TTS/utils/audio/processor.py#231\" target=\"_blank\"><span style=\"color: #7f7f7f; text-decoration-color: #7f7f7f\">231</span></a>\n",
       "</pre>\n"
      ],
      "text/plain": [
       "\u001b[2;36m                   \u001b[0m\u001b[2;36m \u001b[0m\u001b[32mINFO    \u001b[0m  | do_amp_to_db_linear: \u001b[3;92mTrue\u001b[0m                                          \u001b]8;id=463980;file:///home/mcbrown/.manim_venv/lib/python3.10/site-packages/TTS/utils/audio/processor.py\u001b\\\u001b[2mprocessor.py\u001b[0m\u001b]8;;\u001b\\\u001b[2m:\u001b[0m\u001b]8;id=50552;file:///home/mcbrown/.manim_venv/lib/python3.10/site-packages/TTS/utils/audio/processor.py#231\u001b\\\u001b[2m231\u001b[0m\u001b]8;;\u001b\\\n"
      ]
     },
     "metadata": {},
     "output_type": "display_data"
    },
    {
     "data": {
      "text/html": [
       "<pre style=\"white-space:pre;overflow-x:auto;line-height:normal;font-family:Menlo,'DejaVu Sans Mono',consolas,'Courier New',monospace\"><span style=\"color: #7fbfbf; text-decoration-color: #7fbfbf\">                    </span><span style=\"color: #008000; text-decoration-color: #008000\">INFO    </span>  | do_amp_to_db_mel: <span style=\"color: #00ff00; text-decoration-color: #00ff00; font-style: italic\">True</span>                                             <a href=\"file:///home/mcbrown/.manim_venv/lib/python3.10/site-packages/TTS/utils/audio/processor.py\" target=\"_blank\"><span style=\"color: #7f7f7f; text-decoration-color: #7f7f7f\">processor.py</span></a><span style=\"color: #7f7f7f; text-decoration-color: #7f7f7f\">:</span><a href=\"file:///home/mcbrown/.manim_venv/lib/python3.10/site-packages/TTS/utils/audio/processor.py#231\" target=\"_blank\"><span style=\"color: #7f7f7f; text-decoration-color: #7f7f7f\">231</span></a>\n",
       "</pre>\n"
      ],
      "text/plain": [
       "\u001b[2;36m                   \u001b[0m\u001b[2;36m \u001b[0m\u001b[32mINFO    \u001b[0m  | do_amp_to_db_mel: \u001b[3;92mTrue\u001b[0m                                             \u001b]8;id=607773;file:///home/mcbrown/.manim_venv/lib/python3.10/site-packages/TTS/utils/audio/processor.py\u001b\\\u001b[2mprocessor.py\u001b[0m\u001b]8;;\u001b\\\u001b[2m:\u001b[0m\u001b]8;id=595921;file:///home/mcbrown/.manim_venv/lib/python3.10/site-packages/TTS/utils/audio/processor.py#231\u001b\\\u001b[2m231\u001b[0m\u001b]8;;\u001b\\\n"
      ]
     },
     "metadata": {},
     "output_type": "display_data"
    },
    {
     "data": {
      "text/html": [
       "<pre style=\"white-space:pre;overflow-x:auto;line-height:normal;font-family:Menlo,'DejaVu Sans Mono',consolas,'Courier New',monospace\"><span style=\"color: #7fbfbf; text-decoration-color: #7fbfbf\">                    </span><span style=\"color: #008000; text-decoration-color: #008000\">INFO    </span>  | do_rms_norm: <span style=\"color: #ff0000; text-decoration-color: #ff0000; font-style: italic\">False</span>                                                 <a href=\"file:///home/mcbrown/.manim_venv/lib/python3.10/site-packages/TTS/utils/audio/processor.py\" target=\"_blank\"><span style=\"color: #7f7f7f; text-decoration-color: #7f7f7f\">processor.py</span></a><span style=\"color: #7f7f7f; text-decoration-color: #7f7f7f\">:</span><a href=\"file:///home/mcbrown/.manim_venv/lib/python3.10/site-packages/TTS/utils/audio/processor.py#231\" target=\"_blank\"><span style=\"color: #7f7f7f; text-decoration-color: #7f7f7f\">231</span></a>\n",
       "</pre>\n"
      ],
      "text/plain": [
       "\u001b[2;36m                   \u001b[0m\u001b[2;36m \u001b[0m\u001b[32mINFO    \u001b[0m  | do_rms_norm: \u001b[3;91mFalse\u001b[0m                                                 \u001b]8;id=587991;file:///home/mcbrown/.manim_venv/lib/python3.10/site-packages/TTS/utils/audio/processor.py\u001b\\\u001b[2mprocessor.py\u001b[0m\u001b]8;;\u001b\\\u001b[2m:\u001b[0m\u001b]8;id=661613;file:///home/mcbrown/.manim_venv/lib/python3.10/site-packages/TTS/utils/audio/processor.py#231\u001b\\\u001b[2m231\u001b[0m\u001b]8;;\u001b\\\n"
      ]
     },
     "metadata": {},
     "output_type": "display_data"
    },
    {
     "data": {
      "text/html": [
       "<pre style=\"white-space:pre;overflow-x:auto;line-height:normal;font-family:Menlo,'DejaVu Sans Mono',consolas,'Courier New',monospace\"><span style=\"color: #7fbfbf; text-decoration-color: #7fbfbf\">                    </span><span style=\"color: #008000; text-decoration-color: #008000\">INFO    </span>  | db_level: <span style=\"color: #800080; text-decoration-color: #800080; font-style: italic\">None</span>                                                     <a href=\"file:///home/mcbrown/.manim_venv/lib/python3.10/site-packages/TTS/utils/audio/processor.py\" target=\"_blank\"><span style=\"color: #7f7f7f; text-decoration-color: #7f7f7f\">processor.py</span></a><span style=\"color: #7f7f7f; text-decoration-color: #7f7f7f\">:</span><a href=\"file:///home/mcbrown/.manim_venv/lib/python3.10/site-packages/TTS/utils/audio/processor.py#231\" target=\"_blank\"><span style=\"color: #7f7f7f; text-decoration-color: #7f7f7f\">231</span></a>\n",
       "</pre>\n"
      ],
      "text/plain": [
       "\u001b[2;36m                   \u001b[0m\u001b[2;36m \u001b[0m\u001b[32mINFO    \u001b[0m  | db_level: \u001b[3;35mNone\u001b[0m                                                     \u001b]8;id=200719;file:///home/mcbrown/.manim_venv/lib/python3.10/site-packages/TTS/utils/audio/processor.py\u001b\\\u001b[2mprocessor.py\u001b[0m\u001b]8;;\u001b\\\u001b[2m:\u001b[0m\u001b]8;id=617952;file:///home/mcbrown/.manim_venv/lib/python3.10/site-packages/TTS/utils/audio/processor.py#231\u001b\\\u001b[2m231\u001b[0m\u001b]8;;\u001b\\\n"
      ]
     },
     "metadata": {},
     "output_type": "display_data"
    },
    {
     "data": {
      "text/html": [
       "<pre style=\"white-space:pre;overflow-x:auto;line-height:normal;font-family:Menlo,'DejaVu Sans Mono',consolas,'Courier New',monospace\"><span style=\"color: #7fbfbf; text-decoration-color: #7fbfbf\">                    </span><span style=\"color: #008000; text-decoration-color: #008000\">INFO    </span>  | stats_path: <span style=\"color: #800080; text-decoration-color: #800080; font-style: italic\">None</span>                                                   <a href=\"file:///home/mcbrown/.manim_venv/lib/python3.10/site-packages/TTS/utils/audio/processor.py\" target=\"_blank\"><span style=\"color: #7f7f7f; text-decoration-color: #7f7f7f\">processor.py</span></a><span style=\"color: #7f7f7f; text-decoration-color: #7f7f7f\">:</span><a href=\"file:///home/mcbrown/.manim_venv/lib/python3.10/site-packages/TTS/utils/audio/processor.py#231\" target=\"_blank\"><span style=\"color: #7f7f7f; text-decoration-color: #7f7f7f\">231</span></a>\n",
       "</pre>\n"
      ],
      "text/plain": [
       "\u001b[2;36m                   \u001b[0m\u001b[2;36m \u001b[0m\u001b[32mINFO    \u001b[0m  | stats_path: \u001b[3;35mNone\u001b[0m                                                   \u001b]8;id=681694;file:///home/mcbrown/.manim_venv/lib/python3.10/site-packages/TTS/utils/audio/processor.py\u001b\\\u001b[2mprocessor.py\u001b[0m\u001b]8;;\u001b\\\u001b[2m:\u001b[0m\u001b]8;id=258408;file:///home/mcbrown/.manim_venv/lib/python3.10/site-packages/TTS/utils/audio/processor.py#231\u001b\\\u001b[2m231\u001b[0m\u001b]8;;\u001b\\\n"
      ]
     },
     "metadata": {},
     "output_type": "display_data"
    },
    {
     "data": {
      "text/html": [
       "<pre style=\"white-space:pre;overflow-x:auto;line-height:normal;font-family:Menlo,'DejaVu Sans Mono',consolas,'Courier New',monospace\"><span style=\"color: #7fbfbf; text-decoration-color: #7fbfbf\">                    </span><span style=\"color: #008000; text-decoration-color: #008000\">INFO    </span>  | base: <span style=\"color: #008000; text-decoration-color: #008000\">2.718281828459045</span>                                            <a href=\"file:///home/mcbrown/.manim_venv/lib/python3.10/site-packages/TTS/utils/audio/processor.py\" target=\"_blank\"><span style=\"color: #7f7f7f; text-decoration-color: #7f7f7f\">processor.py</span></a><span style=\"color: #7f7f7f; text-decoration-color: #7f7f7f\">:</span><a href=\"file:///home/mcbrown/.manim_venv/lib/python3.10/site-packages/TTS/utils/audio/processor.py#231\" target=\"_blank\"><span style=\"color: #7f7f7f; text-decoration-color: #7f7f7f\">231</span></a>\n",
       "</pre>\n"
      ],
      "text/plain": [
       "\u001b[2;36m                   \u001b[0m\u001b[2;36m \u001b[0m\u001b[32mINFO    \u001b[0m  | base: \u001b[32m2.718281828459045\u001b[0m                                            \u001b]8;id=724615;file:///home/mcbrown/.manim_venv/lib/python3.10/site-packages/TTS/utils/audio/processor.py\u001b\\\u001b[2mprocessor.py\u001b[0m\u001b]8;;\u001b\\\u001b[2m:\u001b[0m\u001b]8;id=448255;file:///home/mcbrown/.manim_venv/lib/python3.10/site-packages/TTS/utils/audio/processor.py#231\u001b\\\u001b[2m231\u001b[0m\u001b]8;;\u001b\\\n"
      ]
     },
     "metadata": {},
     "output_type": "display_data"
    },
    {
     "data": {
      "text/html": [
       "<pre style=\"white-space:pre;overflow-x:auto;line-height:normal;font-family:Menlo,'DejaVu Sans Mono',consolas,'Courier New',monospace\"><span style=\"color: #7fbfbf; text-decoration-color: #7fbfbf\">                    </span><span style=\"color: #008000; text-decoration-color: #008000\">INFO    </span>  | hop_length: <span style=\"color: #008000; text-decoration-color: #008000\">256</span>                                                    <a href=\"file:///home/mcbrown/.manim_venv/lib/python3.10/site-packages/TTS/utils/audio/processor.py\" target=\"_blank\"><span style=\"color: #7f7f7f; text-decoration-color: #7f7f7f\">processor.py</span></a><span style=\"color: #7f7f7f; text-decoration-color: #7f7f7f\">:</span><a href=\"file:///home/mcbrown/.manim_venv/lib/python3.10/site-packages/TTS/utils/audio/processor.py#231\" target=\"_blank\"><span style=\"color: #7f7f7f; text-decoration-color: #7f7f7f\">231</span></a>\n",
       "</pre>\n"
      ],
      "text/plain": [
       "\u001b[2;36m                   \u001b[0m\u001b[2;36m \u001b[0m\u001b[32mINFO    \u001b[0m  | hop_length: \u001b[32m256\u001b[0m                                                    \u001b]8;id=136580;file:///home/mcbrown/.manim_venv/lib/python3.10/site-packages/TTS/utils/audio/processor.py\u001b\\\u001b[2mprocessor.py\u001b[0m\u001b]8;;\u001b\\\u001b[2m:\u001b[0m\u001b]8;id=359267;file:///home/mcbrown/.manim_venv/lib/python3.10/site-packages/TTS/utils/audio/processor.py#231\u001b\\\u001b[2m231\u001b[0m\u001b]8;;\u001b\\\n"
      ]
     },
     "metadata": {},
     "output_type": "display_data"
    },
    {
     "data": {
      "text/html": [
       "<pre style=\"white-space:pre;overflow-x:auto;line-height:normal;font-family:Menlo,'DejaVu Sans Mono',consolas,'Courier New',monospace\"><span style=\"color: #7fbfbf; text-decoration-color: #7fbfbf\">                    </span><span style=\"color: #008000; text-decoration-color: #008000\">INFO    </span>  | win_length: <span style=\"color: #008000; text-decoration-color: #008000\">1024</span>                                                   <a href=\"file:///home/mcbrown/.manim_venv/lib/python3.10/site-packages/TTS/utils/audio/processor.py\" target=\"_blank\"><span style=\"color: #7f7f7f; text-decoration-color: #7f7f7f\">processor.py</span></a><span style=\"color: #7f7f7f; text-decoration-color: #7f7f7f\">:</span><a href=\"file:///home/mcbrown/.manim_venv/lib/python3.10/site-packages/TTS/utils/audio/processor.py#231\" target=\"_blank\"><span style=\"color: #7f7f7f; text-decoration-color: #7f7f7f\">231</span></a>\n",
       "</pre>\n"
      ],
      "text/plain": [
       "\u001b[2;36m                   \u001b[0m\u001b[2;36m \u001b[0m\u001b[32mINFO    \u001b[0m  | win_length: \u001b[32m1024\u001b[0m                                                   \u001b]8;id=990179;file:///home/mcbrown/.manim_venv/lib/python3.10/site-packages/TTS/utils/audio/processor.py\u001b\\\u001b[2mprocessor.py\u001b[0m\u001b]8;;\u001b\\\u001b[2m:\u001b[0m\u001b]8;id=303070;file:///home/mcbrown/.manim_venv/lib/python3.10/site-packages/TTS/utils/audio/processor.py#231\u001b\\\u001b[2m231\u001b[0m\u001b]8;;\u001b\\\n"
      ]
     },
     "metadata": {},
     "output_type": "display_data"
    },
    {
     "data": {
      "text/html": [
       "<pre style=\"white-space:pre;overflow-x:auto;line-height:normal;font-family:Menlo,'DejaVu Sans Mono',consolas,'Courier New',monospace\"><span style=\"color: #7fbfbf; text-decoration-color: #7fbfbf\">                    </span><span style=\"color: #008000; text-decoration-color: #008000\">INFO    </span> Vocoder model: hifigan                                                  <a href=\"file:///home/mcbrown/.manim_venv/lib/python3.10/site-packages/TTS/vocoder/models/__init__.py\" target=\"_blank\"><span style=\"color: #7f7f7f; text-decoration-color: #7f7f7f\">__init__.py</span></a><span style=\"color: #7f7f7f; text-decoration-color: #7f7f7f\">:</span><a href=\"file:///home/mcbrown/.manim_venv/lib/python3.10/site-packages/TTS/vocoder/models/__init__.py#32\" target=\"_blank\"><span style=\"color: #7f7f7f; text-decoration-color: #7f7f7f\">32</span></a>\n",
       "</pre>\n"
      ],
      "text/plain": [
       "\u001b[2;36m                   \u001b[0m\u001b[2;36m \u001b[0m\u001b[32mINFO    \u001b[0m Vocoder model: hifigan                                                  \u001b]8;id=153230;file:///home/mcbrown/.manim_venv/lib/python3.10/site-packages/TTS/vocoder/models/__init__.py\u001b\\\u001b[2m__init__.py\u001b[0m\u001b]8;;\u001b\\\u001b[2m:\u001b[0m\u001b]8;id=77693;file:///home/mcbrown/.manim_venv/lib/python3.10/site-packages/TTS/vocoder/models/__init__.py#32\u001b\\\u001b[2m32\u001b[0m\u001b]8;;\u001b\\\n"
      ]
     },
     "metadata": {},
     "output_type": "display_data"
    },
    {
     "data": {
      "text/html": [
       "<pre style=\"white-space:pre;overflow-x:auto;line-height:normal;font-family:Menlo,'DejaVu Sans Mono',consolas,'Courier New',monospace\"><span style=\"color: #7fbfbf; text-decoration-color: #7fbfbf\">                    </span><span style=\"color: #008000; text-decoration-color: #008000\">INFO    </span> Setting up Audio Processor<span style=\"color: #808000; text-decoration-color: #808000\">...</span>                                         <a href=\"file:///home/mcbrown/.manim_venv/lib/python3.10/site-packages/TTS/utils/audio/processor.py\" target=\"_blank\"><span style=\"color: #7f7f7f; text-decoration-color: #7f7f7f\">processor.py</span></a><span style=\"color: #7f7f7f; text-decoration-color: #7f7f7f\">:</span><a href=\"file:///home/mcbrown/.manim_venv/lib/python3.10/site-packages/TTS/utils/audio/processor.py#229\" target=\"_blank\"><span style=\"color: #7f7f7f; text-decoration-color: #7f7f7f\">229</span></a>\n",
       "</pre>\n"
      ],
      "text/plain": [
       "\u001b[2;36m                   \u001b[0m\u001b[2;36m \u001b[0m\u001b[32mINFO    \u001b[0m Setting up Audio Processor\u001b[33m...\u001b[0m                                         \u001b]8;id=40607;file:///home/mcbrown/.manim_venv/lib/python3.10/site-packages/TTS/utils/audio/processor.py\u001b\\\u001b[2mprocessor.py\u001b[0m\u001b]8;;\u001b\\\u001b[2m:\u001b[0m\u001b]8;id=412893;file:///home/mcbrown/.manim_venv/lib/python3.10/site-packages/TTS/utils/audio/processor.py#229\u001b\\\u001b[2m229\u001b[0m\u001b]8;;\u001b\\\n"
      ]
     },
     "metadata": {},
     "output_type": "display_data"
    },
    {
     "data": {
      "text/html": [
       "<pre style=\"white-space:pre;overflow-x:auto;line-height:normal;font-family:Menlo,'DejaVu Sans Mono',consolas,'Courier New',monospace\"><span style=\"color: #7fbfbf; text-decoration-color: #7fbfbf\">                    </span><span style=\"color: #008000; text-decoration-color: #008000\">INFO    </span>  | sample_rate: <span style=\"color: #008000; text-decoration-color: #008000\">22050</span>                                                 <a href=\"file:///home/mcbrown/.manim_venv/lib/python3.10/site-packages/TTS/utils/audio/processor.py\" target=\"_blank\"><span style=\"color: #7f7f7f; text-decoration-color: #7f7f7f\">processor.py</span></a><span style=\"color: #7f7f7f; text-decoration-color: #7f7f7f\">:</span><a href=\"file:///home/mcbrown/.manim_venv/lib/python3.10/site-packages/TTS/utils/audio/processor.py#231\" target=\"_blank\"><span style=\"color: #7f7f7f; text-decoration-color: #7f7f7f\">231</span></a>\n",
       "</pre>\n"
      ],
      "text/plain": [
       "\u001b[2;36m                   \u001b[0m\u001b[2;36m \u001b[0m\u001b[32mINFO    \u001b[0m  | sample_rate: \u001b[32m22050\u001b[0m                                                 \u001b]8;id=887181;file:///home/mcbrown/.manim_venv/lib/python3.10/site-packages/TTS/utils/audio/processor.py\u001b\\\u001b[2mprocessor.py\u001b[0m\u001b]8;;\u001b\\\u001b[2m:\u001b[0m\u001b]8;id=109197;file:///home/mcbrown/.manim_venv/lib/python3.10/site-packages/TTS/utils/audio/processor.py#231\u001b\\\u001b[2m231\u001b[0m\u001b]8;;\u001b\\\n"
      ]
     },
     "metadata": {},
     "output_type": "display_data"
    },
    {
     "data": {
      "text/html": [
       "<pre style=\"white-space:pre;overflow-x:auto;line-height:normal;font-family:Menlo,'DejaVu Sans Mono',consolas,'Courier New',monospace\"><span style=\"color: #7fbfbf; text-decoration-color: #7fbfbf\">                    </span><span style=\"color: #008000; text-decoration-color: #008000\">INFO    </span>  | resample: <span style=\"color: #ff0000; text-decoration-color: #ff0000; font-style: italic\">False</span>                                                    <a href=\"file:///home/mcbrown/.manim_venv/lib/python3.10/site-packages/TTS/utils/audio/processor.py\" target=\"_blank\"><span style=\"color: #7f7f7f; text-decoration-color: #7f7f7f\">processor.py</span></a><span style=\"color: #7f7f7f; text-decoration-color: #7f7f7f\">:</span><a href=\"file:///home/mcbrown/.manim_venv/lib/python3.10/site-packages/TTS/utils/audio/processor.py#231\" target=\"_blank\"><span style=\"color: #7f7f7f; text-decoration-color: #7f7f7f\">231</span></a>\n",
       "</pre>\n"
      ],
      "text/plain": [
       "\u001b[2;36m                   \u001b[0m\u001b[2;36m \u001b[0m\u001b[32mINFO    \u001b[0m  | resample: \u001b[3;91mFalse\u001b[0m                                                    \u001b]8;id=10384;file:///home/mcbrown/.manim_venv/lib/python3.10/site-packages/TTS/utils/audio/processor.py\u001b\\\u001b[2mprocessor.py\u001b[0m\u001b]8;;\u001b\\\u001b[2m:\u001b[0m\u001b]8;id=265319;file:///home/mcbrown/.manim_venv/lib/python3.10/site-packages/TTS/utils/audio/processor.py#231\u001b\\\u001b[2m231\u001b[0m\u001b]8;;\u001b\\\n"
      ]
     },
     "metadata": {},
     "output_type": "display_data"
    },
    {
     "data": {
      "text/html": [
       "<pre style=\"white-space:pre;overflow-x:auto;line-height:normal;font-family:Menlo,'DejaVu Sans Mono',consolas,'Courier New',monospace\"><span style=\"color: #7fbfbf; text-decoration-color: #7fbfbf\">                    </span><span style=\"color: #008000; text-decoration-color: #008000\">INFO    </span>  | num_mels: <span style=\"color: #008000; text-decoration-color: #008000\">80</span>                                                       <a href=\"file:///home/mcbrown/.manim_venv/lib/python3.10/site-packages/TTS/utils/audio/processor.py\" target=\"_blank\"><span style=\"color: #7f7f7f; text-decoration-color: #7f7f7f\">processor.py</span></a><span style=\"color: #7f7f7f; text-decoration-color: #7f7f7f\">:</span><a href=\"file:///home/mcbrown/.manim_venv/lib/python3.10/site-packages/TTS/utils/audio/processor.py#231\" target=\"_blank\"><span style=\"color: #7f7f7f; text-decoration-color: #7f7f7f\">231</span></a>\n",
       "</pre>\n"
      ],
      "text/plain": [
       "\u001b[2;36m                   \u001b[0m\u001b[2;36m \u001b[0m\u001b[32mINFO    \u001b[0m  | num_mels: \u001b[32m80\u001b[0m                                                       \u001b]8;id=345030;file:///home/mcbrown/.manim_venv/lib/python3.10/site-packages/TTS/utils/audio/processor.py\u001b\\\u001b[2mprocessor.py\u001b[0m\u001b]8;;\u001b\\\u001b[2m:\u001b[0m\u001b]8;id=655409;file:///home/mcbrown/.manim_venv/lib/python3.10/site-packages/TTS/utils/audio/processor.py#231\u001b\\\u001b[2m231\u001b[0m\u001b]8;;\u001b\\\n"
      ]
     },
     "metadata": {},
     "output_type": "display_data"
    },
    {
     "data": {
      "text/html": [
       "<pre style=\"white-space:pre;overflow-x:auto;line-height:normal;font-family:Menlo,'DejaVu Sans Mono',consolas,'Courier New',monospace\"><span style=\"color: #7fbfbf; text-decoration-color: #7fbfbf\">                    </span><span style=\"color: #008000; text-decoration-color: #008000\">INFO    </span>  | log_func: np.log                                                   <a href=\"file:///home/mcbrown/.manim_venv/lib/python3.10/site-packages/TTS/utils/audio/processor.py\" target=\"_blank\"><span style=\"color: #7f7f7f; text-decoration-color: #7f7f7f\">processor.py</span></a><span style=\"color: #7f7f7f; text-decoration-color: #7f7f7f\">:</span><a href=\"file:///home/mcbrown/.manim_venv/lib/python3.10/site-packages/TTS/utils/audio/processor.py#231\" target=\"_blank\"><span style=\"color: #7f7f7f; text-decoration-color: #7f7f7f\">231</span></a>\n",
       "</pre>\n"
      ],
      "text/plain": [
       "\u001b[2;36m                   \u001b[0m\u001b[2;36m \u001b[0m\u001b[32mINFO    \u001b[0m  | log_func: np.log                                                   \u001b]8;id=278189;file:///home/mcbrown/.manim_venv/lib/python3.10/site-packages/TTS/utils/audio/processor.py\u001b\\\u001b[2mprocessor.py\u001b[0m\u001b]8;;\u001b\\\u001b[2m:\u001b[0m\u001b]8;id=608325;file:///home/mcbrown/.manim_venv/lib/python3.10/site-packages/TTS/utils/audio/processor.py#231\u001b\\\u001b[2m231\u001b[0m\u001b]8;;\u001b\\\n"
      ]
     },
     "metadata": {},
     "output_type": "display_data"
    },
    {
     "data": {
      "text/html": [
       "<pre style=\"white-space:pre;overflow-x:auto;line-height:normal;font-family:Menlo,'DejaVu Sans Mono',consolas,'Courier New',monospace\"><span style=\"color: #7fbfbf; text-decoration-color: #7fbfbf\">                    </span><span style=\"color: #008000; text-decoration-color: #008000\">INFO    </span>  | min_level_db: <span style=\"color: #008000; text-decoration-color: #008000\">-100</span>                                                 <a href=\"file:///home/mcbrown/.manim_venv/lib/python3.10/site-packages/TTS/utils/audio/processor.py\" target=\"_blank\"><span style=\"color: #7f7f7f; text-decoration-color: #7f7f7f\">processor.py</span></a><span style=\"color: #7f7f7f; text-decoration-color: #7f7f7f\">:</span><a href=\"file:///home/mcbrown/.manim_venv/lib/python3.10/site-packages/TTS/utils/audio/processor.py#231\" target=\"_blank\"><span style=\"color: #7f7f7f; text-decoration-color: #7f7f7f\">231</span></a>\n",
       "</pre>\n"
      ],
      "text/plain": [
       "\u001b[2;36m                   \u001b[0m\u001b[2;36m \u001b[0m\u001b[32mINFO    \u001b[0m  | min_level_db: \u001b[32m-100\u001b[0m                                                 \u001b]8;id=237569;file:///home/mcbrown/.manim_venv/lib/python3.10/site-packages/TTS/utils/audio/processor.py\u001b\\\u001b[2mprocessor.py\u001b[0m\u001b]8;;\u001b\\\u001b[2m:\u001b[0m\u001b]8;id=571401;file:///home/mcbrown/.manim_venv/lib/python3.10/site-packages/TTS/utils/audio/processor.py#231\u001b\\\u001b[2m231\u001b[0m\u001b]8;;\u001b\\\n"
      ]
     },
     "metadata": {},
     "output_type": "display_data"
    },
    {
     "data": {
      "text/html": [
       "<pre style=\"white-space:pre;overflow-x:auto;line-height:normal;font-family:Menlo,'DejaVu Sans Mono',consolas,'Courier New',monospace\"><span style=\"color: #7fbfbf; text-decoration-color: #7fbfbf\">                    </span><span style=\"color: #008000; text-decoration-color: #008000\">INFO    </span>  | frame_shift_ms: <span style=\"color: #800080; text-decoration-color: #800080; font-style: italic\">None</span>                                               <a href=\"file:///home/mcbrown/.manim_venv/lib/python3.10/site-packages/TTS/utils/audio/processor.py\" target=\"_blank\"><span style=\"color: #7f7f7f; text-decoration-color: #7f7f7f\">processor.py</span></a><span style=\"color: #7f7f7f; text-decoration-color: #7f7f7f\">:</span><a href=\"file:///home/mcbrown/.manim_venv/lib/python3.10/site-packages/TTS/utils/audio/processor.py#231\" target=\"_blank\"><span style=\"color: #7f7f7f; text-decoration-color: #7f7f7f\">231</span></a>\n",
       "</pre>\n"
      ],
      "text/plain": [
       "\u001b[2;36m                   \u001b[0m\u001b[2;36m \u001b[0m\u001b[32mINFO    \u001b[0m  | frame_shift_ms: \u001b[3;35mNone\u001b[0m                                               \u001b]8;id=881144;file:///home/mcbrown/.manim_venv/lib/python3.10/site-packages/TTS/utils/audio/processor.py\u001b\\\u001b[2mprocessor.py\u001b[0m\u001b]8;;\u001b\\\u001b[2m:\u001b[0m\u001b]8;id=683580;file:///home/mcbrown/.manim_venv/lib/python3.10/site-packages/TTS/utils/audio/processor.py#231\u001b\\\u001b[2m231\u001b[0m\u001b]8;;\u001b\\\n"
      ]
     },
     "metadata": {},
     "output_type": "display_data"
    },
    {
     "data": {
      "text/html": [
       "<pre style=\"white-space:pre;overflow-x:auto;line-height:normal;font-family:Menlo,'DejaVu Sans Mono',consolas,'Courier New',monospace\"><span style=\"color: #7fbfbf; text-decoration-color: #7fbfbf\">                    </span><span style=\"color: #008000; text-decoration-color: #008000\">INFO    </span>  | frame_length_ms: <span style=\"color: #800080; text-decoration-color: #800080; font-style: italic\">None</span>                                              <a href=\"file:///home/mcbrown/.manim_venv/lib/python3.10/site-packages/TTS/utils/audio/processor.py\" target=\"_blank\"><span style=\"color: #7f7f7f; text-decoration-color: #7f7f7f\">processor.py</span></a><span style=\"color: #7f7f7f; text-decoration-color: #7f7f7f\">:</span><a href=\"file:///home/mcbrown/.manim_venv/lib/python3.10/site-packages/TTS/utils/audio/processor.py#231\" target=\"_blank\"><span style=\"color: #7f7f7f; text-decoration-color: #7f7f7f\">231</span></a>\n",
       "</pre>\n"
      ],
      "text/plain": [
       "\u001b[2;36m                   \u001b[0m\u001b[2;36m \u001b[0m\u001b[32mINFO    \u001b[0m  | frame_length_ms: \u001b[3;35mNone\u001b[0m                                              \u001b]8;id=903354;file:///home/mcbrown/.manim_venv/lib/python3.10/site-packages/TTS/utils/audio/processor.py\u001b\\\u001b[2mprocessor.py\u001b[0m\u001b]8;;\u001b\\\u001b[2m:\u001b[0m\u001b]8;id=46625;file:///home/mcbrown/.manim_venv/lib/python3.10/site-packages/TTS/utils/audio/processor.py#231\u001b\\\u001b[2m231\u001b[0m\u001b]8;;\u001b\\\n"
      ]
     },
     "metadata": {},
     "output_type": "display_data"
    },
    {
     "data": {
      "text/html": [
       "<pre style=\"white-space:pre;overflow-x:auto;line-height:normal;font-family:Menlo,'DejaVu Sans Mono',consolas,'Courier New',monospace\"><span style=\"color: #7fbfbf; text-decoration-color: #7fbfbf\">                    </span><span style=\"color: #008000; text-decoration-color: #008000\">INFO    </span>  | ref_level_db: <span style=\"color: #008000; text-decoration-color: #008000\">20</span>                                                   <a href=\"file:///home/mcbrown/.manim_venv/lib/python3.10/site-packages/TTS/utils/audio/processor.py\" target=\"_blank\"><span style=\"color: #7f7f7f; text-decoration-color: #7f7f7f\">processor.py</span></a><span style=\"color: #7f7f7f; text-decoration-color: #7f7f7f\">:</span><a href=\"file:///home/mcbrown/.manim_venv/lib/python3.10/site-packages/TTS/utils/audio/processor.py#231\" target=\"_blank\"><span style=\"color: #7f7f7f; text-decoration-color: #7f7f7f\">231</span></a>\n",
       "</pre>\n"
      ],
      "text/plain": [
       "\u001b[2;36m                   \u001b[0m\u001b[2;36m \u001b[0m\u001b[32mINFO    \u001b[0m  | ref_level_db: \u001b[32m20\u001b[0m                                                   \u001b]8;id=907971;file:///home/mcbrown/.manim_venv/lib/python3.10/site-packages/TTS/utils/audio/processor.py\u001b\\\u001b[2mprocessor.py\u001b[0m\u001b]8;;\u001b\\\u001b[2m:\u001b[0m\u001b]8;id=925803;file:///home/mcbrown/.manim_venv/lib/python3.10/site-packages/TTS/utils/audio/processor.py#231\u001b\\\u001b[2m231\u001b[0m\u001b]8;;\u001b\\\n"
      ]
     },
     "metadata": {},
     "output_type": "display_data"
    },
    {
     "data": {
      "text/html": [
       "<pre style=\"white-space:pre;overflow-x:auto;line-height:normal;font-family:Menlo,'DejaVu Sans Mono',consolas,'Courier New',monospace\"><span style=\"color: #7fbfbf; text-decoration-color: #7fbfbf\">                    </span><span style=\"color: #008000; text-decoration-color: #008000\">INFO    </span>  | fft_size: <span style=\"color: #008000; text-decoration-color: #008000\">1024</span>                                                     <a href=\"file:///home/mcbrown/.manim_venv/lib/python3.10/site-packages/TTS/utils/audio/processor.py\" target=\"_blank\"><span style=\"color: #7f7f7f; text-decoration-color: #7f7f7f\">processor.py</span></a><span style=\"color: #7f7f7f; text-decoration-color: #7f7f7f\">:</span><a href=\"file:///home/mcbrown/.manim_venv/lib/python3.10/site-packages/TTS/utils/audio/processor.py#231\" target=\"_blank\"><span style=\"color: #7f7f7f; text-decoration-color: #7f7f7f\">231</span></a>\n",
       "</pre>\n"
      ],
      "text/plain": [
       "\u001b[2;36m                   \u001b[0m\u001b[2;36m \u001b[0m\u001b[32mINFO    \u001b[0m  | fft_size: \u001b[32m1024\u001b[0m                                                     \u001b]8;id=973373;file:///home/mcbrown/.manim_venv/lib/python3.10/site-packages/TTS/utils/audio/processor.py\u001b\\\u001b[2mprocessor.py\u001b[0m\u001b]8;;\u001b\\\u001b[2m:\u001b[0m\u001b]8;id=142574;file:///home/mcbrown/.manim_venv/lib/python3.10/site-packages/TTS/utils/audio/processor.py#231\u001b\\\u001b[2m231\u001b[0m\u001b]8;;\u001b\\\n"
      ]
     },
     "metadata": {},
     "output_type": "display_data"
    },
    {
     "data": {
      "text/html": [
       "<pre style=\"white-space:pre;overflow-x:auto;line-height:normal;font-family:Menlo,'DejaVu Sans Mono',consolas,'Courier New',monospace\"><span style=\"color: #7fbfbf; text-decoration-color: #7fbfbf\">                    </span><span style=\"color: #008000; text-decoration-color: #008000\">INFO    </span>  | power: <span style=\"color: #008000; text-decoration-color: #008000\">1.5</span>                                                         <a href=\"file:///home/mcbrown/.manim_venv/lib/python3.10/site-packages/TTS/utils/audio/processor.py\" target=\"_blank\"><span style=\"color: #7f7f7f; text-decoration-color: #7f7f7f\">processor.py</span></a><span style=\"color: #7f7f7f; text-decoration-color: #7f7f7f\">:</span><a href=\"file:///home/mcbrown/.manim_venv/lib/python3.10/site-packages/TTS/utils/audio/processor.py#231\" target=\"_blank\"><span style=\"color: #7f7f7f; text-decoration-color: #7f7f7f\">231</span></a>\n",
       "</pre>\n"
      ],
      "text/plain": [
       "\u001b[2;36m                   \u001b[0m\u001b[2;36m \u001b[0m\u001b[32mINFO    \u001b[0m  | power: \u001b[32m1.5\u001b[0m                                                         \u001b]8;id=881529;file:///home/mcbrown/.manim_venv/lib/python3.10/site-packages/TTS/utils/audio/processor.py\u001b\\\u001b[2mprocessor.py\u001b[0m\u001b]8;;\u001b\\\u001b[2m:\u001b[0m\u001b]8;id=684778;file:///home/mcbrown/.manim_venv/lib/python3.10/site-packages/TTS/utils/audio/processor.py#231\u001b\\\u001b[2m231\u001b[0m\u001b]8;;\u001b\\\n"
      ]
     },
     "metadata": {},
     "output_type": "display_data"
    },
    {
     "data": {
      "text/html": [
       "<pre style=\"white-space:pre;overflow-x:auto;line-height:normal;font-family:Menlo,'DejaVu Sans Mono',consolas,'Courier New',monospace\"><span style=\"color: #7fbfbf; text-decoration-color: #7fbfbf\">                    </span><span style=\"color: #008000; text-decoration-color: #008000\">INFO    </span>  | preemphasis: <span style=\"color: #008000; text-decoration-color: #008000\">0.0</span>                                                   <a href=\"file:///home/mcbrown/.manim_venv/lib/python3.10/site-packages/TTS/utils/audio/processor.py\" target=\"_blank\"><span style=\"color: #7f7f7f; text-decoration-color: #7f7f7f\">processor.py</span></a><span style=\"color: #7f7f7f; text-decoration-color: #7f7f7f\">:</span><a href=\"file:///home/mcbrown/.manim_venv/lib/python3.10/site-packages/TTS/utils/audio/processor.py#231\" target=\"_blank\"><span style=\"color: #7f7f7f; text-decoration-color: #7f7f7f\">231</span></a>\n",
       "</pre>\n"
      ],
      "text/plain": [
       "\u001b[2;36m                   \u001b[0m\u001b[2;36m \u001b[0m\u001b[32mINFO    \u001b[0m  | preemphasis: \u001b[32m0.0\u001b[0m                                                   \u001b]8;id=886362;file:///home/mcbrown/.manim_venv/lib/python3.10/site-packages/TTS/utils/audio/processor.py\u001b\\\u001b[2mprocessor.py\u001b[0m\u001b]8;;\u001b\\\u001b[2m:\u001b[0m\u001b]8;id=154948;file:///home/mcbrown/.manim_venv/lib/python3.10/site-packages/TTS/utils/audio/processor.py#231\u001b\\\u001b[2m231\u001b[0m\u001b]8;;\u001b\\\n"
      ]
     },
     "metadata": {},
     "output_type": "display_data"
    },
    {
     "data": {
      "text/html": [
       "<pre style=\"white-space:pre;overflow-x:auto;line-height:normal;font-family:Menlo,'DejaVu Sans Mono',consolas,'Courier New',monospace\"><span style=\"color: #7fbfbf; text-decoration-color: #7fbfbf\">                    </span><span style=\"color: #008000; text-decoration-color: #008000\">INFO    </span>  | griffin_lim_iters: <span style=\"color: #008000; text-decoration-color: #008000\">60</span>                                              <a href=\"file:///home/mcbrown/.manim_venv/lib/python3.10/site-packages/TTS/utils/audio/processor.py\" target=\"_blank\"><span style=\"color: #7f7f7f; text-decoration-color: #7f7f7f\">processor.py</span></a><span style=\"color: #7f7f7f; text-decoration-color: #7f7f7f\">:</span><a href=\"file:///home/mcbrown/.manim_venv/lib/python3.10/site-packages/TTS/utils/audio/processor.py#231\" target=\"_blank\"><span style=\"color: #7f7f7f; text-decoration-color: #7f7f7f\">231</span></a>\n",
       "</pre>\n"
      ],
      "text/plain": [
       "\u001b[2;36m                   \u001b[0m\u001b[2;36m \u001b[0m\u001b[32mINFO    \u001b[0m  | griffin_lim_iters: \u001b[32m60\u001b[0m                                              \u001b]8;id=223186;file:///home/mcbrown/.manim_venv/lib/python3.10/site-packages/TTS/utils/audio/processor.py\u001b\\\u001b[2mprocessor.py\u001b[0m\u001b]8;;\u001b\\\u001b[2m:\u001b[0m\u001b]8;id=486406;file:///home/mcbrown/.manim_venv/lib/python3.10/site-packages/TTS/utils/audio/processor.py#231\u001b\\\u001b[2m231\u001b[0m\u001b]8;;\u001b\\\n"
      ]
     },
     "metadata": {},
     "output_type": "display_data"
    },
    {
     "data": {
      "text/html": [
       "<pre style=\"white-space:pre;overflow-x:auto;line-height:normal;font-family:Menlo,'DejaVu Sans Mono',consolas,'Courier New',monospace\"><span style=\"color: #7fbfbf; text-decoration-color: #7fbfbf\">                    </span><span style=\"color: #008000; text-decoration-color: #008000\">INFO    </span>  | signal_norm: <span style=\"color: #ff0000; text-decoration-color: #ff0000; font-style: italic\">False</span>                                                 <a href=\"file:///home/mcbrown/.manim_venv/lib/python3.10/site-packages/TTS/utils/audio/processor.py\" target=\"_blank\"><span style=\"color: #7f7f7f; text-decoration-color: #7f7f7f\">processor.py</span></a><span style=\"color: #7f7f7f; text-decoration-color: #7f7f7f\">:</span><a href=\"file:///home/mcbrown/.manim_venv/lib/python3.10/site-packages/TTS/utils/audio/processor.py#231\" target=\"_blank\"><span style=\"color: #7f7f7f; text-decoration-color: #7f7f7f\">231</span></a>\n",
       "</pre>\n"
      ],
      "text/plain": [
       "\u001b[2;36m                   \u001b[0m\u001b[2;36m \u001b[0m\u001b[32mINFO    \u001b[0m  | signal_norm: \u001b[3;91mFalse\u001b[0m                                                 \u001b]8;id=540101;file:///home/mcbrown/.manim_venv/lib/python3.10/site-packages/TTS/utils/audio/processor.py\u001b\\\u001b[2mprocessor.py\u001b[0m\u001b]8;;\u001b\\\u001b[2m:\u001b[0m\u001b]8;id=216211;file:///home/mcbrown/.manim_venv/lib/python3.10/site-packages/TTS/utils/audio/processor.py#231\u001b\\\u001b[2m231\u001b[0m\u001b]8;;\u001b\\\n"
      ]
     },
     "metadata": {},
     "output_type": "display_data"
    },
    {
     "data": {
      "text/html": [
       "<pre style=\"white-space:pre;overflow-x:auto;line-height:normal;font-family:Menlo,'DejaVu Sans Mono',consolas,'Courier New',monospace\"><span style=\"color: #7fbfbf; text-decoration-color: #7fbfbf\">                    </span><span style=\"color: #008000; text-decoration-color: #008000\">INFO    </span>  | symmetric_norm: <span style=\"color: #00ff00; text-decoration-color: #00ff00; font-style: italic\">True</span>                                               <a href=\"file:///home/mcbrown/.manim_venv/lib/python3.10/site-packages/TTS/utils/audio/processor.py\" target=\"_blank\"><span style=\"color: #7f7f7f; text-decoration-color: #7f7f7f\">processor.py</span></a><span style=\"color: #7f7f7f; text-decoration-color: #7f7f7f\">:</span><a href=\"file:///home/mcbrown/.manim_venv/lib/python3.10/site-packages/TTS/utils/audio/processor.py#231\" target=\"_blank\"><span style=\"color: #7f7f7f; text-decoration-color: #7f7f7f\">231</span></a>\n",
       "</pre>\n"
      ],
      "text/plain": [
       "\u001b[2;36m                   \u001b[0m\u001b[2;36m \u001b[0m\u001b[32mINFO    \u001b[0m  | symmetric_norm: \u001b[3;92mTrue\u001b[0m                                               \u001b]8;id=822927;file:///home/mcbrown/.manim_venv/lib/python3.10/site-packages/TTS/utils/audio/processor.py\u001b\\\u001b[2mprocessor.py\u001b[0m\u001b]8;;\u001b\\\u001b[2m:\u001b[0m\u001b]8;id=851062;file:///home/mcbrown/.manim_venv/lib/python3.10/site-packages/TTS/utils/audio/processor.py#231\u001b\\\u001b[2m231\u001b[0m\u001b]8;;\u001b\\\n"
      ]
     },
     "metadata": {},
     "output_type": "display_data"
    },
    {
     "data": {
      "text/html": [
       "<pre style=\"white-space:pre;overflow-x:auto;line-height:normal;font-family:Menlo,'DejaVu Sans Mono',consolas,'Courier New',monospace\"><span style=\"color: #7fbfbf; text-decoration-color: #7fbfbf\">                    </span><span style=\"color: #008000; text-decoration-color: #008000\">INFO    </span>  | mel_fmin: <span style=\"color: #008000; text-decoration-color: #008000\">0</span>                                                        <a href=\"file:///home/mcbrown/.manim_venv/lib/python3.10/site-packages/TTS/utils/audio/processor.py\" target=\"_blank\"><span style=\"color: #7f7f7f; text-decoration-color: #7f7f7f\">processor.py</span></a><span style=\"color: #7f7f7f; text-decoration-color: #7f7f7f\">:</span><a href=\"file:///home/mcbrown/.manim_venv/lib/python3.10/site-packages/TTS/utils/audio/processor.py#231\" target=\"_blank\"><span style=\"color: #7f7f7f; text-decoration-color: #7f7f7f\">231</span></a>\n",
       "</pre>\n"
      ],
      "text/plain": [
       "\u001b[2;36m                   \u001b[0m\u001b[2;36m \u001b[0m\u001b[32mINFO    \u001b[0m  | mel_fmin: \u001b[32m0\u001b[0m                                                        \u001b]8;id=496578;file:///home/mcbrown/.manim_venv/lib/python3.10/site-packages/TTS/utils/audio/processor.py\u001b\\\u001b[2mprocessor.py\u001b[0m\u001b]8;;\u001b\\\u001b[2m:\u001b[0m\u001b]8;id=156961;file:///home/mcbrown/.manim_venv/lib/python3.10/site-packages/TTS/utils/audio/processor.py#231\u001b\\\u001b[2m231\u001b[0m\u001b]8;;\u001b\\\n"
      ]
     },
     "metadata": {},
     "output_type": "display_data"
    },
    {
     "data": {
      "text/html": [
       "<pre style=\"white-space:pre;overflow-x:auto;line-height:normal;font-family:Menlo,'DejaVu Sans Mono',consolas,'Courier New',monospace\"><span style=\"color: #7fbfbf; text-decoration-color: #7fbfbf\">                    </span><span style=\"color: #008000; text-decoration-color: #008000\">INFO    </span>  | mel_fmax: <span style=\"color: #008000; text-decoration-color: #008000\">8000.0</span>                                                   <a href=\"file:///home/mcbrown/.manim_venv/lib/python3.10/site-packages/TTS/utils/audio/processor.py\" target=\"_blank\"><span style=\"color: #7f7f7f; text-decoration-color: #7f7f7f\">processor.py</span></a><span style=\"color: #7f7f7f; text-decoration-color: #7f7f7f\">:</span><a href=\"file:///home/mcbrown/.manim_venv/lib/python3.10/site-packages/TTS/utils/audio/processor.py#231\" target=\"_blank\"><span style=\"color: #7f7f7f; text-decoration-color: #7f7f7f\">231</span></a>\n",
       "</pre>\n"
      ],
      "text/plain": [
       "\u001b[2;36m                   \u001b[0m\u001b[2;36m \u001b[0m\u001b[32mINFO    \u001b[0m  | mel_fmax: \u001b[32m8000.0\u001b[0m                                                   \u001b]8;id=294372;file:///home/mcbrown/.manim_venv/lib/python3.10/site-packages/TTS/utils/audio/processor.py\u001b\\\u001b[2mprocessor.py\u001b[0m\u001b]8;;\u001b\\\u001b[2m:\u001b[0m\u001b]8;id=626926;file:///home/mcbrown/.manim_venv/lib/python3.10/site-packages/TTS/utils/audio/processor.py#231\u001b\\\u001b[2m231\u001b[0m\u001b]8;;\u001b\\\n"
      ]
     },
     "metadata": {},
     "output_type": "display_data"
    },
    {
     "data": {
      "text/html": [
       "<pre style=\"white-space:pre;overflow-x:auto;line-height:normal;font-family:Menlo,'DejaVu Sans Mono',consolas,'Courier New',monospace\"><span style=\"color: #7fbfbf; text-decoration-color: #7fbfbf\">                    </span><span style=\"color: #008000; text-decoration-color: #008000\">INFO    </span>  | pitch_fmin: <span style=\"color: #008000; text-decoration-color: #008000\">1.0</span>                                                    <a href=\"file:///home/mcbrown/.manim_venv/lib/python3.10/site-packages/TTS/utils/audio/processor.py\" target=\"_blank\"><span style=\"color: #7f7f7f; text-decoration-color: #7f7f7f\">processor.py</span></a><span style=\"color: #7f7f7f; text-decoration-color: #7f7f7f\">:</span><a href=\"file:///home/mcbrown/.manim_venv/lib/python3.10/site-packages/TTS/utils/audio/processor.py#231\" target=\"_blank\"><span style=\"color: #7f7f7f; text-decoration-color: #7f7f7f\">231</span></a>\n",
       "</pre>\n"
      ],
      "text/plain": [
       "\u001b[2;36m                   \u001b[0m\u001b[2;36m \u001b[0m\u001b[32mINFO    \u001b[0m  | pitch_fmin: \u001b[32m1.0\u001b[0m                                                    \u001b]8;id=24832;file:///home/mcbrown/.manim_venv/lib/python3.10/site-packages/TTS/utils/audio/processor.py\u001b\\\u001b[2mprocessor.py\u001b[0m\u001b]8;;\u001b\\\u001b[2m:\u001b[0m\u001b]8;id=993401;file:///home/mcbrown/.manim_venv/lib/python3.10/site-packages/TTS/utils/audio/processor.py#231\u001b\\\u001b[2m231\u001b[0m\u001b]8;;\u001b\\\n"
      ]
     },
     "metadata": {},
     "output_type": "display_data"
    },
    {
     "data": {
      "text/html": [
       "<pre style=\"white-space:pre;overflow-x:auto;line-height:normal;font-family:Menlo,'DejaVu Sans Mono',consolas,'Courier New',monospace\"><span style=\"color: #7fbfbf; text-decoration-color: #7fbfbf\">                    </span><span style=\"color: #008000; text-decoration-color: #008000\">INFO    </span>  | pitch_fmax: <span style=\"color: #008000; text-decoration-color: #008000\">640.0</span>                                                  <a href=\"file:///home/mcbrown/.manim_venv/lib/python3.10/site-packages/TTS/utils/audio/processor.py\" target=\"_blank\"><span style=\"color: #7f7f7f; text-decoration-color: #7f7f7f\">processor.py</span></a><span style=\"color: #7f7f7f; text-decoration-color: #7f7f7f\">:</span><a href=\"file:///home/mcbrown/.manim_venv/lib/python3.10/site-packages/TTS/utils/audio/processor.py#231\" target=\"_blank\"><span style=\"color: #7f7f7f; text-decoration-color: #7f7f7f\">231</span></a>\n",
       "</pre>\n"
      ],
      "text/plain": [
       "\u001b[2;36m                   \u001b[0m\u001b[2;36m \u001b[0m\u001b[32mINFO    \u001b[0m  | pitch_fmax: \u001b[32m640.0\u001b[0m                                                  \u001b]8;id=805364;file:///home/mcbrown/.manim_venv/lib/python3.10/site-packages/TTS/utils/audio/processor.py\u001b\\\u001b[2mprocessor.py\u001b[0m\u001b]8;;\u001b\\\u001b[2m:\u001b[0m\u001b]8;id=474159;file:///home/mcbrown/.manim_venv/lib/python3.10/site-packages/TTS/utils/audio/processor.py#231\u001b\\\u001b[2m231\u001b[0m\u001b]8;;\u001b\\\n"
      ]
     },
     "metadata": {},
     "output_type": "display_data"
    },
    {
     "data": {
      "text/html": [
       "<pre style=\"white-space:pre;overflow-x:auto;line-height:normal;font-family:Menlo,'DejaVu Sans Mono',consolas,'Courier New',monospace\"><span style=\"color: #7fbfbf; text-decoration-color: #7fbfbf\">                    </span><span style=\"color: #008000; text-decoration-color: #008000\">INFO    </span>  | spec_gain: <span style=\"color: #008000; text-decoration-color: #008000\">1.0</span>                                                     <a href=\"file:///home/mcbrown/.manim_venv/lib/python3.10/site-packages/TTS/utils/audio/processor.py\" target=\"_blank\"><span style=\"color: #7f7f7f; text-decoration-color: #7f7f7f\">processor.py</span></a><span style=\"color: #7f7f7f; text-decoration-color: #7f7f7f\">:</span><a href=\"file:///home/mcbrown/.manim_venv/lib/python3.10/site-packages/TTS/utils/audio/processor.py#231\" target=\"_blank\"><span style=\"color: #7f7f7f; text-decoration-color: #7f7f7f\">231</span></a>\n",
       "</pre>\n"
      ],
      "text/plain": [
       "\u001b[2;36m                   \u001b[0m\u001b[2;36m \u001b[0m\u001b[32mINFO    \u001b[0m  | spec_gain: \u001b[32m1.0\u001b[0m                                                     \u001b]8;id=553252;file:///home/mcbrown/.manim_venv/lib/python3.10/site-packages/TTS/utils/audio/processor.py\u001b\\\u001b[2mprocessor.py\u001b[0m\u001b]8;;\u001b\\\u001b[2m:\u001b[0m\u001b]8;id=833525;file:///home/mcbrown/.manim_venv/lib/python3.10/site-packages/TTS/utils/audio/processor.py#231\u001b\\\u001b[2m231\u001b[0m\u001b]8;;\u001b\\\n"
      ]
     },
     "metadata": {},
     "output_type": "display_data"
    },
    {
     "data": {
      "text/html": [
       "<pre style=\"white-space:pre;overflow-x:auto;line-height:normal;font-family:Menlo,'DejaVu Sans Mono',consolas,'Courier New',monospace\"><span style=\"color: #7fbfbf; text-decoration-color: #7fbfbf\">                    </span><span style=\"color: #008000; text-decoration-color: #008000\">INFO    </span>  | stft_pad_mode: reflect                                             <a href=\"file:///home/mcbrown/.manim_venv/lib/python3.10/site-packages/TTS/utils/audio/processor.py\" target=\"_blank\"><span style=\"color: #7f7f7f; text-decoration-color: #7f7f7f\">processor.py</span></a><span style=\"color: #7f7f7f; text-decoration-color: #7f7f7f\">:</span><a href=\"file:///home/mcbrown/.manim_venv/lib/python3.10/site-packages/TTS/utils/audio/processor.py#231\" target=\"_blank\"><span style=\"color: #7f7f7f; text-decoration-color: #7f7f7f\">231</span></a>\n",
       "</pre>\n"
      ],
      "text/plain": [
       "\u001b[2;36m                   \u001b[0m\u001b[2;36m \u001b[0m\u001b[32mINFO    \u001b[0m  | stft_pad_mode: reflect                                             \u001b]8;id=575387;file:///home/mcbrown/.manim_venv/lib/python3.10/site-packages/TTS/utils/audio/processor.py\u001b\\\u001b[2mprocessor.py\u001b[0m\u001b]8;;\u001b\\\u001b[2m:\u001b[0m\u001b]8;id=463217;file:///home/mcbrown/.manim_venv/lib/python3.10/site-packages/TTS/utils/audio/processor.py#231\u001b\\\u001b[2m231\u001b[0m\u001b]8;;\u001b\\\n"
      ]
     },
     "metadata": {},
     "output_type": "display_data"
    },
    {
     "data": {
      "text/html": [
       "<pre style=\"white-space:pre;overflow-x:auto;line-height:normal;font-family:Menlo,'DejaVu Sans Mono',consolas,'Courier New',monospace\"><span style=\"color: #7fbfbf; text-decoration-color: #7fbfbf\">                    </span><span style=\"color: #008000; text-decoration-color: #008000\">INFO    </span>  | max_norm: <span style=\"color: #008000; text-decoration-color: #008000\">4.0</span>                                                      <a href=\"file:///home/mcbrown/.manim_venv/lib/python3.10/site-packages/TTS/utils/audio/processor.py\" target=\"_blank\"><span style=\"color: #7f7f7f; text-decoration-color: #7f7f7f\">processor.py</span></a><span style=\"color: #7f7f7f; text-decoration-color: #7f7f7f\">:</span><a href=\"file:///home/mcbrown/.manim_venv/lib/python3.10/site-packages/TTS/utils/audio/processor.py#231\" target=\"_blank\"><span style=\"color: #7f7f7f; text-decoration-color: #7f7f7f\">231</span></a>\n",
       "</pre>\n"
      ],
      "text/plain": [
       "\u001b[2;36m                   \u001b[0m\u001b[2;36m \u001b[0m\u001b[32mINFO    \u001b[0m  | max_norm: \u001b[32m4.0\u001b[0m                                                      \u001b]8;id=210803;file:///home/mcbrown/.manim_venv/lib/python3.10/site-packages/TTS/utils/audio/processor.py\u001b\\\u001b[2mprocessor.py\u001b[0m\u001b]8;;\u001b\\\u001b[2m:\u001b[0m\u001b]8;id=632665;file:///home/mcbrown/.manim_venv/lib/python3.10/site-packages/TTS/utils/audio/processor.py#231\u001b\\\u001b[2m231\u001b[0m\u001b]8;;\u001b\\\n"
      ]
     },
     "metadata": {},
     "output_type": "display_data"
    },
    {
     "data": {
      "text/html": [
       "<pre style=\"white-space:pre;overflow-x:auto;line-height:normal;font-family:Menlo,'DejaVu Sans Mono',consolas,'Courier New',monospace\"><span style=\"color: #7fbfbf; text-decoration-color: #7fbfbf\">                    </span><span style=\"color: #008000; text-decoration-color: #008000\">INFO    </span>  | clip_norm: <span style=\"color: #00ff00; text-decoration-color: #00ff00; font-style: italic\">True</span>                                                    <a href=\"file:///home/mcbrown/.manim_venv/lib/python3.10/site-packages/TTS/utils/audio/processor.py\" target=\"_blank\"><span style=\"color: #7f7f7f; text-decoration-color: #7f7f7f\">processor.py</span></a><span style=\"color: #7f7f7f; text-decoration-color: #7f7f7f\">:</span><a href=\"file:///home/mcbrown/.manim_venv/lib/python3.10/site-packages/TTS/utils/audio/processor.py#231\" target=\"_blank\"><span style=\"color: #7f7f7f; text-decoration-color: #7f7f7f\">231</span></a>\n",
       "</pre>\n"
      ],
      "text/plain": [
       "\u001b[2;36m                   \u001b[0m\u001b[2;36m \u001b[0m\u001b[32mINFO    \u001b[0m  | clip_norm: \u001b[3;92mTrue\u001b[0m                                                    \u001b]8;id=331179;file:///home/mcbrown/.manim_venv/lib/python3.10/site-packages/TTS/utils/audio/processor.py\u001b\\\u001b[2mprocessor.py\u001b[0m\u001b]8;;\u001b\\\u001b[2m:\u001b[0m\u001b]8;id=557882;file:///home/mcbrown/.manim_venv/lib/python3.10/site-packages/TTS/utils/audio/processor.py#231\u001b\\\u001b[2m231\u001b[0m\u001b]8;;\u001b\\\n"
      ]
     },
     "metadata": {},
     "output_type": "display_data"
    },
    {
     "data": {
      "text/html": [
       "<pre style=\"white-space:pre;overflow-x:auto;line-height:normal;font-family:Menlo,'DejaVu Sans Mono',consolas,'Courier New',monospace\"><span style=\"color: #7fbfbf; text-decoration-color: #7fbfbf\">                    </span><span style=\"color: #008000; text-decoration-color: #008000\">INFO    </span>  | do_trim_silence: <span style=\"color: #ff0000; text-decoration-color: #ff0000; font-style: italic\">False</span>                                             <a href=\"file:///home/mcbrown/.manim_venv/lib/python3.10/site-packages/TTS/utils/audio/processor.py\" target=\"_blank\"><span style=\"color: #7f7f7f; text-decoration-color: #7f7f7f\">processor.py</span></a><span style=\"color: #7f7f7f; text-decoration-color: #7f7f7f\">:</span><a href=\"file:///home/mcbrown/.manim_venv/lib/python3.10/site-packages/TTS/utils/audio/processor.py#231\" target=\"_blank\"><span style=\"color: #7f7f7f; text-decoration-color: #7f7f7f\">231</span></a>\n",
       "</pre>\n"
      ],
      "text/plain": [
       "\u001b[2;36m                   \u001b[0m\u001b[2;36m \u001b[0m\u001b[32mINFO    \u001b[0m  | do_trim_silence: \u001b[3;91mFalse\u001b[0m                                             \u001b]8;id=438138;file:///home/mcbrown/.manim_venv/lib/python3.10/site-packages/TTS/utils/audio/processor.py\u001b\\\u001b[2mprocessor.py\u001b[0m\u001b]8;;\u001b\\\u001b[2m:\u001b[0m\u001b]8;id=258057;file:///home/mcbrown/.manim_venv/lib/python3.10/site-packages/TTS/utils/audio/processor.py#231\u001b\\\u001b[2m231\u001b[0m\u001b]8;;\u001b\\\n"
      ]
     },
     "metadata": {},
     "output_type": "display_data"
    },
    {
     "data": {
      "text/html": [
       "<pre style=\"white-space:pre;overflow-x:auto;line-height:normal;font-family:Menlo,'DejaVu Sans Mono',consolas,'Courier New',monospace\"><span style=\"color: #7fbfbf; text-decoration-color: #7fbfbf\">                    </span><span style=\"color: #008000; text-decoration-color: #008000\">INFO    </span>  | trim_db: <span style=\"color: #008000; text-decoration-color: #008000\">60</span>                                                        <a href=\"file:///home/mcbrown/.manim_venv/lib/python3.10/site-packages/TTS/utils/audio/processor.py\" target=\"_blank\"><span style=\"color: #7f7f7f; text-decoration-color: #7f7f7f\">processor.py</span></a><span style=\"color: #7f7f7f; text-decoration-color: #7f7f7f\">:</span><a href=\"file:///home/mcbrown/.manim_venv/lib/python3.10/site-packages/TTS/utils/audio/processor.py#231\" target=\"_blank\"><span style=\"color: #7f7f7f; text-decoration-color: #7f7f7f\">231</span></a>\n",
       "</pre>\n"
      ],
      "text/plain": [
       "\u001b[2;36m                   \u001b[0m\u001b[2;36m \u001b[0m\u001b[32mINFO    \u001b[0m  | trim_db: \u001b[32m60\u001b[0m                                                        \u001b]8;id=938881;file:///home/mcbrown/.manim_venv/lib/python3.10/site-packages/TTS/utils/audio/processor.py\u001b\\\u001b[2mprocessor.py\u001b[0m\u001b]8;;\u001b\\\u001b[2m:\u001b[0m\u001b]8;id=858772;file:///home/mcbrown/.manim_venv/lib/python3.10/site-packages/TTS/utils/audio/processor.py#231\u001b\\\u001b[2m231\u001b[0m\u001b]8;;\u001b\\\n"
      ]
     },
     "metadata": {},
     "output_type": "display_data"
    },
    {
     "data": {
      "text/html": [
       "<pre style=\"white-space:pre;overflow-x:auto;line-height:normal;font-family:Menlo,'DejaVu Sans Mono',consolas,'Courier New',monospace\"><span style=\"color: #7fbfbf; text-decoration-color: #7fbfbf\">                    </span><span style=\"color: #008000; text-decoration-color: #008000\">INFO    </span>  | do_sound_norm: <span style=\"color: #ff0000; text-decoration-color: #ff0000; font-style: italic\">False</span>                                               <a href=\"file:///home/mcbrown/.manim_venv/lib/python3.10/site-packages/TTS/utils/audio/processor.py\" target=\"_blank\"><span style=\"color: #7f7f7f; text-decoration-color: #7f7f7f\">processor.py</span></a><span style=\"color: #7f7f7f; text-decoration-color: #7f7f7f\">:</span><a href=\"file:///home/mcbrown/.manim_venv/lib/python3.10/site-packages/TTS/utils/audio/processor.py#231\" target=\"_blank\"><span style=\"color: #7f7f7f; text-decoration-color: #7f7f7f\">231</span></a>\n",
       "</pre>\n"
      ],
      "text/plain": [
       "\u001b[2;36m                   \u001b[0m\u001b[2;36m \u001b[0m\u001b[32mINFO    \u001b[0m  | do_sound_norm: \u001b[3;91mFalse\u001b[0m                                               \u001b]8;id=637142;file:///home/mcbrown/.manim_venv/lib/python3.10/site-packages/TTS/utils/audio/processor.py\u001b\\\u001b[2mprocessor.py\u001b[0m\u001b]8;;\u001b\\\u001b[2m:\u001b[0m\u001b]8;id=748513;file:///home/mcbrown/.manim_venv/lib/python3.10/site-packages/TTS/utils/audio/processor.py#231\u001b\\\u001b[2m231\u001b[0m\u001b]8;;\u001b\\\n"
      ]
     },
     "metadata": {},
     "output_type": "display_data"
    },
    {
     "data": {
      "text/html": [
       "<pre style=\"white-space:pre;overflow-x:auto;line-height:normal;font-family:Menlo,'DejaVu Sans Mono',consolas,'Courier New',monospace\"><span style=\"color: #7fbfbf; text-decoration-color: #7fbfbf\">                    </span><span style=\"color: #008000; text-decoration-color: #008000\">INFO    </span>  | do_amp_to_db_linear: <span style=\"color: #00ff00; text-decoration-color: #00ff00; font-style: italic\">True</span>                                          <a href=\"file:///home/mcbrown/.manim_venv/lib/python3.10/site-packages/TTS/utils/audio/processor.py\" target=\"_blank\"><span style=\"color: #7f7f7f; text-decoration-color: #7f7f7f\">processor.py</span></a><span style=\"color: #7f7f7f; text-decoration-color: #7f7f7f\">:</span><a href=\"file:///home/mcbrown/.manim_venv/lib/python3.10/site-packages/TTS/utils/audio/processor.py#231\" target=\"_blank\"><span style=\"color: #7f7f7f; text-decoration-color: #7f7f7f\">231</span></a>\n",
       "</pre>\n"
      ],
      "text/plain": [
       "\u001b[2;36m                   \u001b[0m\u001b[2;36m \u001b[0m\u001b[32mINFO    \u001b[0m  | do_amp_to_db_linear: \u001b[3;92mTrue\u001b[0m                                          \u001b]8;id=873850;file:///home/mcbrown/.manim_venv/lib/python3.10/site-packages/TTS/utils/audio/processor.py\u001b\\\u001b[2mprocessor.py\u001b[0m\u001b]8;;\u001b\\\u001b[2m:\u001b[0m\u001b]8;id=138215;file:///home/mcbrown/.manim_venv/lib/python3.10/site-packages/TTS/utils/audio/processor.py#231\u001b\\\u001b[2m231\u001b[0m\u001b]8;;\u001b\\\n"
      ]
     },
     "metadata": {},
     "output_type": "display_data"
    },
    {
     "data": {
      "text/html": [
       "<pre style=\"white-space:pre;overflow-x:auto;line-height:normal;font-family:Menlo,'DejaVu Sans Mono',consolas,'Courier New',monospace\"><span style=\"color: #7fbfbf; text-decoration-color: #7fbfbf\">                    </span><span style=\"color: #008000; text-decoration-color: #008000\">INFO    </span>  | do_amp_to_db_mel: <span style=\"color: #00ff00; text-decoration-color: #00ff00; font-style: italic\">True</span>                                             <a href=\"file:///home/mcbrown/.manim_venv/lib/python3.10/site-packages/TTS/utils/audio/processor.py\" target=\"_blank\"><span style=\"color: #7f7f7f; text-decoration-color: #7f7f7f\">processor.py</span></a><span style=\"color: #7f7f7f; text-decoration-color: #7f7f7f\">:</span><a href=\"file:///home/mcbrown/.manim_venv/lib/python3.10/site-packages/TTS/utils/audio/processor.py#231\" target=\"_blank\"><span style=\"color: #7f7f7f; text-decoration-color: #7f7f7f\">231</span></a>\n",
       "</pre>\n"
      ],
      "text/plain": [
       "\u001b[2;36m                   \u001b[0m\u001b[2;36m \u001b[0m\u001b[32mINFO    \u001b[0m  | do_amp_to_db_mel: \u001b[3;92mTrue\u001b[0m                                             \u001b]8;id=819108;file:///home/mcbrown/.manim_venv/lib/python3.10/site-packages/TTS/utils/audio/processor.py\u001b\\\u001b[2mprocessor.py\u001b[0m\u001b]8;;\u001b\\\u001b[2m:\u001b[0m\u001b]8;id=502467;file:///home/mcbrown/.manim_venv/lib/python3.10/site-packages/TTS/utils/audio/processor.py#231\u001b\\\u001b[2m231\u001b[0m\u001b]8;;\u001b\\\n"
      ]
     },
     "metadata": {},
     "output_type": "display_data"
    },
    {
     "data": {
      "text/html": [
       "<pre style=\"white-space:pre;overflow-x:auto;line-height:normal;font-family:Menlo,'DejaVu Sans Mono',consolas,'Courier New',monospace\"><span style=\"color: #7fbfbf; text-decoration-color: #7fbfbf\">                    </span><span style=\"color: #008000; text-decoration-color: #008000\">INFO    </span>  | do_rms_norm: <span style=\"color: #ff0000; text-decoration-color: #ff0000; font-style: italic\">False</span>                                                 <a href=\"file:///home/mcbrown/.manim_venv/lib/python3.10/site-packages/TTS/utils/audio/processor.py\" target=\"_blank\"><span style=\"color: #7f7f7f; text-decoration-color: #7f7f7f\">processor.py</span></a><span style=\"color: #7f7f7f; text-decoration-color: #7f7f7f\">:</span><a href=\"file:///home/mcbrown/.manim_venv/lib/python3.10/site-packages/TTS/utils/audio/processor.py#231\" target=\"_blank\"><span style=\"color: #7f7f7f; text-decoration-color: #7f7f7f\">231</span></a>\n",
       "</pre>\n"
      ],
      "text/plain": [
       "\u001b[2;36m                   \u001b[0m\u001b[2;36m \u001b[0m\u001b[32mINFO    \u001b[0m  | do_rms_norm: \u001b[3;91mFalse\u001b[0m                                                 \u001b]8;id=806136;file:///home/mcbrown/.manim_venv/lib/python3.10/site-packages/TTS/utils/audio/processor.py\u001b\\\u001b[2mprocessor.py\u001b[0m\u001b]8;;\u001b\\\u001b[2m:\u001b[0m\u001b]8;id=577988;file:///home/mcbrown/.manim_venv/lib/python3.10/site-packages/TTS/utils/audio/processor.py#231\u001b\\\u001b[2m231\u001b[0m\u001b]8;;\u001b\\\n"
      ]
     },
     "metadata": {},
     "output_type": "display_data"
    },
    {
     "data": {
      "text/html": [
       "<pre style=\"white-space:pre;overflow-x:auto;line-height:normal;font-family:Menlo,'DejaVu Sans Mono',consolas,'Courier New',monospace\"><span style=\"color: #7fbfbf; text-decoration-color: #7fbfbf\">                    </span><span style=\"color: #008000; text-decoration-color: #008000\">INFO    </span>  | db_level: <span style=\"color: #800080; text-decoration-color: #800080; font-style: italic\">None</span>                                                     <a href=\"file:///home/mcbrown/.manim_venv/lib/python3.10/site-packages/TTS/utils/audio/processor.py\" target=\"_blank\"><span style=\"color: #7f7f7f; text-decoration-color: #7f7f7f\">processor.py</span></a><span style=\"color: #7f7f7f; text-decoration-color: #7f7f7f\">:</span><a href=\"file:///home/mcbrown/.manim_venv/lib/python3.10/site-packages/TTS/utils/audio/processor.py#231\" target=\"_blank\"><span style=\"color: #7f7f7f; text-decoration-color: #7f7f7f\">231</span></a>\n",
       "</pre>\n"
      ],
      "text/plain": [
       "\u001b[2;36m                   \u001b[0m\u001b[2;36m \u001b[0m\u001b[32mINFO    \u001b[0m  | db_level: \u001b[3;35mNone\u001b[0m                                                     \u001b]8;id=393385;file:///home/mcbrown/.manim_venv/lib/python3.10/site-packages/TTS/utils/audio/processor.py\u001b\\\u001b[2mprocessor.py\u001b[0m\u001b]8;;\u001b\\\u001b[2m:\u001b[0m\u001b]8;id=715138;file:///home/mcbrown/.manim_venv/lib/python3.10/site-packages/TTS/utils/audio/processor.py#231\u001b\\\u001b[2m231\u001b[0m\u001b]8;;\u001b\\\n"
      ]
     },
     "metadata": {},
     "output_type": "display_data"
    },
    {
     "data": {
      "text/html": [
       "<pre style=\"white-space:pre;overflow-x:auto;line-height:normal;font-family:Menlo,'DejaVu Sans Mono',consolas,'Courier New',monospace\"><span style=\"color: #7fbfbf; text-decoration-color: #7fbfbf\">                    </span><span style=\"color: #008000; text-decoration-color: #008000\">INFO    </span>  | stats_path: <span style=\"color: #800080; text-decoration-color: #800080; font-style: italic\">None</span>                                                   <a href=\"file:///home/mcbrown/.manim_venv/lib/python3.10/site-packages/TTS/utils/audio/processor.py\" target=\"_blank\"><span style=\"color: #7f7f7f; text-decoration-color: #7f7f7f\">processor.py</span></a><span style=\"color: #7f7f7f; text-decoration-color: #7f7f7f\">:</span><a href=\"file:///home/mcbrown/.manim_venv/lib/python3.10/site-packages/TTS/utils/audio/processor.py#231\" target=\"_blank\"><span style=\"color: #7f7f7f; text-decoration-color: #7f7f7f\">231</span></a>\n",
       "</pre>\n"
      ],
      "text/plain": [
       "\u001b[2;36m                   \u001b[0m\u001b[2;36m \u001b[0m\u001b[32mINFO    \u001b[0m  | stats_path: \u001b[3;35mNone\u001b[0m                                                   \u001b]8;id=216682;file:///home/mcbrown/.manim_venv/lib/python3.10/site-packages/TTS/utils/audio/processor.py\u001b\\\u001b[2mprocessor.py\u001b[0m\u001b]8;;\u001b\\\u001b[2m:\u001b[0m\u001b]8;id=239905;file:///home/mcbrown/.manim_venv/lib/python3.10/site-packages/TTS/utils/audio/processor.py#231\u001b\\\u001b[2m231\u001b[0m\u001b]8;;\u001b\\\n"
      ]
     },
     "metadata": {},
     "output_type": "display_data"
    },
    {
     "data": {
      "text/html": [
       "<pre style=\"white-space:pre;overflow-x:auto;line-height:normal;font-family:Menlo,'DejaVu Sans Mono',consolas,'Courier New',monospace\"><span style=\"color: #7fbfbf; text-decoration-color: #7fbfbf\">                    </span><span style=\"color: #008000; text-decoration-color: #008000\">INFO    </span>  | base: <span style=\"color: #008000; text-decoration-color: #008000\">2.718281828459045</span>                                            <a href=\"file:///home/mcbrown/.manim_venv/lib/python3.10/site-packages/TTS/utils/audio/processor.py\" target=\"_blank\"><span style=\"color: #7f7f7f; text-decoration-color: #7f7f7f\">processor.py</span></a><span style=\"color: #7f7f7f; text-decoration-color: #7f7f7f\">:</span><a href=\"file:///home/mcbrown/.manim_venv/lib/python3.10/site-packages/TTS/utils/audio/processor.py#231\" target=\"_blank\"><span style=\"color: #7f7f7f; text-decoration-color: #7f7f7f\">231</span></a>\n",
       "</pre>\n"
      ],
      "text/plain": [
       "\u001b[2;36m                   \u001b[0m\u001b[2;36m \u001b[0m\u001b[32mINFO    \u001b[0m  | base: \u001b[32m2.718281828459045\u001b[0m                                            \u001b]8;id=410043;file:///home/mcbrown/.manim_venv/lib/python3.10/site-packages/TTS/utils/audio/processor.py\u001b\\\u001b[2mprocessor.py\u001b[0m\u001b]8;;\u001b\\\u001b[2m:\u001b[0m\u001b]8;id=910988;file:///home/mcbrown/.manim_venv/lib/python3.10/site-packages/TTS/utils/audio/processor.py#231\u001b\\\u001b[2m231\u001b[0m\u001b]8;;\u001b\\\n"
      ]
     },
     "metadata": {},
     "output_type": "display_data"
    },
    {
     "data": {
      "text/html": [
       "<pre style=\"white-space:pre;overflow-x:auto;line-height:normal;font-family:Menlo,'DejaVu Sans Mono',consolas,'Courier New',monospace\"><span style=\"color: #7fbfbf; text-decoration-color: #7fbfbf\">                    </span><span style=\"color: #008000; text-decoration-color: #008000\">INFO    </span>  | hop_length: <span style=\"color: #008000; text-decoration-color: #008000\">256</span>                                                    <a href=\"file:///home/mcbrown/.manim_venv/lib/python3.10/site-packages/TTS/utils/audio/processor.py\" target=\"_blank\"><span style=\"color: #7f7f7f; text-decoration-color: #7f7f7f\">processor.py</span></a><span style=\"color: #7f7f7f; text-decoration-color: #7f7f7f\">:</span><a href=\"file:///home/mcbrown/.manim_venv/lib/python3.10/site-packages/TTS/utils/audio/processor.py#231\" target=\"_blank\"><span style=\"color: #7f7f7f; text-decoration-color: #7f7f7f\">231</span></a>\n",
       "</pre>\n"
      ],
      "text/plain": [
       "\u001b[2;36m                   \u001b[0m\u001b[2;36m \u001b[0m\u001b[32mINFO    \u001b[0m  | hop_length: \u001b[32m256\u001b[0m                                                    \u001b]8;id=822408;file:///home/mcbrown/.manim_venv/lib/python3.10/site-packages/TTS/utils/audio/processor.py\u001b\\\u001b[2mprocessor.py\u001b[0m\u001b]8;;\u001b\\\u001b[2m:\u001b[0m\u001b]8;id=705416;file:///home/mcbrown/.manim_venv/lib/python3.10/site-packages/TTS/utils/audio/processor.py#231\u001b\\\u001b[2m231\u001b[0m\u001b]8;;\u001b\\\n"
      ]
     },
     "metadata": {},
     "output_type": "display_data"
    },
    {
     "data": {
      "text/html": [
       "<pre style=\"white-space:pre;overflow-x:auto;line-height:normal;font-family:Menlo,'DejaVu Sans Mono',consolas,'Courier New',monospace\"><span style=\"color: #7fbfbf; text-decoration-color: #7fbfbf\">                    </span><span style=\"color: #008000; text-decoration-color: #008000\">INFO    </span>  | win_length: <span style=\"color: #008000; text-decoration-color: #008000\">1024</span>                                                   <a href=\"file:///home/mcbrown/.manim_venv/lib/python3.10/site-packages/TTS/utils/audio/processor.py\" target=\"_blank\"><span style=\"color: #7f7f7f; text-decoration-color: #7f7f7f\">processor.py</span></a><span style=\"color: #7f7f7f; text-decoration-color: #7f7f7f\">:</span><a href=\"file:///home/mcbrown/.manim_venv/lib/python3.10/site-packages/TTS/utils/audio/processor.py#231\" target=\"_blank\"><span style=\"color: #7f7f7f; text-decoration-color: #7f7f7f\">231</span></a>\n",
       "</pre>\n"
      ],
      "text/plain": [
       "\u001b[2;36m                   \u001b[0m\u001b[2;36m \u001b[0m\u001b[32mINFO    \u001b[0m  | win_length: \u001b[32m1024\u001b[0m                                                   \u001b]8;id=869219;file:///home/mcbrown/.manim_venv/lib/python3.10/site-packages/TTS/utils/audio/processor.py\u001b\\\u001b[2mprocessor.py\u001b[0m\u001b]8;;\u001b\\\u001b[2m:\u001b[0m\u001b]8;id=998605;file:///home/mcbrown/.manim_venv/lib/python3.10/site-packages/TTS/utils/audio/processor.py#231\u001b\\\u001b[2m231\u001b[0m\u001b]8;;\u001b\\\n"
      ]
     },
     "metadata": {},
     "output_type": "display_data"
    },
    {
     "data": {
      "text/html": [
       "<pre style=\"white-space:pre;overflow-x:auto;line-height:normal;font-family:Menlo,'DejaVu Sans Mono',consolas,'Courier New',monospace\"><span style=\"color: #7fbfbf; text-decoration-color: #7fbfbf\">                    </span><span style=\"color: #008000; text-decoration-color: #008000\">INFO    </span> Generator model: hifigan_generator                                      <a href=\"file:///home/mcbrown/.manim_venv/lib/python3.10/site-packages/TTS/vocoder/models/__init__.py\" target=\"_blank\"><span style=\"color: #7f7f7f; text-decoration-color: #7f7f7f\">__init__.py</span></a><span style=\"color: #7f7f7f; text-decoration-color: #7f7f7f\">:</span><a href=\"file:///home/mcbrown/.manim_venv/lib/python3.10/site-packages/TTS/vocoder/models/__init__.py#38\" target=\"_blank\"><span style=\"color: #7f7f7f; text-decoration-color: #7f7f7f\">38</span></a>\n",
       "</pre>\n"
      ],
      "text/plain": [
       "\u001b[2;36m                   \u001b[0m\u001b[2;36m \u001b[0m\u001b[32mINFO    \u001b[0m Generator model: hifigan_generator                                      \u001b]8;id=779019;file:///home/mcbrown/.manim_venv/lib/python3.10/site-packages/TTS/vocoder/models/__init__.py\u001b\\\u001b[2m__init__.py\u001b[0m\u001b]8;;\u001b\\\u001b[2m:\u001b[0m\u001b]8;id=468609;file:///home/mcbrown/.manim_venv/lib/python3.10/site-packages/TTS/vocoder/models/__init__.py#38\u001b\\\u001b[2m38\u001b[0m\u001b]8;;\u001b\\\n"
      ]
     },
     "metadata": {},
     "output_type": "display_data"
    },
    {
     "data": {
      "text/html": [
       "<pre style=\"white-space:pre;overflow-x:auto;line-height:normal;font-family:Menlo,'DejaVu Sans Mono',consolas,'Courier New',monospace\"><span style=\"color: #7fbfbf; text-decoration-color: #7fbfbf\">[08/14/25 10:23:27] </span><span style=\"color: #008000; text-decoration-color: #008000\">INFO    </span> Discriminator model: hifigan_discriminator                             <a href=\"file:///home/mcbrown/.manim_venv/lib/python3.10/site-packages/TTS/vocoder/models/__init__.py\" target=\"_blank\"><span style=\"color: #7f7f7f; text-decoration-color: #7f7f7f\">__init__.py</span></a><span style=\"color: #7f7f7f; text-decoration-color: #7f7f7f\">:</span><a href=\"file:///home/mcbrown/.manim_venv/lib/python3.10/site-packages/TTS/vocoder/models/__init__.py#102\" target=\"_blank\"><span style=\"color: #7f7f7f; text-decoration-color: #7f7f7f\">102</span></a>\n",
       "</pre>\n"
      ],
      "text/plain": [
       "\u001b[2;36m[08/14/25 10:23:27]\u001b[0m\u001b[2;36m \u001b[0m\u001b[32mINFO    \u001b[0m Discriminator model: hifigan_discriminator                             \u001b]8;id=125376;file:///home/mcbrown/.manim_venv/lib/python3.10/site-packages/TTS/vocoder/models/__init__.py\u001b\\\u001b[2m__init__.py\u001b[0m\u001b]8;;\u001b\\\u001b[2m:\u001b[0m\u001b]8;id=168828;file:///home/mcbrown/.manim_venv/lib/python3.10/site-packages/TTS/vocoder/models/__init__.py#102\u001b\\\u001b[2m102\u001b[0m\u001b]8;;\u001b\\\n"
      ]
     },
     "metadata": {},
     "output_type": "display_data"
    },
    {
     "data": {
      "text/html": [
       "<pre style=\"white-space:pre;overflow-x:auto;line-height:normal;font-family:Menlo,'DejaVu Sans Mono',consolas,'Courier New',monospace\"><span style=\"color: #7fbfbf; text-decoration-color: #7fbfbf\">                    </span><span style=\"color: #008000; text-decoration-color: #008000\">INFO    </span> Removing weight norm<span style=\"color: #808000; text-decoration-color: #808000\">...</span>                                       <a href=\"file:///home/mcbrown/.manim_venv/lib/python3.10/site-packages/TTS/vocoder/models/hifigan_generator.py\" target=\"_blank\"><span style=\"color: #7f7f7f; text-decoration-color: #7f7f7f\">hifigan_generator.py</span></a><span style=\"color: #7f7f7f; text-decoration-color: #7f7f7f\">:</span><a href=\"file:///home/mcbrown/.manim_venv/lib/python3.10/site-packages/TTS/vocoder/models/hifigan_generator.py#308\" target=\"_blank\"><span style=\"color: #7f7f7f; text-decoration-color: #7f7f7f\">308</span></a>\n",
       "</pre>\n"
      ],
      "text/plain": [
       "\u001b[2;36m                   \u001b[0m\u001b[2;36m \u001b[0m\u001b[32mINFO    \u001b[0m Removing weight norm\u001b[33m...\u001b[0m                                       \u001b]8;id=901180;file:///home/mcbrown/.manim_venv/lib/python3.10/site-packages/TTS/vocoder/models/hifigan_generator.py\u001b\\\u001b[2mhifigan_generator.py\u001b[0m\u001b]8;;\u001b\\\u001b[2m:\u001b[0m\u001b]8;id=645022;file:///home/mcbrown/.manim_venv/lib/python3.10/site-packages/TTS/vocoder/models/hifigan_generator.py#308\u001b\\\u001b[2m308\u001b[0m\u001b]8;;\u001b\\\n"
      ]
     },
     "metadata": {},
     "output_type": "display_data"
    },
    {
     "data": {
      "text/html": [
       "<pre style=\"white-space:pre;overflow-x:auto;line-height:normal;font-family:Menlo,'DejaVu Sans Mono',consolas,'Courier New',monospace\"><span style=\"color: #7fbfbf; text-decoration-color: #7fbfbf\">[08/14/25 10:23:28] </span><span style=\"color: #008000; text-decoration-color: #008000\">INFO    </span> Text split into sentences.                                          <a href=\"file:///home/mcbrown/.manim_venv/lib/python3.10/site-packages/TTS/utils/synthesizer.py\" target=\"_blank\"><span style=\"color: #7f7f7f; text-decoration-color: #7f7f7f\">synthesizer.py</span></a><span style=\"color: #7f7f7f; text-decoration-color: #7f7f7f\">:</span><a href=\"file:///home/mcbrown/.manim_venv/lib/python3.10/site-packages/TTS/utils/synthesizer.py#363\" target=\"_blank\"><span style=\"color: #7f7f7f; text-decoration-color: #7f7f7f\">363</span></a>\n",
       "</pre>\n"
      ],
      "text/plain": [
       "\u001b[2;36m[08/14/25 10:23:28]\u001b[0m\u001b[2;36m \u001b[0m\u001b[32mINFO    \u001b[0m Text split into sentences.                                          \u001b]8;id=686909;file:///home/mcbrown/.manim_venv/lib/python3.10/site-packages/TTS/utils/synthesizer.py\u001b\\\u001b[2msynthesizer.py\u001b[0m\u001b]8;;\u001b\\\u001b[2m:\u001b[0m\u001b]8;id=675563;file:///home/mcbrown/.manim_venv/lib/python3.10/site-packages/TTS/utils/synthesizer.py#363\u001b\\\u001b[2m363\u001b[0m\u001b]8;;\u001b\\\n"
      ]
     },
     "metadata": {},
     "output_type": "display_data"
    },
    {
     "data": {
      "text/html": [
       "<pre style=\"white-space:pre;overflow-x:auto;line-height:normal;font-family:Menlo,'DejaVu Sans Mono',consolas,'Courier New',monospace\"><span style=\"color: #7fbfbf; text-decoration-color: #7fbfbf\">                    </span><span style=\"color: #008000; text-decoration-color: #008000\">INFO    </span> Input: <span style=\"font-weight: bold\">[</span><span style=\"color: #008000; text-decoration-color: #008000\">'Hello, welcome to yet another lesson on solving quadratic </span> <a href=\"file:///home/mcbrown/.manim_venv/lib/python3.10/site-packages/TTS/utils/synthesizer.py\" target=\"_blank\"><span style=\"color: #7f7f7f; text-decoration-color: #7f7f7f\">synthesizer.py</span></a><span style=\"color: #7f7f7f; text-decoration-color: #7f7f7f\">:</span><a href=\"file:///home/mcbrown/.manim_venv/lib/python3.10/site-packages/TTS/utils/synthesizer.py#364\" target=\"_blank\"><span style=\"color: #7f7f7f; text-decoration-color: #7f7f7f\">364</span></a>\n",
       "<span style=\"color: #7fbfbf; text-decoration-color: #7fbfbf\">                    </span>         <span style=\"color: #008000; text-decoration-color: #008000\">equestions here at Kasiwa Academy.'</span>, <span style=\"color: #008000; text-decoration-color: #008000\">'Please stay with us as we </span>    <span style=\"color: #7f7f7f; text-decoration-color: #7f7f7f\">                  </span>\n",
       "<span style=\"color: #7fbfbf; text-decoration-color: #7fbfbf\">                    </span>         <span style=\"color: #008000; text-decoration-color: #008000\">continue helping each other grow Mathematical skills.'</span><span style=\"font-weight: bold\">]</span>             <span style=\"color: #7f7f7f; text-decoration-color: #7f7f7f\">                  </span>\n",
       "</pre>\n"
      ],
      "text/plain": [
       "\u001b[2;36m                   \u001b[0m\u001b[2;36m \u001b[0m\u001b[32mINFO    \u001b[0m Input: \u001b[1m[\u001b[0m\u001b[32m'Hello, welcome to yet another lesson on solving quadratic \u001b[0m \u001b]8;id=325851;file:///home/mcbrown/.manim_venv/lib/python3.10/site-packages/TTS/utils/synthesizer.py\u001b\\\u001b[2msynthesizer.py\u001b[0m\u001b]8;;\u001b\\\u001b[2m:\u001b[0m\u001b]8;id=80495;file:///home/mcbrown/.manim_venv/lib/python3.10/site-packages/TTS/utils/synthesizer.py#364\u001b\\\u001b[2m364\u001b[0m\u001b]8;;\u001b\\\n",
       "\u001b[2;36m                    \u001b[0m         \u001b[32mequestions here at Kasiwa Academy.'\u001b[0m, \u001b[32m'Please stay with us as we \u001b[0m    \u001b[2m                  \u001b[0m\n",
       "\u001b[2;36m                    \u001b[0m         \u001b[32mcontinue helping each other grow Mathematical skills.'\u001b[0m\u001b[1m]\u001b[0m             \u001b[2m                  \u001b[0m\n"
      ]
     },
     "metadata": {},
     "output_type": "display_data"
    },
    {
     "data": {
      "text/html": [
       "<pre style=\"white-space:pre;overflow-x:auto;line-height:normal;font-family:Menlo,'DejaVu Sans Mono',consolas,'Courier New',monospace\"><span style=\"color: #7fbfbf; text-decoration-color: #7fbfbf\">[08/14/25 10:23:38] </span><span style=\"color: #008000; text-decoration-color: #008000\">INFO    </span> Processing time: <span style=\"color: #008000; text-decoration-color: #008000\">9.562</span>                                              <a href=\"file:///home/mcbrown/.manim_venv/lib/python3.10/site-packages/TTS/utils/synthesizer.py\" target=\"_blank\"><span style=\"color: #7f7f7f; text-decoration-color: #7f7f7f\">synthesizer.py</span></a><span style=\"color: #7f7f7f; text-decoration-color: #7f7f7f\">:</span><a href=\"file:///home/mcbrown/.manim_venv/lib/python3.10/site-packages/TTS/utils/synthesizer.py#450\" target=\"_blank\"><span style=\"color: #7f7f7f; text-decoration-color: #7f7f7f\">450</span></a>\n",
       "</pre>\n"
      ],
      "text/plain": [
       "\u001b[2;36m[08/14/25 10:23:38]\u001b[0m\u001b[2;36m \u001b[0m\u001b[32mINFO    \u001b[0m Processing time: \u001b[32m9.562\u001b[0m                                              \u001b]8;id=36750;file:///home/mcbrown/.manim_venv/lib/python3.10/site-packages/TTS/utils/synthesizer.py\u001b\\\u001b[2msynthesizer.py\u001b[0m\u001b]8;;\u001b\\\u001b[2m:\u001b[0m\u001b]8;id=358372;file:///home/mcbrown/.manim_venv/lib/python3.10/site-packages/TTS/utils/synthesizer.py#450\u001b\\\u001b[2m450\u001b[0m\u001b]8;;\u001b\\\n"
      ]
     },
     "metadata": {},
     "output_type": "display_data"
    },
    {
     "data": {
      "text/html": [
       "<pre style=\"white-space:pre;overflow-x:auto;line-height:normal;font-family:Menlo,'DejaVu Sans Mono',consolas,'Courier New',monospace\"><span style=\"color: #7fbfbf; text-decoration-color: #7fbfbf\">                    </span><span style=\"color: #008000; text-decoration-color: #008000\">INFO    </span> Real-time factor: <span style=\"color: #008000; text-decoration-color: #008000\">0.739</span>                                             <a href=\"file:///home/mcbrown/.manim_venv/lib/python3.10/site-packages/TTS/utils/synthesizer.py\" target=\"_blank\"><span style=\"color: #7f7f7f; text-decoration-color: #7f7f7f\">synthesizer.py</span></a><span style=\"color: #7f7f7f; text-decoration-color: #7f7f7f\">:</span><a href=\"file:///home/mcbrown/.manim_venv/lib/python3.10/site-packages/TTS/utils/synthesizer.py#451\" target=\"_blank\"><span style=\"color: #7f7f7f; text-decoration-color: #7f7f7f\">451</span></a>\n",
       "</pre>\n"
      ],
      "text/plain": [
       "\u001b[2;36m                   \u001b[0m\u001b[2;36m \u001b[0m\u001b[32mINFO    \u001b[0m Real-time factor: \u001b[32m0.739\u001b[0m                                             \u001b]8;id=851055;file:///home/mcbrown/.manim_venv/lib/python3.10/site-packages/TTS/utils/synthesizer.py\u001b\\\u001b[2msynthesizer.py\u001b[0m\u001b]8;;\u001b\\\u001b[2m:\u001b[0m\u001b]8;id=342741;file:///home/mcbrown/.manim_venv/lib/python3.10/site-packages/TTS/utils/synthesizer.py#451\u001b\\\u001b[2m451\u001b[0m\u001b]8;;\u001b\\\n"
      ]
     },
     "metadata": {},
     "output_type": "display_data"
    },
    {
     "name": "stderr",
     "output_type": "stream",
     "text": [
      "                                         "
     ]
    },
    {
     "data": {
      "text/html": [
       "<pre style=\"white-space:pre;overflow-x:auto;line-height:normal;font-family:Menlo,'DejaVu Sans Mono',consolas,'Courier New',monospace\"><span style=\"color: #7fbfbf; text-decoration-color: #7fbfbf\">[08/14/25 10:23:50] </span><span style=\"color: #008000; text-decoration-color: #008000\">INFO    </span> Text split into sentences.                                          <a href=\"file:///home/mcbrown/.manim_venv/lib/python3.10/site-packages/TTS/utils/synthesizer.py\" target=\"_blank\"><span style=\"color: #7f7f7f; text-decoration-color: #7f7f7f\">synthesizer.py</span></a><span style=\"color: #7f7f7f; text-decoration-color: #7f7f7f\">:</span><a href=\"file:///home/mcbrown/.manim_venv/lib/python3.10/site-packages/TTS/utils/synthesizer.py#363\" target=\"_blank\"><span style=\"color: #7f7f7f; text-decoration-color: #7f7f7f\">363</span></a>\n",
       "</pre>\n"
      ],
      "text/plain": [
       "\u001b[2;36m[08/14/25 10:23:50]\u001b[0m\u001b[2;36m \u001b[0m\u001b[32mINFO    \u001b[0m Text split into sentences.                                          \u001b]8;id=68310;file:///home/mcbrown/.manim_venv/lib/python3.10/site-packages/TTS/utils/synthesizer.py\u001b\\\u001b[2msynthesizer.py\u001b[0m\u001b]8;;\u001b\\\u001b[2m:\u001b[0m\u001b]8;id=556149;file:///home/mcbrown/.manim_venv/lib/python3.10/site-packages/TTS/utils/synthesizer.py#363\u001b\\\u001b[2m363\u001b[0m\u001b]8;;\u001b\\\n"
      ]
     },
     "metadata": {},
     "output_type": "display_data"
    },
    {
     "data": {
      "text/html": [
       "<pre style=\"white-space:pre;overflow-x:auto;line-height:normal;font-family:Menlo,'DejaVu Sans Mono',consolas,'Courier New',monospace\"><span style=\"color: #7fbfbf; text-decoration-color: #7fbfbf\">                    </span><span style=\"color: #008000; text-decoration-color: #008000\">INFO    </span> Input: <span style=\"font-weight: bold\">[</span><span style=\"color: #008000; text-decoration-color: #008000\">'Let us begin by introducing our problem that we will </span>      <a href=\"file:///home/mcbrown/.manim_venv/lib/python3.10/site-packages/TTS/utils/synthesizer.py\" target=\"_blank\"><span style=\"color: #7f7f7f; text-decoration-color: #7f7f7f\">synthesizer.py</span></a><span style=\"color: #7f7f7f; text-decoration-color: #7f7f7f\">:</span><a href=\"file:///home/mcbrown/.manim_venv/lib/python3.10/site-packages/TTS/utils/synthesizer.py#364\" target=\"_blank\"><span style=\"color: #7f7f7f; text-decoration-color: #7f7f7f\">364</span></a>\n",
       "<span style=\"color: #7fbfbf; text-decoration-color: #7fbfbf\">                    </span>         <span style=\"color: #008000; text-decoration-color: #008000\">solve.'</span>, <span style=\"color: #008000; text-decoration-color: #008000\">'We are given a quadratic equation 3x² + 6x − 2 = 0.'</span>, <span style=\"color: #008000; text-decoration-color: #008000\">'We</span> <span style=\"color: #7f7f7f; text-decoration-color: #7f7f7f\">                  </span>\n",
       "<span style=\"color: #7fbfbf; text-decoration-color: #7fbfbf\">                    </span>         <span style=\"color: #008000; text-decoration-color: #008000\">are asked to solve the equation giving the final answer correct to </span> <span style=\"color: #7f7f7f; text-decoration-color: #7f7f7f\">                  </span>\n",
       "<span style=\"color: #7fbfbf; text-decoration-color: #7fbfbf\">                    </span>         <span style=\"color: #008000; text-decoration-color: #008000\">three significant figures.'</span><span style=\"font-weight: bold\">]</span>                                        <span style=\"color: #7f7f7f; text-decoration-color: #7f7f7f\">                  </span>\n",
       "</pre>\n"
      ],
      "text/plain": [
       "\u001b[2;36m                   \u001b[0m\u001b[2;36m \u001b[0m\u001b[32mINFO    \u001b[0m Input: \u001b[1m[\u001b[0m\u001b[32m'Let us begin by introducing our problem that we will \u001b[0m      \u001b]8;id=983408;file:///home/mcbrown/.manim_venv/lib/python3.10/site-packages/TTS/utils/synthesizer.py\u001b\\\u001b[2msynthesizer.py\u001b[0m\u001b]8;;\u001b\\\u001b[2m:\u001b[0m\u001b]8;id=350151;file:///home/mcbrown/.manim_venv/lib/python3.10/site-packages/TTS/utils/synthesizer.py#364\u001b\\\u001b[2m364\u001b[0m\u001b]8;;\u001b\\\n",
       "\u001b[2;36m                    \u001b[0m         \u001b[32msolve.'\u001b[0m, \u001b[32m'We are given a quadratic equation 3x² + 6x − 2 = 0.'\u001b[0m, \u001b[32m'We\u001b[0m \u001b[2m                  \u001b[0m\n",
       "\u001b[2;36m                    \u001b[0m         \u001b[32mare asked to solve the equation giving the final answer correct to \u001b[0m \u001b[2m                  \u001b[0m\n",
       "\u001b[2;36m                    \u001b[0m         \u001b[32mthree significant figures.'\u001b[0m\u001b[1m]\u001b[0m                                        \u001b[2m                  \u001b[0m\n"
      ]
     },
     "metadata": {},
     "output_type": "display_data"
    },
    {
     "data": {
      "text/html": [
       "<pre style=\"white-space:pre;overflow-x:auto;line-height:normal;font-family:Menlo,'DejaVu Sans Mono',consolas,'Courier New',monospace\"><span style=\"color: #7fbfbf; text-decoration-color: #7fbfbf\">[08/14/25 10:23:52] </span><span style=\"color: #800000; text-decoration-color: #800000\">WARNING </span> we are given a quadratic equation threex² + sixx − two = zero.         <a href=\"file:///home/mcbrown/.manim_venv/lib/python3.10/site-packages/TTS/tts/utils/text/tokenizer.py\" target=\"_blank\"><span style=\"color: #7f7f7f; text-decoration-color: #7f7f7f\">tokenizer.py</span></a><span style=\"color: #7f7f7f; text-decoration-color: #7f7f7f\">:</span><a href=\"file:///home/mcbrown/.manim_venv/lib/python3.10/site-packages/TTS/tts/utils/text/tokenizer.py#80\" target=\"_blank\"><span style=\"color: #7f7f7f; text-decoration-color: #7f7f7f\">80</span></a>\n",
       "</pre>\n"
      ],
      "text/plain": [
       "\u001b[2;36m[08/14/25 10:23:52]\u001b[0m\u001b[2;36m \u001b[0m\u001b[31mWARNING \u001b[0m we are given a quadratic equation threex² + sixx − two = zero.         \u001b]8;id=87217;file:///home/mcbrown/.manim_venv/lib/python3.10/site-packages/TTS/tts/utils/text/tokenizer.py\u001b\\\u001b[2mtokenizer.py\u001b[0m\u001b]8;;\u001b\\\u001b[2m:\u001b[0m\u001b]8;id=813901;file:///home/mcbrown/.manim_venv/lib/python3.10/site-packages/TTS/tts/utils/text/tokenizer.py#80\u001b\\\u001b[2m80\u001b[0m\u001b]8;;\u001b\\\n"
      ]
     },
     "metadata": {},
     "output_type": "display_data"
    },
    {
     "data": {
      "text/html": [
       "<pre style=\"white-space:pre;overflow-x:auto;line-height:normal;font-family:Menlo,'DejaVu Sans Mono',consolas,'Courier New',monospace\"><span style=\"color: #7fbfbf; text-decoration-color: #7fbfbf\">                    </span><span style=\"color: #800000; text-decoration-color: #800000\">WARNING </span> Character <span style=\"color: #008000; text-decoration-color: #008000\">'²'</span> not found in the vocabulary. Discarding it.              <a href=\"file:///home/mcbrown/.manim_venv/lib/python3.10/site-packages/TTS/tts/utils/text/tokenizer.py\" target=\"_blank\"><span style=\"color: #7f7f7f; text-decoration-color: #7f7f7f\">tokenizer.py</span></a><span style=\"color: #7f7f7f; text-decoration-color: #7f7f7f\">:</span><a href=\"file:///home/mcbrown/.manim_venv/lib/python3.10/site-packages/TTS/tts/utils/text/tokenizer.py#81\" target=\"_blank\"><span style=\"color: #7f7f7f; text-decoration-color: #7f7f7f\">81</span></a>\n",
       "</pre>\n"
      ],
      "text/plain": [
       "\u001b[2;36m                   \u001b[0m\u001b[2;36m \u001b[0m\u001b[31mWARNING \u001b[0m Character \u001b[32m'²'\u001b[0m not found in the vocabulary. Discarding it.              \u001b]8;id=652377;file:///home/mcbrown/.manim_venv/lib/python3.10/site-packages/TTS/tts/utils/text/tokenizer.py\u001b\\\u001b[2mtokenizer.py\u001b[0m\u001b]8;;\u001b\\\u001b[2m:\u001b[0m\u001b]8;id=392551;file:///home/mcbrown/.manim_venv/lib/python3.10/site-packages/TTS/tts/utils/text/tokenizer.py#81\u001b\\\u001b[2m81\u001b[0m\u001b]8;;\u001b\\\n"
      ]
     },
     "metadata": {},
     "output_type": "display_data"
    },
    {
     "data": {
      "text/html": [
       "<pre style=\"white-space:pre;overflow-x:auto;line-height:normal;font-family:Menlo,'DejaVu Sans Mono',consolas,'Courier New',monospace\"><span style=\"color: #7fbfbf; text-decoration-color: #7fbfbf\">                    </span><span style=\"color: #800000; text-decoration-color: #800000\">WARNING </span> we are given a quadratic equation threex² + sixx − two = zero.         <a href=\"file:///home/mcbrown/.manim_venv/lib/python3.10/site-packages/TTS/tts/utils/text/tokenizer.py\" target=\"_blank\"><span style=\"color: #7f7f7f; text-decoration-color: #7f7f7f\">tokenizer.py</span></a><span style=\"color: #7f7f7f; text-decoration-color: #7f7f7f\">:</span><a href=\"file:///home/mcbrown/.manim_venv/lib/python3.10/site-packages/TTS/tts/utils/text/tokenizer.py#80\" target=\"_blank\"><span style=\"color: #7f7f7f; text-decoration-color: #7f7f7f\">80</span></a>\n",
       "</pre>\n"
      ],
      "text/plain": [
       "\u001b[2;36m                   \u001b[0m\u001b[2;36m \u001b[0m\u001b[31mWARNING \u001b[0m we are given a quadratic equation threex² + sixx − two = zero.         \u001b]8;id=365932;file:///home/mcbrown/.manim_venv/lib/python3.10/site-packages/TTS/tts/utils/text/tokenizer.py\u001b\\\u001b[2mtokenizer.py\u001b[0m\u001b]8;;\u001b\\\u001b[2m:\u001b[0m\u001b]8;id=46658;file:///home/mcbrown/.manim_venv/lib/python3.10/site-packages/TTS/tts/utils/text/tokenizer.py#80\u001b\\\u001b[2m80\u001b[0m\u001b]8;;\u001b\\\n"
      ]
     },
     "metadata": {},
     "output_type": "display_data"
    },
    {
     "data": {
      "text/html": [
       "<pre style=\"white-space:pre;overflow-x:auto;line-height:normal;font-family:Menlo,'DejaVu Sans Mono',consolas,'Courier New',monospace\"><span style=\"color: #7fbfbf; text-decoration-color: #7fbfbf\">                    </span><span style=\"color: #800000; text-decoration-color: #800000\">WARNING </span> Character <span style=\"color: #008000; text-decoration-color: #008000\">'+'</span> not found in the vocabulary. Discarding it.              <a href=\"file:///home/mcbrown/.manim_venv/lib/python3.10/site-packages/TTS/tts/utils/text/tokenizer.py\" target=\"_blank\"><span style=\"color: #7f7f7f; text-decoration-color: #7f7f7f\">tokenizer.py</span></a><span style=\"color: #7f7f7f; text-decoration-color: #7f7f7f\">:</span><a href=\"file:///home/mcbrown/.manim_venv/lib/python3.10/site-packages/TTS/tts/utils/text/tokenizer.py#81\" target=\"_blank\"><span style=\"color: #7f7f7f; text-decoration-color: #7f7f7f\">81</span></a>\n",
       "</pre>\n"
      ],
      "text/plain": [
       "\u001b[2;36m                   \u001b[0m\u001b[2;36m \u001b[0m\u001b[31mWARNING \u001b[0m Character \u001b[32m'+'\u001b[0m not found in the vocabulary. Discarding it.              \u001b]8;id=569753;file:///home/mcbrown/.manim_venv/lib/python3.10/site-packages/TTS/tts/utils/text/tokenizer.py\u001b\\\u001b[2mtokenizer.py\u001b[0m\u001b]8;;\u001b\\\u001b[2m:\u001b[0m\u001b]8;id=541073;file:///home/mcbrown/.manim_venv/lib/python3.10/site-packages/TTS/tts/utils/text/tokenizer.py#81\u001b\\\u001b[2m81\u001b[0m\u001b]8;;\u001b\\\n"
      ]
     },
     "metadata": {},
     "output_type": "display_data"
    },
    {
     "data": {
      "text/html": [
       "<pre style=\"white-space:pre;overflow-x:auto;line-height:normal;font-family:Menlo,'DejaVu Sans Mono',consolas,'Courier New',monospace\"><span style=\"color: #7fbfbf; text-decoration-color: #7fbfbf\">                    </span><span style=\"color: #800000; text-decoration-color: #800000\">WARNING </span> we are given a quadratic equation threex² + sixx − two = zero.         <a href=\"file:///home/mcbrown/.manim_venv/lib/python3.10/site-packages/TTS/tts/utils/text/tokenizer.py\" target=\"_blank\"><span style=\"color: #7f7f7f; text-decoration-color: #7f7f7f\">tokenizer.py</span></a><span style=\"color: #7f7f7f; text-decoration-color: #7f7f7f\">:</span><a href=\"file:///home/mcbrown/.manim_venv/lib/python3.10/site-packages/TTS/tts/utils/text/tokenizer.py#80\" target=\"_blank\"><span style=\"color: #7f7f7f; text-decoration-color: #7f7f7f\">80</span></a>\n",
       "</pre>\n"
      ],
      "text/plain": [
       "\u001b[2;36m                   \u001b[0m\u001b[2;36m \u001b[0m\u001b[31mWARNING \u001b[0m we are given a quadratic equation threex² + sixx − two = zero.         \u001b]8;id=503842;file:///home/mcbrown/.manim_venv/lib/python3.10/site-packages/TTS/tts/utils/text/tokenizer.py\u001b\\\u001b[2mtokenizer.py\u001b[0m\u001b]8;;\u001b\\\u001b[2m:\u001b[0m\u001b]8;id=901274;file:///home/mcbrown/.manim_venv/lib/python3.10/site-packages/TTS/tts/utils/text/tokenizer.py#80\u001b\\\u001b[2m80\u001b[0m\u001b]8;;\u001b\\\n"
      ]
     },
     "metadata": {},
     "output_type": "display_data"
    },
    {
     "data": {
      "text/html": [
       "<pre style=\"white-space:pre;overflow-x:auto;line-height:normal;font-family:Menlo,'DejaVu Sans Mono',consolas,'Courier New',monospace\"><span style=\"color: #7fbfbf; text-decoration-color: #7fbfbf\">                    </span><span style=\"color: #800000; text-decoration-color: #800000\">WARNING </span> Character <span style=\"color: #008000; text-decoration-color: #008000\">'−'</span> not found in the vocabulary. Discarding it.              <a href=\"file:///home/mcbrown/.manim_venv/lib/python3.10/site-packages/TTS/tts/utils/text/tokenizer.py\" target=\"_blank\"><span style=\"color: #7f7f7f; text-decoration-color: #7f7f7f\">tokenizer.py</span></a><span style=\"color: #7f7f7f; text-decoration-color: #7f7f7f\">:</span><a href=\"file:///home/mcbrown/.manim_venv/lib/python3.10/site-packages/TTS/tts/utils/text/tokenizer.py#81\" target=\"_blank\"><span style=\"color: #7f7f7f; text-decoration-color: #7f7f7f\">81</span></a>\n",
       "</pre>\n"
      ],
      "text/plain": [
       "\u001b[2;36m                   \u001b[0m\u001b[2;36m \u001b[0m\u001b[31mWARNING \u001b[0m Character \u001b[32m'−'\u001b[0m not found in the vocabulary. Discarding it.              \u001b]8;id=17381;file:///home/mcbrown/.manim_venv/lib/python3.10/site-packages/TTS/tts/utils/text/tokenizer.py\u001b\\\u001b[2mtokenizer.py\u001b[0m\u001b]8;;\u001b\\\u001b[2m:\u001b[0m\u001b]8;id=27771;file:///home/mcbrown/.manim_venv/lib/python3.10/site-packages/TTS/tts/utils/text/tokenizer.py#81\u001b\\\u001b[2m81\u001b[0m\u001b]8;;\u001b\\\n"
      ]
     },
     "metadata": {},
     "output_type": "display_data"
    },
    {
     "data": {
      "text/html": [
       "<pre style=\"white-space:pre;overflow-x:auto;line-height:normal;font-family:Menlo,'DejaVu Sans Mono',consolas,'Courier New',monospace\"><span style=\"color: #7fbfbf; text-decoration-color: #7fbfbf\">                    </span><span style=\"color: #800000; text-decoration-color: #800000\">WARNING </span> we are given a quadratic equation threex² + sixx − two = zero.         <a href=\"file:///home/mcbrown/.manim_venv/lib/python3.10/site-packages/TTS/tts/utils/text/tokenizer.py\" target=\"_blank\"><span style=\"color: #7f7f7f; text-decoration-color: #7f7f7f\">tokenizer.py</span></a><span style=\"color: #7f7f7f; text-decoration-color: #7f7f7f\">:</span><a href=\"file:///home/mcbrown/.manim_venv/lib/python3.10/site-packages/TTS/tts/utils/text/tokenizer.py#80\" target=\"_blank\"><span style=\"color: #7f7f7f; text-decoration-color: #7f7f7f\">80</span></a>\n",
       "</pre>\n"
      ],
      "text/plain": [
       "\u001b[2;36m                   \u001b[0m\u001b[2;36m \u001b[0m\u001b[31mWARNING \u001b[0m we are given a quadratic equation threex² + sixx − two = zero.         \u001b]8;id=163724;file:///home/mcbrown/.manim_venv/lib/python3.10/site-packages/TTS/tts/utils/text/tokenizer.py\u001b\\\u001b[2mtokenizer.py\u001b[0m\u001b]8;;\u001b\\\u001b[2m:\u001b[0m\u001b]8;id=438016;file:///home/mcbrown/.manim_venv/lib/python3.10/site-packages/TTS/tts/utils/text/tokenizer.py#80\u001b\\\u001b[2m80\u001b[0m\u001b]8;;\u001b\\\n"
      ]
     },
     "metadata": {},
     "output_type": "display_data"
    },
    {
     "data": {
      "text/html": [
       "<pre style=\"white-space:pre;overflow-x:auto;line-height:normal;font-family:Menlo,'DejaVu Sans Mono',consolas,'Courier New',monospace\"><span style=\"color: #7fbfbf; text-decoration-color: #7fbfbf\">                    </span><span style=\"color: #800000; text-decoration-color: #800000\">WARNING </span> Character <span style=\"color: #008000; text-decoration-color: #008000\">'='</span> not found in the vocabulary. Discarding it.              <a href=\"file:///home/mcbrown/.manim_venv/lib/python3.10/site-packages/TTS/tts/utils/text/tokenizer.py\" target=\"_blank\"><span style=\"color: #7f7f7f; text-decoration-color: #7f7f7f\">tokenizer.py</span></a><span style=\"color: #7f7f7f; text-decoration-color: #7f7f7f\">:</span><a href=\"file:///home/mcbrown/.manim_venv/lib/python3.10/site-packages/TTS/tts/utils/text/tokenizer.py#81\" target=\"_blank\"><span style=\"color: #7f7f7f; text-decoration-color: #7f7f7f\">81</span></a>\n",
       "</pre>\n"
      ],
      "text/plain": [
       "\u001b[2;36m                   \u001b[0m\u001b[2;36m \u001b[0m\u001b[31mWARNING \u001b[0m Character \u001b[32m'='\u001b[0m not found in the vocabulary. Discarding it.              \u001b]8;id=547371;file:///home/mcbrown/.manim_venv/lib/python3.10/site-packages/TTS/tts/utils/text/tokenizer.py\u001b\\\u001b[2mtokenizer.py\u001b[0m\u001b]8;;\u001b\\\u001b[2m:\u001b[0m\u001b]8;id=621842;file:///home/mcbrown/.manim_venv/lib/python3.10/site-packages/TTS/tts/utils/text/tokenizer.py#81\u001b\\\u001b[2m81\u001b[0m\u001b]8;;\u001b\\\n"
      ]
     },
     "metadata": {},
     "output_type": "display_data"
    },
    {
     "data": {
      "text/html": [
       "<pre style=\"white-space:pre;overflow-x:auto;line-height:normal;font-family:Menlo,'DejaVu Sans Mono',consolas,'Courier New',monospace\"><span style=\"color: #7fbfbf; text-decoration-color: #7fbfbf\">[08/14/25 10:24:52] </span><span style=\"color: #008000; text-decoration-color: #008000\">INFO    </span> Processing time: <span style=\"color: #008000; text-decoration-color: #008000\">62.475</span>                                             <a href=\"file:///home/mcbrown/.manim_venv/lib/python3.10/site-packages/TTS/utils/synthesizer.py\" target=\"_blank\"><span style=\"color: #7f7f7f; text-decoration-color: #7f7f7f\">synthesizer.py</span></a><span style=\"color: #7f7f7f; text-decoration-color: #7f7f7f\">:</span><a href=\"file:///home/mcbrown/.manim_venv/lib/python3.10/site-packages/TTS/utils/synthesizer.py#450\" target=\"_blank\"><span style=\"color: #7f7f7f; text-decoration-color: #7f7f7f\">450</span></a>\n",
       "</pre>\n"
      ],
      "text/plain": [
       "\u001b[2;36m[08/14/25 10:24:52]\u001b[0m\u001b[2;36m \u001b[0m\u001b[32mINFO    \u001b[0m Processing time: \u001b[32m62.475\u001b[0m                                             \u001b]8;id=515461;file:///home/mcbrown/.manim_venv/lib/python3.10/site-packages/TTS/utils/synthesizer.py\u001b\\\u001b[2msynthesizer.py\u001b[0m\u001b]8;;\u001b\\\u001b[2m:\u001b[0m\u001b]8;id=595681;file:///home/mcbrown/.manim_venv/lib/python3.10/site-packages/TTS/utils/synthesizer.py#450\u001b\\\u001b[2m450\u001b[0m\u001b]8;;\u001b\\\n"
      ]
     },
     "metadata": {},
     "output_type": "display_data"
    },
    {
     "data": {
      "text/html": [
       "<pre style=\"white-space:pre;overflow-x:auto;line-height:normal;font-family:Menlo,'DejaVu Sans Mono',consolas,'Courier New',monospace\"><span style=\"color: #7fbfbf; text-decoration-color: #7fbfbf\">                    </span><span style=\"color: #008000; text-decoration-color: #008000\">INFO    </span> Real-time factor: <span style=\"color: #008000; text-decoration-color: #008000\">0.651</span>                                             <a href=\"file:///home/mcbrown/.manim_venv/lib/python3.10/site-packages/TTS/utils/synthesizer.py\" target=\"_blank\"><span style=\"color: #7f7f7f; text-decoration-color: #7f7f7f\">synthesizer.py</span></a><span style=\"color: #7f7f7f; text-decoration-color: #7f7f7f\">:</span><a href=\"file:///home/mcbrown/.manim_venv/lib/python3.10/site-packages/TTS/utils/synthesizer.py#451\" target=\"_blank\"><span style=\"color: #7f7f7f; text-decoration-color: #7f7f7f\">451</span></a>\n",
       "</pre>\n"
      ],
      "text/plain": [
       "\u001b[2;36m                   \u001b[0m\u001b[2;36m \u001b[0m\u001b[32mINFO    \u001b[0m Real-time factor: \u001b[32m0.651\u001b[0m                                             \u001b]8;id=222041;file:///home/mcbrown/.manim_venv/lib/python3.10/site-packages/TTS/utils/synthesizer.py\u001b\\\u001b[2msynthesizer.py\u001b[0m\u001b]8;;\u001b\\\u001b[2m:\u001b[0m\u001b]8;id=921836;file:///home/mcbrown/.manim_venv/lib/python3.10/site-packages/TTS/utils/synthesizer.py#451\u001b\\\u001b[2m451\u001b[0m\u001b]8;;\u001b\\\n"
      ]
     },
     "metadata": {},
     "output_type": "display_data"
    },
    {
     "name": "stderr",
     "output_type": "stream",
     "text": [
      "                                         "
     ]
    },
    {
     "data": {
      "text/html": [
       "<pre style=\"white-space:pre;overflow-x:auto;line-height:normal;font-family:Menlo,'DejaVu Sans Mono',consolas,'Courier New',monospace\"><span style=\"color: #7fbfbf; text-decoration-color: #7fbfbf\">[08/14/25 10:25:15] </span><span style=\"color: #008000; text-decoration-color: #008000\">INFO    </span> Text split into sentences.                                          <a href=\"file:///home/mcbrown/.manim_venv/lib/python3.10/site-packages/TTS/utils/synthesizer.py\" target=\"_blank\"><span style=\"color: #7f7f7f; text-decoration-color: #7f7f7f\">synthesizer.py</span></a><span style=\"color: #7f7f7f; text-decoration-color: #7f7f7f\">:</span><a href=\"file:///home/mcbrown/.manim_venv/lib/python3.10/site-packages/TTS/utils/synthesizer.py#363\" target=\"_blank\"><span style=\"color: #7f7f7f; text-decoration-color: #7f7f7f\">363</span></a>\n",
       "</pre>\n"
      ],
      "text/plain": [
       "\u001b[2;36m[08/14/25 10:25:15]\u001b[0m\u001b[2;36m \u001b[0m\u001b[32mINFO    \u001b[0m Text split into sentences.                                          \u001b]8;id=269109;file:///home/mcbrown/.manim_venv/lib/python3.10/site-packages/TTS/utils/synthesizer.py\u001b\\\u001b[2msynthesizer.py\u001b[0m\u001b]8;;\u001b\\\u001b[2m:\u001b[0m\u001b]8;id=467861;file:///home/mcbrown/.manim_venv/lib/python3.10/site-packages/TTS/utils/synthesizer.py#363\u001b\\\u001b[2m363\u001b[0m\u001b]8;;\u001b\\\n"
      ]
     },
     "metadata": {},
     "output_type": "display_data"
    },
    {
     "data": {
      "text/html": [
       "<pre style=\"white-space:pre;overflow-x:auto;line-height:normal;font-family:Menlo,'DejaVu Sans Mono',consolas,'Courier New',monospace\"><span style=\"color: #7fbfbf; text-decoration-color: #7fbfbf\">                    </span><span style=\"color: #008000; text-decoration-color: #008000\">INFO    </span> Input: <span style=\"font-weight: bold\">[</span><span style=\"color: #008000; text-decoration-color: #008000\">'Let us get started by isolating the given equation from </span>   <a href=\"file:///home/mcbrown/.manim_venv/lib/python3.10/site-packages/TTS/utils/synthesizer.py\" target=\"_blank\"><span style=\"color: #7f7f7f; text-decoration-color: #7f7f7f\">synthesizer.py</span></a><span style=\"color: #7f7f7f; text-decoration-color: #7f7f7f\">:</span><a href=\"file:///home/mcbrown/.manim_venv/lib/python3.10/site-packages/TTS/utils/synthesizer.py#364\" target=\"_blank\"><span style=\"color: #7f7f7f; text-decoration-color: #7f7f7f\">364</span></a>\n",
       "<span style=\"color: #7fbfbf; text-decoration-color: #7fbfbf\">                    </span>         <span style=\"color: #008000; text-decoration-color: #008000\">the problem statement.'</span><span style=\"font-weight: bold\">]</span>                                            <span style=\"color: #7f7f7f; text-decoration-color: #7f7f7f\">                  </span>\n",
       "</pre>\n"
      ],
      "text/plain": [
       "\u001b[2;36m                   \u001b[0m\u001b[2;36m \u001b[0m\u001b[32mINFO    \u001b[0m Input: \u001b[1m[\u001b[0m\u001b[32m'Let us get started by isolating the given equation from \u001b[0m   \u001b]8;id=344496;file:///home/mcbrown/.manim_venv/lib/python3.10/site-packages/TTS/utils/synthesizer.py\u001b\\\u001b[2msynthesizer.py\u001b[0m\u001b]8;;\u001b\\\u001b[2m:\u001b[0m\u001b]8;id=472838;file:///home/mcbrown/.manim_venv/lib/python3.10/site-packages/TTS/utils/synthesizer.py#364\u001b\\\u001b[2m364\u001b[0m\u001b]8;;\u001b\\\n",
       "\u001b[2;36m                    \u001b[0m         \u001b[32mthe problem statement.'\u001b[0m\u001b[1m]\u001b[0m                                            \u001b[2m                  \u001b[0m\n"
      ]
     },
     "metadata": {},
     "output_type": "display_data"
    },
    {
     "data": {
      "text/html": [
       "<pre style=\"white-space:pre;overflow-x:auto;line-height:normal;font-family:Menlo,'DejaVu Sans Mono',consolas,'Courier New',monospace\"><span style=\"color: #7fbfbf; text-decoration-color: #7fbfbf\">[08/14/25 10:25:18] </span><span style=\"color: #008000; text-decoration-color: #008000\">INFO    </span> Processing time: <span style=\"color: #008000; text-decoration-color: #008000\">3.113</span>                                              <a href=\"file:///home/mcbrown/.manim_venv/lib/python3.10/site-packages/TTS/utils/synthesizer.py\" target=\"_blank\"><span style=\"color: #7f7f7f; text-decoration-color: #7f7f7f\">synthesizer.py</span></a><span style=\"color: #7f7f7f; text-decoration-color: #7f7f7f\">:</span><a href=\"file:///home/mcbrown/.manim_venv/lib/python3.10/site-packages/TTS/utils/synthesizer.py#450\" target=\"_blank\"><span style=\"color: #7f7f7f; text-decoration-color: #7f7f7f\">450</span></a>\n",
       "</pre>\n"
      ],
      "text/plain": [
       "\u001b[2;36m[08/14/25 10:25:18]\u001b[0m\u001b[2;36m \u001b[0m\u001b[32mINFO    \u001b[0m Processing time: \u001b[32m3.113\u001b[0m                                              \u001b]8;id=423528;file:///home/mcbrown/.manim_venv/lib/python3.10/site-packages/TTS/utils/synthesizer.py\u001b\\\u001b[2msynthesizer.py\u001b[0m\u001b]8;;\u001b\\\u001b[2m:\u001b[0m\u001b]8;id=707927;file:///home/mcbrown/.manim_venv/lib/python3.10/site-packages/TTS/utils/synthesizer.py#450\u001b\\\u001b[2m450\u001b[0m\u001b]8;;\u001b\\\n"
      ]
     },
     "metadata": {},
     "output_type": "display_data"
    },
    {
     "data": {
      "text/html": [
       "<pre style=\"white-space:pre;overflow-x:auto;line-height:normal;font-family:Menlo,'DejaVu Sans Mono',consolas,'Courier New',monospace\"><span style=\"color: #7fbfbf; text-decoration-color: #7fbfbf\">                    </span><span style=\"color: #008000; text-decoration-color: #008000\">INFO    </span> Real-time factor: <span style=\"color: #008000; text-decoration-color: #008000\">0.615</span>                                             <a href=\"file:///home/mcbrown/.manim_venv/lib/python3.10/site-packages/TTS/utils/synthesizer.py\" target=\"_blank\"><span style=\"color: #7f7f7f; text-decoration-color: #7f7f7f\">synthesizer.py</span></a><span style=\"color: #7f7f7f; text-decoration-color: #7f7f7f\">:</span><a href=\"file:///home/mcbrown/.manim_venv/lib/python3.10/site-packages/TTS/utils/synthesizer.py#451\" target=\"_blank\"><span style=\"color: #7f7f7f; text-decoration-color: #7f7f7f\">451</span></a>\n",
       "</pre>\n"
      ],
      "text/plain": [
       "\u001b[2;36m                   \u001b[0m\u001b[2;36m \u001b[0m\u001b[32mINFO    \u001b[0m Real-time factor: \u001b[32m0.615\u001b[0m                                             \u001b]8;id=474717;file:///home/mcbrown/.manim_venv/lib/python3.10/site-packages/TTS/utils/synthesizer.py\u001b\\\u001b[2msynthesizer.py\u001b[0m\u001b]8;;\u001b\\\u001b[2m:\u001b[0m\u001b]8;id=984283;file:///home/mcbrown/.manim_venv/lib/python3.10/site-packages/TTS/utils/synthesizer.py#451\u001b\\\u001b[2m451\u001b[0m\u001b]8;;\u001b\\\n"
      ]
     },
     "metadata": {},
     "output_type": "display_data"
    },
    {
     "name": "stderr",
     "output_type": "stream",
     "text": [
      "                                         "
     ]
    },
    {
     "data": {
      "text/html": [
       "<pre style=\"white-space:pre;overflow-x:auto;line-height:normal;font-family:Menlo,'DejaVu Sans Mono',consolas,'Courier New',monospace\"><span style=\"color: #7fbfbf; text-decoration-color: #7fbfbf\">[08/14/25 10:25:28] </span><span style=\"color: #008000; text-decoration-color: #008000\">INFO    </span> Text split into sentences.                                          <a href=\"file:///home/mcbrown/.manim_venv/lib/python3.10/site-packages/TTS/utils/synthesizer.py\" target=\"_blank\"><span style=\"color: #7f7f7f; text-decoration-color: #7f7f7f\">synthesizer.py</span></a><span style=\"color: #7f7f7f; text-decoration-color: #7f7f7f\">:</span><a href=\"file:///home/mcbrown/.manim_venv/lib/python3.10/site-packages/TTS/utils/synthesizer.py#363\" target=\"_blank\"><span style=\"color: #7f7f7f; text-decoration-color: #7f7f7f\">363</span></a>\n",
       "</pre>\n"
      ],
      "text/plain": [
       "\u001b[2;36m[08/14/25 10:25:28]\u001b[0m\u001b[2;36m \u001b[0m\u001b[32mINFO    \u001b[0m Text split into sentences.                                          \u001b]8;id=698701;file:///home/mcbrown/.manim_venv/lib/python3.10/site-packages/TTS/utils/synthesizer.py\u001b\\\u001b[2msynthesizer.py\u001b[0m\u001b]8;;\u001b\\\u001b[2m:\u001b[0m\u001b]8;id=107181;file:///home/mcbrown/.manim_venv/lib/python3.10/site-packages/TTS/utils/synthesizer.py#363\u001b\\\u001b[2m363\u001b[0m\u001b]8;;\u001b\\\n"
      ]
     },
     "metadata": {},
     "output_type": "display_data"
    },
    {
     "data": {
      "text/html": [
       "<pre style=\"white-space:pre;overflow-x:auto;line-height:normal;font-family:Menlo,'DejaVu Sans Mono',consolas,'Courier New',monospace\"><span style=\"color: #7fbfbf; text-decoration-color: #7fbfbf\">                    </span><span style=\"color: #008000; text-decoration-color: #008000\">INFO    </span> Input: <span style=\"font-weight: bold\">[</span><span style=\"color: #008000; text-decoration-color: #008000\">'We will use the quadratic formula which is derived from </span>   <a href=\"file:///home/mcbrown/.manim_venv/lib/python3.10/site-packages/TTS/utils/synthesizer.py\" target=\"_blank\"><span style=\"color: #7f7f7f; text-decoration-color: #7f7f7f\">synthesizer.py</span></a><span style=\"color: #7f7f7f; text-decoration-color: #7f7f7f\">:</span><a href=\"file:///home/mcbrown/.manim_venv/lib/python3.10/site-packages/TTS/utils/synthesizer.py#364\" target=\"_blank\"><span style=\"color: #7f7f7f; text-decoration-color: #7f7f7f\">364</span></a>\n",
       "<span style=\"color: #7fbfbf; text-decoration-color: #7fbfbf\">                    </span>         <span style=\"color: #008000; text-decoration-color: #008000\">the standard quadratic equation ax squared + bx + c = 0 where a ≠ </span>  <span style=\"color: #7f7f7f; text-decoration-color: #7f7f7f\">                  </span>\n",
       "<span style=\"color: #7fbfbf; text-decoration-color: #7fbfbf\">                    </span>         <span style=\"color: #008000; text-decoration-color: #008000\">0.'</span>, <span style=\"color: #008000; text-decoration-color: #008000\">'Comparing the given equation to this form, we find that a=3, </span> <span style=\"color: #7f7f7f; text-decoration-color: #7f7f7f\">                  </span>\n",
       "<span style=\"color: #7fbfbf; text-decoration-color: #7fbfbf\">                    </span>         <span style=\"color: #008000; text-decoration-color: #008000\">b=6 and c=−2.'</span><span style=\"font-weight: bold\">]</span>                                                     <span style=\"color: #7f7f7f; text-decoration-color: #7f7f7f\">                  </span>\n",
       "</pre>\n"
      ],
      "text/plain": [
       "\u001b[2;36m                   \u001b[0m\u001b[2;36m \u001b[0m\u001b[32mINFO    \u001b[0m Input: \u001b[1m[\u001b[0m\u001b[32m'We will use the quadratic formula which is derived from \u001b[0m   \u001b]8;id=587592;file:///home/mcbrown/.manim_venv/lib/python3.10/site-packages/TTS/utils/synthesizer.py\u001b\\\u001b[2msynthesizer.py\u001b[0m\u001b]8;;\u001b\\\u001b[2m:\u001b[0m\u001b]8;id=185425;file:///home/mcbrown/.manim_venv/lib/python3.10/site-packages/TTS/utils/synthesizer.py#364\u001b\\\u001b[2m364\u001b[0m\u001b]8;;\u001b\\\n",
       "\u001b[2;36m                    \u001b[0m         \u001b[32mthe standard quadratic equation ax squared + bx + c = 0 where a ≠ \u001b[0m  \u001b[2m                  \u001b[0m\n",
       "\u001b[2;36m                    \u001b[0m         \u001b[32m0.'\u001b[0m, \u001b[32m'Comparing the given equation to this form, we find that \u001b[0m\u001b[32ma\u001b[0m\u001b[32m=\u001b[0m\u001b[32m3\u001b[0m\u001b[32m, \u001b[0m \u001b[2m                  \u001b[0m\n",
       "\u001b[2;36m                    \u001b[0m         \u001b[32mb\u001b[0m\u001b[32m=\u001b[0m\u001b[32m6\u001b[0m\u001b[32m and \u001b[0m\u001b[32mc\u001b[0m\u001b[32m=−2.'\u001b[0m\u001b[1m]\u001b[0m                                                     \u001b[2m                  \u001b[0m\n"
      ]
     },
     "metadata": {},
     "output_type": "display_data"
    },
    {
     "data": {
      "text/html": [
       "<pre style=\"white-space:pre;overflow-x:auto;line-height:normal;font-family:Menlo,'DejaVu Sans Mono',consolas,'Courier New',monospace\"><span style=\"color: #7fbfbf; text-decoration-color: #7fbfbf\">                    </span><span style=\"color: #800000; text-decoration-color: #800000\">WARNING </span> we will use the quadratic formula which is derived from the standard   <a href=\"file:///home/mcbrown/.manim_venv/lib/python3.10/site-packages/TTS/tts/utils/text/tokenizer.py\" target=\"_blank\"><span style=\"color: #7f7f7f; text-decoration-color: #7f7f7f\">tokenizer.py</span></a><span style=\"color: #7f7f7f; text-decoration-color: #7f7f7f\">:</span><a href=\"file:///home/mcbrown/.manim_venv/lib/python3.10/site-packages/TTS/tts/utils/text/tokenizer.py#80\" target=\"_blank\"><span style=\"color: #7f7f7f; text-decoration-color: #7f7f7f\">80</span></a>\n",
       "<span style=\"color: #7fbfbf; text-decoration-color: #7fbfbf\">                    </span>         quadratic equation ax squared + bx + c = zero where a ≠ zero.          <span style=\"color: #7f7f7f; text-decoration-color: #7f7f7f\">               </span>\n",
       "</pre>\n"
      ],
      "text/plain": [
       "\u001b[2;36m                   \u001b[0m\u001b[2;36m \u001b[0m\u001b[31mWARNING \u001b[0m we will use the quadratic formula which is derived from the standard   \u001b]8;id=596214;file:///home/mcbrown/.manim_venv/lib/python3.10/site-packages/TTS/tts/utils/text/tokenizer.py\u001b\\\u001b[2mtokenizer.py\u001b[0m\u001b]8;;\u001b\\\u001b[2m:\u001b[0m\u001b]8;id=704559;file:///home/mcbrown/.manim_venv/lib/python3.10/site-packages/TTS/tts/utils/text/tokenizer.py#80\u001b\\\u001b[2m80\u001b[0m\u001b]8;;\u001b\\\n",
       "\u001b[2;36m                    \u001b[0m         quadratic equation ax squared + bx + c = zero where a ≠ zero.          \u001b[2m               \u001b[0m\n"
      ]
     },
     "metadata": {},
     "output_type": "display_data"
    },
    {
     "data": {
      "text/html": [
       "<pre style=\"white-space:pre;overflow-x:auto;line-height:normal;font-family:Menlo,'DejaVu Sans Mono',consolas,'Courier New',monospace\"><span style=\"color: #7fbfbf; text-decoration-color: #7fbfbf\">                    </span><span style=\"color: #800000; text-decoration-color: #800000\">WARNING </span> Character <span style=\"color: #008000; text-decoration-color: #008000\">'≠'</span> not found in the vocabulary. Discarding it.              <a href=\"file:///home/mcbrown/.manim_venv/lib/python3.10/site-packages/TTS/tts/utils/text/tokenizer.py\" target=\"_blank\"><span style=\"color: #7f7f7f; text-decoration-color: #7f7f7f\">tokenizer.py</span></a><span style=\"color: #7f7f7f; text-decoration-color: #7f7f7f\">:</span><a href=\"file:///home/mcbrown/.manim_venv/lib/python3.10/site-packages/TTS/tts/utils/text/tokenizer.py#81\" target=\"_blank\"><span style=\"color: #7f7f7f; text-decoration-color: #7f7f7f\">81</span></a>\n",
       "</pre>\n"
      ],
      "text/plain": [
       "\u001b[2;36m                   \u001b[0m\u001b[2;36m \u001b[0m\u001b[31mWARNING \u001b[0m Character \u001b[32m'≠'\u001b[0m not found in the vocabulary. Discarding it.              \u001b]8;id=913076;file:///home/mcbrown/.manim_venv/lib/python3.10/site-packages/TTS/tts/utils/text/tokenizer.py\u001b\\\u001b[2mtokenizer.py\u001b[0m\u001b]8;;\u001b\\\u001b[2m:\u001b[0m\u001b]8;id=536888;file:///home/mcbrown/.manim_venv/lib/python3.10/site-packages/TTS/tts/utils/text/tokenizer.py#81\u001b\\\u001b[2m81\u001b[0m\u001b]8;;\u001b\\\n"
      ]
     },
     "metadata": {},
     "output_type": "display_data"
    },
    {
     "data": {
      "text/html": [
       "<pre style=\"white-space:pre;overflow-x:auto;line-height:normal;font-family:Menlo,'DejaVu Sans Mono',consolas,'Courier New',monospace\"><span style=\"color: #7fbfbf; text-decoration-color: #7fbfbf\">[08/14/25 10:25:38] </span><span style=\"color: #008000; text-decoration-color: #008000\">INFO    </span> Processing time: <span style=\"color: #008000; text-decoration-color: #008000\">10.294</span>                                             <a href=\"file:///home/mcbrown/.manim_venv/lib/python3.10/site-packages/TTS/utils/synthesizer.py\" target=\"_blank\"><span style=\"color: #7f7f7f; text-decoration-color: #7f7f7f\">synthesizer.py</span></a><span style=\"color: #7f7f7f; text-decoration-color: #7f7f7f\">:</span><a href=\"file:///home/mcbrown/.manim_venv/lib/python3.10/site-packages/TTS/utils/synthesizer.py#450\" target=\"_blank\"><span style=\"color: #7f7f7f; text-decoration-color: #7f7f7f\">450</span></a>\n",
       "</pre>\n"
      ],
      "text/plain": [
       "\u001b[2;36m[08/14/25 10:25:38]\u001b[0m\u001b[2;36m \u001b[0m\u001b[32mINFO    \u001b[0m Processing time: \u001b[32m10.294\u001b[0m                                             \u001b]8;id=258018;file:///home/mcbrown/.manim_venv/lib/python3.10/site-packages/TTS/utils/synthesizer.py\u001b\\\u001b[2msynthesizer.py\u001b[0m\u001b]8;;\u001b\\\u001b[2m:\u001b[0m\u001b]8;id=715699;file:///home/mcbrown/.manim_venv/lib/python3.10/site-packages/TTS/utils/synthesizer.py#450\u001b\\\u001b[2m450\u001b[0m\u001b]8;;\u001b\\\n"
      ]
     },
     "metadata": {},
     "output_type": "display_data"
    },
    {
     "data": {
      "text/html": [
       "<pre style=\"white-space:pre;overflow-x:auto;line-height:normal;font-family:Menlo,'DejaVu Sans Mono',consolas,'Courier New',monospace\"><span style=\"color: #7fbfbf; text-decoration-color: #7fbfbf\">                    </span><span style=\"color: #008000; text-decoration-color: #008000\">INFO    </span> Real-time factor: <span style=\"color: #008000; text-decoration-color: #008000\">0.606</span>                                             <a href=\"file:///home/mcbrown/.manim_venv/lib/python3.10/site-packages/TTS/utils/synthesizer.py\" target=\"_blank\"><span style=\"color: #7f7f7f; text-decoration-color: #7f7f7f\">synthesizer.py</span></a><span style=\"color: #7f7f7f; text-decoration-color: #7f7f7f\">:</span><a href=\"file:///home/mcbrown/.manim_venv/lib/python3.10/site-packages/TTS/utils/synthesizer.py#451\" target=\"_blank\"><span style=\"color: #7f7f7f; text-decoration-color: #7f7f7f\">451</span></a>\n",
       "</pre>\n"
      ],
      "text/plain": [
       "\u001b[2;36m                   \u001b[0m\u001b[2;36m \u001b[0m\u001b[32mINFO    \u001b[0m Real-time factor: \u001b[32m0.606\u001b[0m                                             \u001b]8;id=593624;file:///home/mcbrown/.manim_venv/lib/python3.10/site-packages/TTS/utils/synthesizer.py\u001b\\\u001b[2msynthesizer.py\u001b[0m\u001b]8;;\u001b\\\u001b[2m:\u001b[0m\u001b]8;id=536427;file:///home/mcbrown/.manim_venv/lib/python3.10/site-packages/TTS/utils/synthesizer.py#451\u001b\\\u001b[2m451\u001b[0m\u001b]8;;\u001b\\\n"
      ]
     },
     "metadata": {},
     "output_type": "display_data"
    },
    {
     "name": "stderr",
     "output_type": "stream",
     "text": [
      "                                         "
     ]
    },
    {
     "data": {
      "text/html": [
       "<pre style=\"white-space:pre;overflow-x:auto;line-height:normal;font-family:Menlo,'DejaVu Sans Mono',consolas,'Courier New',monospace\"><span style=\"color: #7fbfbf; text-decoration-color: #7fbfbf\">[08/14/25 10:25:49] </span><span style=\"color: #008000; text-decoration-color: #008000\">INFO    </span> Text split into sentences.                                          <a href=\"file:///home/mcbrown/.manim_venv/lib/python3.10/site-packages/TTS/utils/synthesizer.py\" target=\"_blank\"><span style=\"color: #7f7f7f; text-decoration-color: #7f7f7f\">synthesizer.py</span></a><span style=\"color: #7f7f7f; text-decoration-color: #7f7f7f\">:</span><a href=\"file:///home/mcbrown/.manim_venv/lib/python3.10/site-packages/TTS/utils/synthesizer.py#363\" target=\"_blank\"><span style=\"color: #7f7f7f; text-decoration-color: #7f7f7f\">363</span></a>\n",
       "</pre>\n"
      ],
      "text/plain": [
       "\u001b[2;36m[08/14/25 10:25:49]\u001b[0m\u001b[2;36m \u001b[0m\u001b[32mINFO    \u001b[0m Text split into sentences.                                          \u001b]8;id=533383;file:///home/mcbrown/.manim_venv/lib/python3.10/site-packages/TTS/utils/synthesizer.py\u001b\\\u001b[2msynthesizer.py\u001b[0m\u001b]8;;\u001b\\\u001b[2m:\u001b[0m\u001b]8;id=419375;file:///home/mcbrown/.manim_venv/lib/python3.10/site-packages/TTS/utils/synthesizer.py#363\u001b\\\u001b[2m363\u001b[0m\u001b]8;;\u001b\\\n"
      ]
     },
     "metadata": {},
     "output_type": "display_data"
    },
    {
     "data": {
      "text/html": [
       "<pre style=\"white-space:pre;overflow-x:auto;line-height:normal;font-family:Menlo,'DejaVu Sans Mono',consolas,'Courier New',monospace\"><span style=\"color: #7fbfbf; text-decoration-color: #7fbfbf\">                    </span><span style=\"color: #008000; text-decoration-color: #008000\">INFO    </span> Input: <span style=\"font-weight: bold\">[</span><span style=\"color: #008000; text-decoration-color: #008000\">'Next, substitute a with 3, b with 6, and c with −2 in the </span> <a href=\"file:///home/mcbrown/.manim_venv/lib/python3.10/site-packages/TTS/utils/synthesizer.py\" target=\"_blank\"><span style=\"color: #7f7f7f; text-decoration-color: #7f7f7f\">synthesizer.py</span></a><span style=\"color: #7f7f7f; text-decoration-color: #7f7f7f\">:</span><a href=\"file:///home/mcbrown/.manim_venv/lib/python3.10/site-packages/TTS/utils/synthesizer.py#364\" target=\"_blank\"><span style=\"color: #7f7f7f; text-decoration-color: #7f7f7f\">364</span></a>\n",
       "<span style=\"color: #7fbfbf; text-decoration-color: #7fbfbf\">                    </span>         <span style=\"color: #008000; text-decoration-color: #008000\">quadratic formula, then solve for x.'</span><span style=\"font-weight: bold\">]</span>                              <span style=\"color: #7f7f7f; text-decoration-color: #7f7f7f\">                  </span>\n",
       "</pre>\n"
      ],
      "text/plain": [
       "\u001b[2;36m                   \u001b[0m\u001b[2;36m \u001b[0m\u001b[32mINFO    \u001b[0m Input: \u001b[1m[\u001b[0m\u001b[32m'Next, substitute a with 3, b with 6, and c with −2 in the \u001b[0m \u001b]8;id=22555;file:///home/mcbrown/.manim_venv/lib/python3.10/site-packages/TTS/utils/synthesizer.py\u001b\\\u001b[2msynthesizer.py\u001b[0m\u001b]8;;\u001b\\\u001b[2m:\u001b[0m\u001b]8;id=105650;file:///home/mcbrown/.manim_venv/lib/python3.10/site-packages/TTS/utils/synthesizer.py#364\u001b\\\u001b[2m364\u001b[0m\u001b]8;;\u001b\\\n",
       "\u001b[2;36m                    \u001b[0m         \u001b[32mquadratic formula, then solve for x.'\u001b[0m\u001b[1m]\u001b[0m                              \u001b[2m                  \u001b[0m\n"
      ]
     },
     "metadata": {},
     "output_type": "display_data"
    },
    {
     "data": {
      "text/html": [
       "<pre style=\"white-space:pre;overflow-x:auto;line-height:normal;font-family:Menlo,'DejaVu Sans Mono',consolas,'Courier New',monospace\"><span style=\"color: #7fbfbf; text-decoration-color: #7fbfbf\">[08/14/25 10:25:55] </span><span style=\"color: #008000; text-decoration-color: #008000\">INFO    </span> Processing time: <span style=\"color: #008000; text-decoration-color: #008000\">5.971</span>                                              <a href=\"file:///home/mcbrown/.manim_venv/lib/python3.10/site-packages/TTS/utils/synthesizer.py\" target=\"_blank\"><span style=\"color: #7f7f7f; text-decoration-color: #7f7f7f\">synthesizer.py</span></a><span style=\"color: #7f7f7f; text-decoration-color: #7f7f7f\">:</span><a href=\"file:///home/mcbrown/.manim_venv/lib/python3.10/site-packages/TTS/utils/synthesizer.py#450\" target=\"_blank\"><span style=\"color: #7f7f7f; text-decoration-color: #7f7f7f\">450</span></a>\n",
       "</pre>\n"
      ],
      "text/plain": [
       "\u001b[2;36m[08/14/25 10:25:55]\u001b[0m\u001b[2;36m \u001b[0m\u001b[32mINFO    \u001b[0m Processing time: \u001b[32m5.971\u001b[0m                                              \u001b]8;id=966431;file:///home/mcbrown/.manim_venv/lib/python3.10/site-packages/TTS/utils/synthesizer.py\u001b\\\u001b[2msynthesizer.py\u001b[0m\u001b]8;;\u001b\\\u001b[2m:\u001b[0m\u001b]8;id=417363;file:///home/mcbrown/.manim_venv/lib/python3.10/site-packages/TTS/utils/synthesizer.py#450\u001b\\\u001b[2m450\u001b[0m\u001b]8;;\u001b\\\n"
      ]
     },
     "metadata": {},
     "output_type": "display_data"
    },
    {
     "data": {
      "text/html": [
       "<pre style=\"white-space:pre;overflow-x:auto;line-height:normal;font-family:Menlo,'DejaVu Sans Mono',consolas,'Courier New',monospace\"><span style=\"color: #7fbfbf; text-decoration-color: #7fbfbf\">                    </span><span style=\"color: #008000; text-decoration-color: #008000\">INFO    </span> Real-time factor: <span style=\"color: #008000; text-decoration-color: #008000\">0.596</span>                                             <a href=\"file:///home/mcbrown/.manim_venv/lib/python3.10/site-packages/TTS/utils/synthesizer.py\" target=\"_blank\"><span style=\"color: #7f7f7f; text-decoration-color: #7f7f7f\">synthesizer.py</span></a><span style=\"color: #7f7f7f; text-decoration-color: #7f7f7f\">:</span><a href=\"file:///home/mcbrown/.manim_venv/lib/python3.10/site-packages/TTS/utils/synthesizer.py#451\" target=\"_blank\"><span style=\"color: #7f7f7f; text-decoration-color: #7f7f7f\">451</span></a>\n",
       "</pre>\n"
      ],
      "text/plain": [
       "\u001b[2;36m                   \u001b[0m\u001b[2;36m \u001b[0m\u001b[32mINFO    \u001b[0m Real-time factor: \u001b[32m0.596\u001b[0m                                             \u001b]8;id=260667;file:///home/mcbrown/.manim_venv/lib/python3.10/site-packages/TTS/utils/synthesizer.py\u001b\\\u001b[2msynthesizer.py\u001b[0m\u001b]8;;\u001b\\\u001b[2m:\u001b[0m\u001b]8;id=762185;file:///home/mcbrown/.manim_venv/lib/python3.10/site-packages/TTS/utils/synthesizer.py#451\u001b\\\u001b[2m451\u001b[0m\u001b]8;;\u001b\\\n"
      ]
     },
     "metadata": {},
     "output_type": "display_data"
    },
    {
     "name": "stderr",
     "output_type": "stream",
     "text": [
      "                                         "
     ]
    },
    {
     "data": {
      "text/html": [
       "<pre style=\"white-space:pre;overflow-x:auto;line-height:normal;font-family:Menlo,'DejaVu Sans Mono',consolas,'Courier New',monospace\"><span style=\"color: #7fbfbf; text-decoration-color: #7fbfbf\">[08/14/25 10:26:03] </span><span style=\"color: #008000; text-decoration-color: #008000\">INFO    </span> Text split into sentences.                                          <a href=\"file:///home/mcbrown/.manim_venv/lib/python3.10/site-packages/TTS/utils/synthesizer.py\" target=\"_blank\"><span style=\"color: #7f7f7f; text-decoration-color: #7f7f7f\">synthesizer.py</span></a><span style=\"color: #7f7f7f; text-decoration-color: #7f7f7f\">:</span><a href=\"file:///home/mcbrown/.manim_venv/lib/python3.10/site-packages/TTS/utils/synthesizer.py#363\" target=\"_blank\"><span style=\"color: #7f7f7f; text-decoration-color: #7f7f7f\">363</span></a>\n",
       "</pre>\n"
      ],
      "text/plain": [
       "\u001b[2;36m[08/14/25 10:26:03]\u001b[0m\u001b[2;36m \u001b[0m\u001b[32mINFO    \u001b[0m Text split into sentences.                                          \u001b]8;id=10980;file:///home/mcbrown/.manim_venv/lib/python3.10/site-packages/TTS/utils/synthesizer.py\u001b\\\u001b[2msynthesizer.py\u001b[0m\u001b]8;;\u001b\\\u001b[2m:\u001b[0m\u001b]8;id=874687;file:///home/mcbrown/.manim_venv/lib/python3.10/site-packages/TTS/utils/synthesizer.py#363\u001b\\\u001b[2m363\u001b[0m\u001b]8;;\u001b\\\n"
      ]
     },
     "metadata": {},
     "output_type": "display_data"
    },
    {
     "data": {
      "text/html": [
       "<pre style=\"white-space:pre;overflow-x:auto;line-height:normal;font-family:Menlo,'DejaVu Sans Mono',consolas,'Courier New',monospace\"><span style=\"color: #7fbfbf; text-decoration-color: #7fbfbf\">                    </span><span style=\"color: #008000; text-decoration-color: #008000\">INFO    </span> Input: <span style=\"font-weight: bold\">[</span><span style=\"color: #008000; text-decoration-color: #008000\">'Continue by simplifying the right hand side of the </span>        <a href=\"file:///home/mcbrown/.manim_venv/lib/python3.10/site-packages/TTS/utils/synthesizer.py\" target=\"_blank\"><span style=\"color: #7f7f7f; text-decoration-color: #7f7f7f\">synthesizer.py</span></a><span style=\"color: #7f7f7f; text-decoration-color: #7f7f7f\">:</span><a href=\"file:///home/mcbrown/.manim_venv/lib/python3.10/site-packages/TTS/utils/synthesizer.py#364\" target=\"_blank\"><span style=\"color: #7f7f7f; text-decoration-color: #7f7f7f\">364</span></a>\n",
       "<span style=\"color: #7fbfbf; text-decoration-color: #7fbfbf\">                    </span>         <span style=\"color: #008000; text-decoration-color: #008000\">formula.'</span><span style=\"font-weight: bold\">]</span>                                                          <span style=\"color: #7f7f7f; text-decoration-color: #7f7f7f\">                  </span>\n",
       "</pre>\n"
      ],
      "text/plain": [
       "\u001b[2;36m                   \u001b[0m\u001b[2;36m \u001b[0m\u001b[32mINFO    \u001b[0m Input: \u001b[1m[\u001b[0m\u001b[32m'Continue by simplifying the right hand side of the \u001b[0m        \u001b]8;id=863582;file:///home/mcbrown/.manim_venv/lib/python3.10/site-packages/TTS/utils/synthesizer.py\u001b\\\u001b[2msynthesizer.py\u001b[0m\u001b]8;;\u001b\\\u001b[2m:\u001b[0m\u001b]8;id=91794;file:///home/mcbrown/.manim_venv/lib/python3.10/site-packages/TTS/utils/synthesizer.py#364\u001b\\\u001b[2m364\u001b[0m\u001b]8;;\u001b\\\n",
       "\u001b[2;36m                    \u001b[0m         \u001b[32mformula.'\u001b[0m\u001b[1m]\u001b[0m                                                          \u001b[2m                  \u001b[0m\n"
      ]
     },
     "metadata": {},
     "output_type": "display_data"
    },
    {
     "data": {
      "text/html": [
       "<pre style=\"white-space:pre;overflow-x:auto;line-height:normal;font-family:Menlo,'DejaVu Sans Mono',consolas,'Courier New',monospace\"><span style=\"color: #7fbfbf; text-decoration-color: #7fbfbf\">[08/14/25 10:26:05] </span><span style=\"color: #008000; text-decoration-color: #008000\">INFO    </span> Processing time: <span style=\"color: #008000; text-decoration-color: #008000\">2.560</span>                                              <a href=\"file:///home/mcbrown/.manim_venv/lib/python3.10/site-packages/TTS/utils/synthesizer.py\" target=\"_blank\"><span style=\"color: #7f7f7f; text-decoration-color: #7f7f7f\">synthesizer.py</span></a><span style=\"color: #7f7f7f; text-decoration-color: #7f7f7f\">:</span><a href=\"file:///home/mcbrown/.manim_venv/lib/python3.10/site-packages/TTS/utils/synthesizer.py#450\" target=\"_blank\"><span style=\"color: #7f7f7f; text-decoration-color: #7f7f7f\">450</span></a>\n",
       "</pre>\n"
      ],
      "text/plain": [
       "\u001b[2;36m[08/14/25 10:26:05]\u001b[0m\u001b[2;36m \u001b[0m\u001b[32mINFO    \u001b[0m Processing time: \u001b[32m2.560\u001b[0m                                              \u001b]8;id=446730;file:///home/mcbrown/.manim_venv/lib/python3.10/site-packages/TTS/utils/synthesizer.py\u001b\\\u001b[2msynthesizer.py\u001b[0m\u001b]8;;\u001b\\\u001b[2m:\u001b[0m\u001b]8;id=450427;file:///home/mcbrown/.manim_venv/lib/python3.10/site-packages/TTS/utils/synthesizer.py#450\u001b\\\u001b[2m450\u001b[0m\u001b]8;;\u001b\\\n"
      ]
     },
     "metadata": {},
     "output_type": "display_data"
    },
    {
     "data": {
      "text/html": [
       "<pre style=\"white-space:pre;overflow-x:auto;line-height:normal;font-family:Menlo,'DejaVu Sans Mono',consolas,'Courier New',monospace\"><span style=\"color: #7fbfbf; text-decoration-color: #7fbfbf\">                    </span><span style=\"color: #008000; text-decoration-color: #008000\">INFO    </span> Real-time factor: <span style=\"color: #008000; text-decoration-color: #008000\">0.645</span>                                             <a href=\"file:///home/mcbrown/.manim_venv/lib/python3.10/site-packages/TTS/utils/synthesizer.py\" target=\"_blank\"><span style=\"color: #7f7f7f; text-decoration-color: #7f7f7f\">synthesizer.py</span></a><span style=\"color: #7f7f7f; text-decoration-color: #7f7f7f\">:</span><a href=\"file:///home/mcbrown/.manim_venv/lib/python3.10/site-packages/TTS/utils/synthesizer.py#451\" target=\"_blank\"><span style=\"color: #7f7f7f; text-decoration-color: #7f7f7f\">451</span></a>\n",
       "</pre>\n"
      ],
      "text/plain": [
       "\u001b[2;36m                   \u001b[0m\u001b[2;36m \u001b[0m\u001b[32mINFO    \u001b[0m Real-time factor: \u001b[32m0.645\u001b[0m                                             \u001b]8;id=376897;file:///home/mcbrown/.manim_venv/lib/python3.10/site-packages/TTS/utils/synthesizer.py\u001b\\\u001b[2msynthesizer.py\u001b[0m\u001b]8;;\u001b\\\u001b[2m:\u001b[0m\u001b]8;id=197165;file:///home/mcbrown/.manim_venv/lib/python3.10/site-packages/TTS/utils/synthesizer.py#451\u001b\\\u001b[2m451\u001b[0m\u001b]8;;\u001b\\\n"
      ]
     },
     "metadata": {},
     "output_type": "display_data"
    },
    {
     "name": "stderr",
     "output_type": "stream",
     "text": [
      "                                         "
     ]
    },
    {
     "data": {
      "text/html": [
       "<pre style=\"white-space:pre;overflow-x:auto;line-height:normal;font-family:Menlo,'DejaVu Sans Mono',consolas,'Courier New',monospace\"><span style=\"color: #7fbfbf; text-decoration-color: #7fbfbf\">[08/14/25 10:26:17] </span><span style=\"color: #008000; text-decoration-color: #008000\">INFO    </span> Text split into sentences.                                          <a href=\"file:///home/mcbrown/.manim_venv/lib/python3.10/site-packages/TTS/utils/synthesizer.py\" target=\"_blank\"><span style=\"color: #7f7f7f; text-decoration-color: #7f7f7f\">synthesizer.py</span></a><span style=\"color: #7f7f7f; text-decoration-color: #7f7f7f\">:</span><a href=\"file:///home/mcbrown/.manim_venv/lib/python3.10/site-packages/TTS/utils/synthesizer.py#363\" target=\"_blank\"><span style=\"color: #7f7f7f; text-decoration-color: #7f7f7f\">363</span></a>\n",
       "</pre>\n"
      ],
      "text/plain": [
       "\u001b[2;36m[08/14/25 10:26:17]\u001b[0m\u001b[2;36m \u001b[0m\u001b[32mINFO    \u001b[0m Text split into sentences.                                          \u001b]8;id=767869;file:///home/mcbrown/.manim_venv/lib/python3.10/site-packages/TTS/utils/synthesizer.py\u001b\\\u001b[2msynthesizer.py\u001b[0m\u001b]8;;\u001b\\\u001b[2m:\u001b[0m\u001b]8;id=2550;file:///home/mcbrown/.manim_venv/lib/python3.10/site-packages/TTS/utils/synthesizer.py#363\u001b\\\u001b[2m363\u001b[0m\u001b]8;;\u001b\\\n"
      ]
     },
     "metadata": {},
     "output_type": "display_data"
    },
    {
     "data": {
      "text/html": [
       "<pre style=\"white-space:pre;overflow-x:auto;line-height:normal;font-family:Menlo,'DejaVu Sans Mono',consolas,'Courier New',monospace\"><span style=\"color: #7fbfbf; text-decoration-color: #7fbfbf\">                    </span><span style=\"color: #008000; text-decoration-color: #008000\">INFO    </span> Input: <span style=\"font-weight: bold\">[</span><span style=\"color: #008000; text-decoration-color: #008000\">'Solve for each value of x.'</span>, <span style=\"color: #008000; text-decoration-color: #008000\">'A quadratic equation </span>        <a href=\"file:///home/mcbrown/.manim_venv/lib/python3.10/site-packages/TTS/utils/synthesizer.py\" target=\"_blank\"><span style=\"color: #7f7f7f; text-decoration-color: #7f7f7f\">synthesizer.py</span></a><span style=\"color: #7f7f7f; text-decoration-color: #7f7f7f\">:</span><a href=\"file:///home/mcbrown/.manim_venv/lib/python3.10/site-packages/TTS/utils/synthesizer.py#364\" target=\"_blank\"><span style=\"color: #7f7f7f; text-decoration-color: #7f7f7f\">364</span></a>\n",
       "<span style=\"color: #7fbfbf; text-decoration-color: #7fbfbf\">                    </span>         <span style=\"color: #008000; text-decoration-color: #008000\">typically has two solutions, unless otherwise.'</span><span style=\"font-weight: bold\">]</span>                    <span style=\"color: #7f7f7f; text-decoration-color: #7f7f7f\">                  </span>\n",
       "</pre>\n"
      ],
      "text/plain": [
       "\u001b[2;36m                   \u001b[0m\u001b[2;36m \u001b[0m\u001b[32mINFO    \u001b[0m Input: \u001b[1m[\u001b[0m\u001b[32m'Solve for each value of x.'\u001b[0m, \u001b[32m'A quadratic equation \u001b[0m        \u001b]8;id=315213;file:///home/mcbrown/.manim_venv/lib/python3.10/site-packages/TTS/utils/synthesizer.py\u001b\\\u001b[2msynthesizer.py\u001b[0m\u001b]8;;\u001b\\\u001b[2m:\u001b[0m\u001b]8;id=933776;file:///home/mcbrown/.manim_venv/lib/python3.10/site-packages/TTS/utils/synthesizer.py#364\u001b\\\u001b[2m364\u001b[0m\u001b]8;;\u001b\\\n",
       "\u001b[2;36m                    \u001b[0m         \u001b[32mtypically has two solutions, unless otherwise.'\u001b[0m\u001b[1m]\u001b[0m                    \u001b[2m                  \u001b[0m\n"
      ]
     },
     "metadata": {},
     "output_type": "display_data"
    },
    {
     "data": {
      "text/html": [
       "<pre style=\"white-space:pre;overflow-x:auto;line-height:normal;font-family:Menlo,'DejaVu Sans Mono',consolas,'Courier New',monospace\"><span style=\"color: #7fbfbf; text-decoration-color: #7fbfbf\">[08/14/25 10:26:22] </span><span style=\"color: #008000; text-decoration-color: #008000\">INFO    </span> Processing time: <span style=\"color: #008000; text-decoration-color: #008000\">4.777</span>                                              <a href=\"file:///home/mcbrown/.manim_venv/lib/python3.10/site-packages/TTS/utils/synthesizer.py\" target=\"_blank\"><span style=\"color: #7f7f7f; text-decoration-color: #7f7f7f\">synthesizer.py</span></a><span style=\"color: #7f7f7f; text-decoration-color: #7f7f7f\">:</span><a href=\"file:///home/mcbrown/.manim_venv/lib/python3.10/site-packages/TTS/utils/synthesizer.py#450\" target=\"_blank\"><span style=\"color: #7f7f7f; text-decoration-color: #7f7f7f\">450</span></a>\n",
       "</pre>\n"
      ],
      "text/plain": [
       "\u001b[2;36m[08/14/25 10:26:22]\u001b[0m\u001b[2;36m \u001b[0m\u001b[32mINFO    \u001b[0m Processing time: \u001b[32m4.777\u001b[0m                                              \u001b]8;id=567796;file:///home/mcbrown/.manim_venv/lib/python3.10/site-packages/TTS/utils/synthesizer.py\u001b\\\u001b[2msynthesizer.py\u001b[0m\u001b]8;;\u001b\\\u001b[2m:\u001b[0m\u001b]8;id=492693;file:///home/mcbrown/.manim_venv/lib/python3.10/site-packages/TTS/utils/synthesizer.py#450\u001b\\\u001b[2m450\u001b[0m\u001b]8;;\u001b\\\n"
      ]
     },
     "metadata": {},
     "output_type": "display_data"
    },
    {
     "data": {
      "text/html": [
       "<pre style=\"white-space:pre;overflow-x:auto;line-height:normal;font-family:Menlo,'DejaVu Sans Mono',consolas,'Courier New',monospace\"><span style=\"color: #7fbfbf; text-decoration-color: #7fbfbf\">                    </span><span style=\"color: #008000; text-decoration-color: #008000\">INFO    </span> Real-time factor: <span style=\"color: #008000; text-decoration-color: #008000\">0.571</span>                                             <a href=\"file:///home/mcbrown/.manim_venv/lib/python3.10/site-packages/TTS/utils/synthesizer.py\" target=\"_blank\"><span style=\"color: #7f7f7f; text-decoration-color: #7f7f7f\">synthesizer.py</span></a><span style=\"color: #7f7f7f; text-decoration-color: #7f7f7f\">:</span><a href=\"file:///home/mcbrown/.manim_venv/lib/python3.10/site-packages/TTS/utils/synthesizer.py#451\" target=\"_blank\"><span style=\"color: #7f7f7f; text-decoration-color: #7f7f7f\">451</span></a>\n",
       "</pre>\n"
      ],
      "text/plain": [
       "\u001b[2;36m                   \u001b[0m\u001b[2;36m \u001b[0m\u001b[32mINFO    \u001b[0m Real-time factor: \u001b[32m0.571\u001b[0m                                             \u001b]8;id=256649;file:///home/mcbrown/.manim_venv/lib/python3.10/site-packages/TTS/utils/synthesizer.py\u001b\\\u001b[2msynthesizer.py\u001b[0m\u001b]8;;\u001b\\\u001b[2m:\u001b[0m\u001b]8;id=247773;file:///home/mcbrown/.manim_venv/lib/python3.10/site-packages/TTS/utils/synthesizer.py#451\u001b\\\u001b[2m451\u001b[0m\u001b]8;;\u001b\\\n"
      ]
     },
     "metadata": {},
     "output_type": "display_data"
    },
    {
     "name": "stderr",
     "output_type": "stream",
     "text": [
      "                                         "
     ]
    },
    {
     "data": {
      "text/html": [
       "<pre style=\"white-space:pre;overflow-x:auto;line-height:normal;font-family:Menlo,'DejaVu Sans Mono',consolas,'Courier New',monospace\"><span style=\"color: #7fbfbf; text-decoration-color: #7fbfbf\">[08/14/25 10:26:37] </span><span style=\"color: #008000; text-decoration-color: #008000\">INFO    </span> Text split into sentences.                                          <a href=\"file:///home/mcbrown/.manim_venv/lib/python3.10/site-packages/TTS/utils/synthesizer.py\" target=\"_blank\"><span style=\"color: #7f7f7f; text-decoration-color: #7f7f7f\">synthesizer.py</span></a><span style=\"color: #7f7f7f; text-decoration-color: #7f7f7f\">:</span><a href=\"file:///home/mcbrown/.manim_venv/lib/python3.10/site-packages/TTS/utils/synthesizer.py#363\" target=\"_blank\"><span style=\"color: #7f7f7f; text-decoration-color: #7f7f7f\">363</span></a>\n",
       "</pre>\n"
      ],
      "text/plain": [
       "\u001b[2;36m[08/14/25 10:26:37]\u001b[0m\u001b[2;36m \u001b[0m\u001b[32mINFO    \u001b[0m Text split into sentences.                                          \u001b]8;id=696897;file:///home/mcbrown/.manim_venv/lib/python3.10/site-packages/TTS/utils/synthesizer.py\u001b\\\u001b[2msynthesizer.py\u001b[0m\u001b]8;;\u001b\\\u001b[2m:\u001b[0m\u001b]8;id=833856;file:///home/mcbrown/.manim_venv/lib/python3.10/site-packages/TTS/utils/synthesizer.py#363\u001b\\\u001b[2m363\u001b[0m\u001b]8;;\u001b\\\n"
      ]
     },
     "metadata": {},
     "output_type": "display_data"
    },
    {
     "data": {
      "text/html": [
       "<pre style=\"white-space:pre;overflow-x:auto;line-height:normal;font-family:Menlo,'DejaVu Sans Mono',consolas,'Courier New',monospace\"><span style=\"color: #7fbfbf; text-decoration-color: #7fbfbf\">                    </span><span style=\"color: #008000; text-decoration-color: #008000\">INFO    </span> Input: <span style=\"font-weight: bold\">[</span><span style=\"color: #008000; text-decoration-color: #008000\">'We are asked to give the final answers correct to 3 </span>       <a href=\"file:///home/mcbrown/.manim_venv/lib/python3.10/site-packages/TTS/utils/synthesizer.py\" target=\"_blank\"><span style=\"color: #7f7f7f; text-decoration-color: #7f7f7f\">synthesizer.py</span></a><span style=\"color: #7f7f7f; text-decoration-color: #7f7f7f\">:</span><a href=\"file:///home/mcbrown/.manim_venv/lib/python3.10/site-packages/TTS/utils/synthesizer.py#364\" target=\"_blank\"><span style=\"color: #7f7f7f; text-decoration-color: #7f7f7f\">364</span></a>\n",
       "<span style=\"color: #7fbfbf; text-decoration-color: #7fbfbf\">                    </span>         <span style=\"color: #008000; text-decoration-color: #008000\">significant figures.'</span><span style=\"font-weight: bold\">]</span>                                              <span style=\"color: #7f7f7f; text-decoration-color: #7f7f7f\">                  </span>\n",
       "</pre>\n"
      ],
      "text/plain": [
       "\u001b[2;36m                   \u001b[0m\u001b[2;36m \u001b[0m\u001b[32mINFO    \u001b[0m Input: \u001b[1m[\u001b[0m\u001b[32m'We are asked to give the final answers correct to 3 \u001b[0m       \u001b]8;id=897604;file:///home/mcbrown/.manim_venv/lib/python3.10/site-packages/TTS/utils/synthesizer.py\u001b\\\u001b[2msynthesizer.py\u001b[0m\u001b]8;;\u001b\\\u001b[2m:\u001b[0m\u001b]8;id=127875;file:///home/mcbrown/.manim_venv/lib/python3.10/site-packages/TTS/utils/synthesizer.py#364\u001b\\\u001b[2m364\u001b[0m\u001b]8;;\u001b\\\n",
       "\u001b[2;36m                    \u001b[0m         \u001b[32msignificant figures.'\u001b[0m\u001b[1m]\u001b[0m                                              \u001b[2m                  \u001b[0m\n"
      ]
     },
     "metadata": {},
     "output_type": "display_data"
    },
    {
     "data": {
      "text/html": [
       "<pre style=\"white-space:pre;overflow-x:auto;line-height:normal;font-family:Menlo,'DejaVu Sans Mono',consolas,'Courier New',monospace\"><span style=\"color: #7fbfbf; text-decoration-color: #7fbfbf\">[08/14/25 10:26:41] </span><span style=\"color: #008000; text-decoration-color: #008000\">INFO    </span> Processing time: <span style=\"color: #008000; text-decoration-color: #008000\">3.829</span>                                              <a href=\"file:///home/mcbrown/.manim_venv/lib/python3.10/site-packages/TTS/utils/synthesizer.py\" target=\"_blank\"><span style=\"color: #7f7f7f; text-decoration-color: #7f7f7f\">synthesizer.py</span></a><span style=\"color: #7f7f7f; text-decoration-color: #7f7f7f\">:</span><a href=\"file:///home/mcbrown/.manim_venv/lib/python3.10/site-packages/TTS/utils/synthesizer.py#450\" target=\"_blank\"><span style=\"color: #7f7f7f; text-decoration-color: #7f7f7f\">450</span></a>\n",
       "</pre>\n"
      ],
      "text/plain": [
       "\u001b[2;36m[08/14/25 10:26:41]\u001b[0m\u001b[2;36m \u001b[0m\u001b[32mINFO    \u001b[0m Processing time: \u001b[32m3.829\u001b[0m                                              \u001b]8;id=626059;file:///home/mcbrown/.manim_venv/lib/python3.10/site-packages/TTS/utils/synthesizer.py\u001b\\\u001b[2msynthesizer.py\u001b[0m\u001b]8;;\u001b\\\u001b[2m:\u001b[0m\u001b]8;id=393442;file:///home/mcbrown/.manim_venv/lib/python3.10/site-packages/TTS/utils/synthesizer.py#450\u001b\\\u001b[2m450\u001b[0m\u001b]8;;\u001b\\\n"
      ]
     },
     "metadata": {},
     "output_type": "display_data"
    },
    {
     "data": {
      "text/html": [
       "<pre style=\"white-space:pre;overflow-x:auto;line-height:normal;font-family:Menlo,'DejaVu Sans Mono',consolas,'Courier New',monospace\"><span style=\"color: #7fbfbf; text-decoration-color: #7fbfbf\">                    </span><span style=\"color: #008000; text-decoration-color: #008000\">INFO    </span> Real-time factor: <span style=\"color: #008000; text-decoration-color: #008000\">0.647</span>                                             <a href=\"file:///home/mcbrown/.manim_venv/lib/python3.10/site-packages/TTS/utils/synthesizer.py\" target=\"_blank\"><span style=\"color: #7f7f7f; text-decoration-color: #7f7f7f\">synthesizer.py</span></a><span style=\"color: #7f7f7f; text-decoration-color: #7f7f7f\">:</span><a href=\"file:///home/mcbrown/.manim_venv/lib/python3.10/site-packages/TTS/utils/synthesizer.py#451\" target=\"_blank\"><span style=\"color: #7f7f7f; text-decoration-color: #7f7f7f\">451</span></a>\n",
       "</pre>\n"
      ],
      "text/plain": [
       "\u001b[2;36m                   \u001b[0m\u001b[2;36m \u001b[0m\u001b[32mINFO    \u001b[0m Real-time factor: \u001b[32m0.647\u001b[0m                                             \u001b]8;id=318349;file:///home/mcbrown/.manim_venv/lib/python3.10/site-packages/TTS/utils/synthesizer.py\u001b\\\u001b[2msynthesizer.py\u001b[0m\u001b]8;;\u001b\\\u001b[2m:\u001b[0m\u001b]8;id=788967;file:///home/mcbrown/.manim_venv/lib/python3.10/site-packages/TTS/utils/synthesizer.py#451\u001b\\\u001b[2m451\u001b[0m\u001b]8;;\u001b\\\n"
      ]
     },
     "metadata": {},
     "output_type": "display_data"
    },
    {
     "name": "stderr",
     "output_type": "stream",
     "text": [
      "                                         "
     ]
    },
    {
     "data": {
      "text/html": [
       "<pre style=\"white-space:pre;overflow-x:auto;line-height:normal;font-family:Menlo,'DejaVu Sans Mono',consolas,'Courier New',monospace\"><span style=\"color: #7fbfbf; text-decoration-color: #7fbfbf\">[08/14/25 10:27:04] </span><span style=\"color: #008000; text-decoration-color: #008000\">INFO    </span> Text split into sentences.                                          <a href=\"file:///home/mcbrown/.manim_venv/lib/python3.10/site-packages/TTS/utils/synthesizer.py\" target=\"_blank\"><span style=\"color: #7f7f7f; text-decoration-color: #7f7f7f\">synthesizer.py</span></a><span style=\"color: #7f7f7f; text-decoration-color: #7f7f7f\">:</span><a href=\"file:///home/mcbrown/.manim_venv/lib/python3.10/site-packages/TTS/utils/synthesizer.py#363\" target=\"_blank\"><span style=\"color: #7f7f7f; text-decoration-color: #7f7f7f\">363</span></a>\n",
       "</pre>\n"
      ],
      "text/plain": [
       "\u001b[2;36m[08/14/25 10:27:04]\u001b[0m\u001b[2;36m \u001b[0m\u001b[32mINFO    \u001b[0m Text split into sentences.                                          \u001b]8;id=65830;file:///home/mcbrown/.manim_venv/lib/python3.10/site-packages/TTS/utils/synthesizer.py\u001b\\\u001b[2msynthesizer.py\u001b[0m\u001b]8;;\u001b\\\u001b[2m:\u001b[0m\u001b]8;id=562122;file:///home/mcbrown/.manim_venv/lib/python3.10/site-packages/TTS/utils/synthesizer.py#363\u001b\\\u001b[2m363\u001b[0m\u001b]8;;\u001b\\\n"
      ]
     },
     "metadata": {},
     "output_type": "display_data"
    },
    {
     "data": {
      "text/html": [
       "<pre style=\"white-space:pre;overflow-x:auto;line-height:normal;font-family:Menlo,'DejaVu Sans Mono',consolas,'Courier New',monospace\"><span style=\"color: #7fbfbf; text-decoration-color: #7fbfbf\">                    </span><span style=\"color: #008000; text-decoration-color: #008000\">INFO    </span> Input: <span style=\"font-weight: bold\">[</span><span style=\"color: #008000; text-decoration-color: #008000\">'Thank you for watching.'</span><span style=\"font-weight: bold\">]</span>                                  <a href=\"file:///home/mcbrown/.manim_venv/lib/python3.10/site-packages/TTS/utils/synthesizer.py\" target=\"_blank\"><span style=\"color: #7f7f7f; text-decoration-color: #7f7f7f\">synthesizer.py</span></a><span style=\"color: #7f7f7f; text-decoration-color: #7f7f7f\">:</span><a href=\"file:///home/mcbrown/.manim_venv/lib/python3.10/site-packages/TTS/utils/synthesizer.py#364\" target=\"_blank\"><span style=\"color: #7f7f7f; text-decoration-color: #7f7f7f\">364</span></a>\n",
       "</pre>\n"
      ],
      "text/plain": [
       "\u001b[2;36m                   \u001b[0m\u001b[2;36m \u001b[0m\u001b[32mINFO    \u001b[0m Input: \u001b[1m[\u001b[0m\u001b[32m'Thank you for watching.'\u001b[0m\u001b[1m]\u001b[0m                                  \u001b]8;id=359566;file:///home/mcbrown/.manim_venv/lib/python3.10/site-packages/TTS/utils/synthesizer.py\u001b\\\u001b[2msynthesizer.py\u001b[0m\u001b]8;;\u001b\\\u001b[2m:\u001b[0m\u001b]8;id=449637;file:///home/mcbrown/.manim_venv/lib/python3.10/site-packages/TTS/utils/synthesizer.py#364\u001b\\\u001b[2m364\u001b[0m\u001b]8;;\u001b\\\n"
      ]
     },
     "metadata": {},
     "output_type": "display_data"
    },
    {
     "data": {
      "text/html": [
       "<pre style=\"white-space:pre;overflow-x:auto;line-height:normal;font-family:Menlo,'DejaVu Sans Mono',consolas,'Courier New',monospace\"><span style=\"color: #7fbfbf; text-decoration-color: #7fbfbf\">[08/14/25 10:27:05] </span><span style=\"color: #008000; text-decoration-color: #008000\">INFO    </span> Processing time: <span style=\"color: #008000; text-decoration-color: #008000\">0.929</span>                                              <a href=\"file:///home/mcbrown/.manim_venv/lib/python3.10/site-packages/TTS/utils/synthesizer.py\" target=\"_blank\"><span style=\"color: #7f7f7f; text-decoration-color: #7f7f7f\">synthesizer.py</span></a><span style=\"color: #7f7f7f; text-decoration-color: #7f7f7f\">:</span><a href=\"file:///home/mcbrown/.manim_venv/lib/python3.10/site-packages/TTS/utils/synthesizer.py#450\" target=\"_blank\"><span style=\"color: #7f7f7f; text-decoration-color: #7f7f7f\">450</span></a>\n",
       "</pre>\n"
      ],
      "text/plain": [
       "\u001b[2;36m[08/14/25 10:27:05]\u001b[0m\u001b[2;36m \u001b[0m\u001b[32mINFO    \u001b[0m Processing time: \u001b[32m0.929\u001b[0m                                              \u001b]8;id=656938;file:///home/mcbrown/.manim_venv/lib/python3.10/site-packages/TTS/utils/synthesizer.py\u001b\\\u001b[2msynthesizer.py\u001b[0m\u001b]8;;\u001b\\\u001b[2m:\u001b[0m\u001b]8;id=845358;file:///home/mcbrown/.manim_venv/lib/python3.10/site-packages/TTS/utils/synthesizer.py#450\u001b\\\u001b[2m450\u001b[0m\u001b]8;;\u001b\\\n"
      ]
     },
     "metadata": {},
     "output_type": "display_data"
    },
    {
     "data": {
      "text/html": [
       "<pre style=\"white-space:pre;overflow-x:auto;line-height:normal;font-family:Menlo,'DejaVu Sans Mono',consolas,'Courier New',monospace\"><span style=\"color: #7fbfbf; text-decoration-color: #7fbfbf\">                    </span><span style=\"color: #008000; text-decoration-color: #008000\">INFO    </span> Real-time factor: <span style=\"color: #008000; text-decoration-color: #008000\">0.503</span>                                             <a href=\"file:///home/mcbrown/.manim_venv/lib/python3.10/site-packages/TTS/utils/synthesizer.py\" target=\"_blank\"><span style=\"color: #7f7f7f; text-decoration-color: #7f7f7f\">synthesizer.py</span></a><span style=\"color: #7f7f7f; text-decoration-color: #7f7f7f\">:</span><a href=\"file:///home/mcbrown/.manim_venv/lib/python3.10/site-packages/TTS/utils/synthesizer.py#451\" target=\"_blank\"><span style=\"color: #7f7f7f; text-decoration-color: #7f7f7f\">451</span></a>\n",
       "</pre>\n"
      ],
      "text/plain": [
       "\u001b[2;36m                   \u001b[0m\u001b[2;36m \u001b[0m\u001b[32mINFO    \u001b[0m Real-time factor: \u001b[32m0.503\u001b[0m                                             \u001b]8;id=207150;file:///home/mcbrown/.manim_venv/lib/python3.10/site-packages/TTS/utils/synthesizer.py\u001b\\\u001b[2msynthesizer.py\u001b[0m\u001b]8;;\u001b\\\u001b[2m:\u001b[0m\u001b]8;id=540919;file:///home/mcbrown/.manim_venv/lib/python3.10/site-packages/TTS/utils/synthesizer.py#451\u001b\\\u001b[2m451\u001b[0m\u001b]8;;\u001b\\\n"
      ]
     },
     "metadata": {},
     "output_type": "display_data"
    },
    {
     "name": "stderr",
     "output_type": "stream",
     "text": [
      "                                         "
     ]
    },
    {
     "data": {
      "text/html": [
       "<pre style=\"white-space:pre;overflow-x:auto;line-height:normal;font-family:Menlo,'DejaVu Sans Mono',consolas,'Courier New',monospace\"><span style=\"color: #7fbfbf; text-decoration-color: #7fbfbf\">[08/14/25 10:27:28] </span><span style=\"color: #800000; text-decoration-color: #800000\">WARNING </span> Some options were not used: <span style=\"font-weight: bold\">{</span><span style=\"color: #008000; text-decoration-color: #008000\">'shortest'</span>: <span style=\"color: #008000; text-decoration-color: #008000\">'1'</span>, <span style=\"color: #008000; text-decoration-color: #008000\">'metadata'</span>:     <a href=\"file:///home/mcbrown/.manim_venv/lib/python3.10/site-packages/manim/scene/scene_file_writer.py\" target=\"_blank\"><span style=\"color: #7f7f7f; text-decoration-color: #7f7f7f\">scene_file_writer.py</span></a><span style=\"color: #7f7f7f; text-decoration-color: #7f7f7f\">:</span><a href=\"file:///home/mcbrown/.manim_venv/lib/python3.10/site-packages/manim/scene/scene_file_writer.py#801\" target=\"_blank\"><span style=\"color: #7f7f7f; text-decoration-color: #7f7f7f\">801</span></a>\n",
       "<span style=\"color: #7fbfbf; text-decoration-color: #7fbfbf\">                    </span>         <span style=\"color: #008000; text-decoration-color: #008000\">'comment=</span><span style=\"color: #808000; text-decoration-color: #808000; font-weight: bold\">Rendered</span><span style=\"color: #008000; text-decoration-color: #008000\"> with Manim Community v0.19.0'</span><span style=\"font-weight: bold\">}</span>              <span style=\"color: #7f7f7f; text-decoration-color: #7f7f7f\">                        </span>\n",
       "</pre>\n"
      ],
      "text/plain": [
       "\u001b[2;36m[08/14/25 10:27:28]\u001b[0m\u001b[2;36m \u001b[0m\u001b[31mWARNING \u001b[0m Some options were not used: \u001b[1m{\u001b[0m\u001b[32m'shortest'\u001b[0m: \u001b[32m'1'\u001b[0m, \u001b[32m'metadata'\u001b[0m:     \u001b]8;id=540397;file:///home/mcbrown/.manim_venv/lib/python3.10/site-packages/manim/scene/scene_file_writer.py\u001b\\\u001b[2mscene_file_writer.py\u001b[0m\u001b]8;;\u001b\\\u001b[2m:\u001b[0m\u001b]8;id=29269;file:///home/mcbrown/.manim_venv/lib/python3.10/site-packages/manim/scene/scene_file_writer.py#801\u001b\\\u001b[2m801\u001b[0m\u001b]8;;\u001b\\\n",
       "\u001b[2;36m                    \u001b[0m         \u001b[32m'\u001b[0m\u001b[32mcomment\u001b[0m\u001b[32m=\u001b[0m\u001b[1;33mRendered\u001b[0m\u001b[32m with Manim Community v0.19.0'\u001b[0m\u001b[1m}\u001b[0m              \u001b[2m                        \u001b[0m\n"
      ]
     },
     "metadata": {},
     "output_type": "display_data"
    },
    {
     "data": {
      "text/html": [
       "<video src=\"media/jupyter/QuadraticEquation@2025-08-14@10-27-28.mp4\" controls autoplay loop style=\"max-width: 60%;\"  >\n",
       "      Your browser does not support the <code>video</code> element.\n",
       "    </video>"
      ],
      "text/plain": [
       "<IPython.core.display.Video object>"
      ]
     },
     "metadata": {},
     "output_type": "display_data"
    }
   ],
   "source": [
    "%%manim -ql -v WARNING QuadraticEquation\n",
    "# Import the Libraries\n",
    "from manim import *\n",
    "from manim_voiceover import VoiceoverScene\n",
    "from manim_voiceover.services.gtts import GTTSService\n",
    "\n",
    "# Make Configurations\n",
    "config.pixel_width = 1920\n",
    "config.pixel_height = 1080\n",
    "config.frame_rate = 30\n",
    "config.disable_caching = True\n",
    "\n",
    "# Initialize a Scene\n",
    "class QuadraticEquation(VoiceoverScene):\n",
    "    def construct(self):\n",
    "        # Set Up speech services\n",
    "        self.set_speech_service(GTTSService(lang=\"en\"))\n",
    "        \n",
    "\n",
    "        # Add background image\n",
    "        background = ImageMobject(\"../../Image/chalk_board.jpg\")\n",
    "        background.set_z_index(-1)\n",
    "        background.scale_to_fit_height(config.frame_height)\n",
    "        background.scale_to_fit_width(config.frame_width)\n",
    "        self.add(background)\n",
    "\n",
    "        # Load and position logo image\n",
    "        logo = ImageMobject(\"../../Image/logo.png\")\n",
    "        logo_corner = logo.scale(0.15)\n",
    "        logo_corner.to_corner(DR)\n",
    "        self.add(logo_corner)\n",
    "\n",
    "        # Intro\n",
    "        text_1 = \"\"\"\n",
    "                Hello, welcome to yet another lesson on solving quadratic equestions here at Kasiwa \\\n",
    "                Academy. Please stay with us as we continue helping each other grow Mathematical skills.\n",
    "                 \"\"\"\n",
    "        with self.voiceover(text_1) as tracker:\n",
    "            title = Tex(r\"Solving Quadratic Equations\", color=YELLOW)\n",
    "            institution = Tex(r\"@Kasiwa Academy\")\n",
    "            self.play(Write(title))\n",
    "            self.wait()\n",
    "            self.play(title.animate.shift(UP).scale(1.5).set_color(WHITE), FadeIn(institution, shift=UP))\n",
    "            self.wait()\n",
    "\n",
    "        # Slide 1\n",
    "        text_2 = \"\"\"\n",
    "                Let us begin by introducing our problem that we will solve. We are given a quadratic equation \\\n",
    "                3x² + 6x \\N{MINUS SIGN} 2 = 0. We are asked to solve the equation giving the final answer correct to three significant figures. \n",
    "                 \"\"\"\n",
    "        with self.voiceover(text_2) as tracker:\n",
    "            sub_title_1 = Tex(r\"Problem Statement :\", color=YELLOW)\n",
    "            statement_1 = Tex(r\"Solve the equation $3x^2 + 6x - 2 = 0$, giving the answer\\\\\"\n",
    "                              r\"correct to three significant figures.\")\n",
    "            self.play(FadeOut(title, institution, shift=UP), Write(sub_title_1))\n",
    "            self.wait()\n",
    "            self.play(sub_title_1.animate.to_edge(UP).scale(1.5).set_color(WHITE), FadeIn(statement_1, shift=UP))\n",
    "            self.wait()\n",
    "            self.play(statement_1.animate.scale(1.1))\n",
    "        self.wait()\n",
    "\n",
    "        # Slide 2\n",
    "        text_3 = \"\"\"\n",
    "                Let us get started by isolating the given equation from the problem statement.\n",
    "                 \"\"\"\n",
    "        with self.voiceover(text_3) as tracker:\n",
    "            sub_title_2 = Tex(r\"Start with the given equation :\", color=YELLOW).shift(2*DOWN)\n",
    "            eq1 = MathTex(r\"3x^2 + 6x - 2 = 0\")\n",
    "            self.play(Write(sub_title_2))\n",
    "            self.wait()\n",
    "            self.play(FadeOut(sub_title_1, statement_1, shift=UP), sub_title_2.animate.to_edge(UP).set_color(WHITE).scale(1.5),\n",
    "                     Write(eq1))\n",
    "            self.wait()\n",
    "            self.play(eq1.animate.scale(1.5))\n",
    "        self.wait()\n",
    "\n",
    "        # Slide 3\n",
    "        text_4 = \"\"\"\n",
    "                We will use the quadratic formula which is derived from the standard quadratic equation\\\n",
    "                Comparing the given equation to this form, we find that a=3, b=6 and c=\\N{MINUS SIGN}2.\n",
    "                 \"\"\"\n",
    "        with self.voiceover(text_4) as tracker:\n",
    "            sub_title_3 = Tex(r\"Use the quadratic formula :\", color=YELLOW).shift(2*DOWN)\n",
    "            statement_2 = Tex(r\"Where: $a$ = $3$, $b$ = $6$, and $c$ = $-2$\").move_to([0, 1, 0]).scale(1.3)\n",
    "            formula = MathTex(r\"x = \\frac{-b \\pm \\sqrt{b^2 - 4ac}}{2a}\").move_to([0, -1, 0]).scale(1.3)\n",
    "            self.play(Write(sub_title_3))\n",
    "            self.wait()\n",
    "            self.play(FadeOut(sub_title_2, shift=UP), eq1.animate.move_to([0, 2.5, 0]), FadeIn(statement_2, formula, shift=UP),\n",
    "                     sub_title_3.animate.to_edge(UP).set_color(WHITE).scale(1.3))\n",
    "        self.wait()\n",
    "\n",
    "        # Slide 4\n",
    "        text_5 = \"\"\"\n",
    "                Next, substitute a with 3, b with 6, and c with −2 in the quadratic formula, then solve for x.\n",
    "                 \"\"\"\n",
    "        with self.voiceover(text_5) as tracker:\n",
    "            eq2 = MathTex(r\"x = \\frac{-(6) \\pm \\sqrt{(6)^2 - 4(3)(-2)}}{2(3)}\").move_to([0, -2, 0]).scale(1.3)\n",
    "            self.play(FadeOut(eq1, shift=UP), statement_2.animate.move_to([0, 2.3, 0]),\n",
    "                     formula.animate.move_to([0, 0.7, 0]))\n",
    "            self.wait()\n",
    "            self.play(TransformFromCopy(formula, eq2))\n",
    "        self.wait()\n",
    "\n",
    "        # Slide 5\n",
    "        text_5 = \"\"\"\n",
    "                Continue by simplifying the right hand side of the formula.\n",
    "                 \"\"\"\n",
    "        with self.voiceover(text_5) as tracker:\n",
    "            eq3 = MathTex(r\"x = \\frac{-6 \\pm \\sqrt{36 + 24}}{6}\").scale(1.2)\n",
    "            eq4 = MathTex(r\"x = \\frac{-6 \\pm \\sqrt{60}}{6}\").move_to([-3, -1.8, 0]).scale(1.2)\n",
    "            eq5 = MathTex(r\"x = \\frac{-6 \\pm \\sqrt{7.746}}{6}\").move_to([3, -1.8, 0]).scale(1.2)\n",
    "            self.play(FadeOut(statement_2, formula, shift=UP), eq2.animate.move_to([0, 2, 0]))\n",
    "            self.wait()\n",
    "            self.play(TransformFromCopy(eq2, eq3))\n",
    "            self.wait()\n",
    "            self.play(TransformFromCopy(eq3, eq4))\n",
    "            self.wait()\n",
    "            self.play(TransformFromCopy(eq4, eq5))\n",
    "        self.wait()\n",
    "\n",
    "        # Slide 6\n",
    "        text_6 = \"\"\"\n",
    "                Solve for each value of x. A quadratic equation typically has two solutions, unless otherwise.\n",
    "                 \"\"\"\n",
    "        with self.voiceover(text_6) as tracker:\n",
    "            sub_title_4 = Tex(r\"Solve for each value of $x$ :\", color=YELLOW).to_edge(DOWN)\n",
    "            eq6 = MathTex(r\"x = \\frac{-6 + 7.746}{6}\").scale(1.2).move_to([-3, 0, 0])\n",
    "            eq7 = MathTex(r\"x = \\frac{-6 - 7.746}{6}\").scale(1.2).move_to([3, 0, 0])\n",
    "            eq8 = MathTex(r\"x = 0.291\").scale(1.2).move_to([-3, -1.5, 0])\n",
    "            eq9 = MathTex(r\"x = -2.291\").scale(1.2).move_to([3, -1.5, 0])\n",
    "            self.play(Write(sub_title_4))\n",
    "            self.play(FadeOut(sub_title_3, eq2, eq3, eq4, shift=UP), sub_title_4.animate.to_edge(UP).scale(1.5).set_color(WHITE),\n",
    "                     eq5.animate.move_to([0, 2, 0]))\n",
    "            self.wait()\n",
    "            self.play(TransformFromCopy(eq5, eq6), TransformFromCopy(eq5, eq7))\n",
    "            self.wait()\n",
    "            self.play(TransformFromCopy(eq6, eq8), TransformFromCopy(eq7, eq9))\n",
    "        self.wait()\n",
    "\n",
    "        # Slide 7\n",
    "        text_7 = \"\"\"\n",
    "                We are asked to give the final answers correct to 3 significant figures.\n",
    "                 \"\"\"\n",
    "        with self.voiceover(text_7) as tracker:\n",
    "            sub_title_5 = Tex(r\"Answers correct to 3 significant figures :\", color=YELLOW).to_edge(DOWN)\n",
    "            sub_title_6 = Tex(r\"Final Answer:\", color=YELLOW).to_edge(UP).scale(1.5)\n",
    "            statement_3 = Tex(r\"or\").scale(1.2)\n",
    "            eq10 = MathTex(r\"x = 0.291\").move_to([-3, 0, 0]).scale(1.2)\n",
    "            eq11 = MathTex(r\"x = -2.29\").move_to([3, 0, 0]).scale(1.2)\n",
    "            self.play(Write(sub_title_5))\n",
    "            self.wait()\n",
    "            self.play(FadeOut(sub_title_4, eq5, eq6, eq7, shift=UP), eq8.animate.move_to([-3, 2, 0]),\n",
    "                     eq9.animate.move_to([3, 2, 0]), sub_title_5.animate.to_edge(UP))\n",
    "            self.wait()\n",
    "            self.play(TransformFromCopy(eq8, eq10), TransformFromCopy(eq9, eq11))\n",
    "            self.wait()\n",
    "            self.play(eq10.animate.scale(1.5).set_color(YELLOW), eq11.animate.scale(1.5).set_color(YELLOW), \n",
    "                      FadeIn(statement_3, shift=UP), FadeTransform(sub_title_5, sub_title_6), \n",
    "                      FadeOut(eq8, shift=LEFT), FadeOut(eq9, shift=RIGHT))\n",
    "            self.play(Circumscribe(eq10), Circumscribe(eq11), )\n",
    "            self.wait(3)\n",
    "            shrink_group = VGroup(sub_title_6, eq10, eq11, statement_3)\n",
    "            self.play(ShrinkToCenter(shrink_group))\n",
    "        self.wait()\n",
    "        \n",
    "        # Outro\n",
    "        outro_text = \"\"\"\n",
    "                    Thank you for watching.\n",
    "                     \"\"\"\n",
    "        with self.voiceover(outro_text) as tracker:\n",
    "            final_text = Tex(\"Thank you for watching!\", color=YELLOW).scale(1.5)\n",
    "            self.play(Write(final_text))\n",
    "            self.wait()\n",
    "            self.play(logo_corner.animate.move_to(ORIGIN).scale(3), \n",
    "                      final_text.animate.to_edge(DOWN).set_color(WHITE))\n",
    "            self.wait(2)\n",
    "            self.play(FadeOut(final_text, logo_corner))\n",
    "        self.wait()"
   ]
  },
  {
   "cell_type": "code",
   "execution_count": null,
   "id": "8c617550-b8ab-450e-a9cc-f75adf9603e6",
   "metadata": {},
   "outputs": [],
   "source": []
  }
 ],
 "metadata": {
  "kernelspec": {
   "display_name": "Python 3 (ipykernel)",
   "language": "python",
   "name": "python3"
  },
  "language_info": {
   "codemirror_mode": {
    "name": "ipython",
    "version": 3
   },
   "file_extension": ".py",
   "mimetype": "text/x-python",
   "name": "python",
   "nbconvert_exporter": "python",
   "pygments_lexer": "ipython3",
   "version": "3.10.18"
  }
 },
 "nbformat": 4,
 "nbformat_minor": 5
}
