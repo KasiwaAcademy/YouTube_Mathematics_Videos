{
 "cells": [
  {
   "cell_type": "code",
   "execution_count": 1,
   "id": "4f164baf-f3d0-44c3-afb6-1db0820a0dae",
   "metadata": {},
   "outputs": [],
   "source": [
    "import warnings\n",
    "warnings.filterwarnings(\"ignore\", category=UserWarning, module=\"manim_voiceover\")\n",
    "\n",
    "from manim import *\n",
    "import manim_voiceover"
   ]
  },
  {
   "cell_type": "code",
   "execution_count": null,
   "id": "02b5d03d-a56c-4daf-8477-15f1bd24a35c",
   "metadata": {},
   "outputs": [],
   "source": [
    "%%manim -ql -v WARNING QuadraticEquation\n",
    "# Import the Libraries\n",
    "from manim import *\n",
    "from manim_voiceover import VoiceoverScene\n",
    "from manim_voiceover.services.gtts import GTTSService\n",
    "\n",
    "# Make Configurations\n",
    "config.pixel_width = 1920\n",
    "config.pixel_height = 1080\n",
    "config.frame_rate = 30\n",
    "config.disable_caching = True\n",
    "\n",
    "# Initialize a Scene\n",
    "class QuadraticEquation(VoiceoverScene):\n",
    "    def construct(self):\n",
    "        # Set Up speech services\n",
    "        self.set_speech_service(\n",
    "            GTTSService(lang=\"eng\")\n",
    "        )\n",
    "\n",
    "        # Add background image\n",
    "        background = ImageMobject(\"../../Image/chalk_board.jpg\")\n",
    "        background.set_z_index(-1)\n",
    "        background.scale_to_fit_height(config.frame_height)\n",
    "        background.scale_to_fit_width(config.frame_width)\n",
    "        self.add(background)\n",
    "\n",
    "        # Load and position logo image\n",
    "        logo = ImageMobject(\"../../Image/logo.png\")\n",
    "        logo_corner = logo.scale(0.15)\n",
    "        logo_corner.to_corner(DR)\n",
    "        self.add(logo_corner)\n",
    "###############################################################################################################\n",
    "        # Intro\n",
    "        text = \"\"\"\n",
    "                Hello there, welcome to yet another lesson on solving quadratic equestions here at Kasiwa \\\n",
    "                Academy. Please stay with as we continue helping each other growing our Mathematical skills.\n",
    "               \"\"\"\n",
    "        with voiceover(text.text) as tracker:\n",
    "            title = Tex(r\"Solving a Quadratic using Quadratic Formula\", color=YELLOW)\n",
    "            institution = Tex(r\"@Kaswia Academy\")\n",
    "            self.play(Write(title))\n",
    "            self.wait()\n",
    "            self.play(title.animate.shift(UP).scale(1.5).set_color(WHITE), FadeIn(institution, shift=UP))\n",
    "        self.wait(2)\n",
    "        self.play(FadeOut(title, institution))\n",
    "        self.wait()\n",
    "###############################################################################################################\n",
    "        # Outro\n",
    "        final_text = Tex(\"Thank you for watching!\", color=YELLOW).scale(1.5)\n",
    "        self.play(Write(final_text))\n",
    "        self.wait()\n",
    "        self.play(logo_corner.animate.move_to(ORIGIN).scale(3), \n",
    "                  final_text.animate.to_edge(DOWN).set_color(WHITE))\n",
    "        self.wait(2)\n",
    "        self.play(FadeOut(final_text, logo_corner))\n",
    "        self.wait()"
   ]
  }
 ],
 "metadata": {
  "kernelspec": {
   "display_name": "Python 3 (ipykernel)",
   "language": "python",
   "name": "python3"
  },
  "language_info": {
   "codemirror_mode": {
    "name": "ipython",
    "version": 3
   },
   "file_extension": ".py",
   "mimetype": "text/x-python",
   "name": "python",
   "nbconvert_exporter": "python",
   "pygments_lexer": "ipython3",
   "version": "3.12.3"
  }
 },
 "nbformat": 4,
 "nbformat_minor": 5
}
