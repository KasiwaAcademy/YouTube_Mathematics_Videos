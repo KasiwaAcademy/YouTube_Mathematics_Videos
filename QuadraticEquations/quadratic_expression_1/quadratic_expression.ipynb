{
 "cells": [
  {
   "cell_type": "code",
   "execution_count": 1,
   "id": "9f4359d0-d0a9-4f51-a7e9-1f8c395f1e5e",
   "metadata": {},
   "outputs": [],
   "source": [
    "from manim import *"
   ]
  },
  {
   "cell_type": "code",
   "execution_count": 3,
   "id": "be48bec6-aa3c-428c-ad63-80ecf8c32854",
   "metadata": {},
   "outputs": [
    {
     "data": {
      "text/html": [
       "<pre style=\"white-space:pre;overflow-x:auto;line-height:normal;font-family:Menlo,'DejaVu Sans Mono',consolas,'Courier New',monospace\">Manim Community <span style=\"color: #008000; text-decoration-color: #008000\">v0.18.1</span>\n",
       "\n",
       "</pre>\n"
      ],
      "text/plain": [
       "Manim Community \u001b[32mv0.\u001b[0m\u001b[32m18.1\u001b[0m\n",
       "\n"
      ]
     },
     "metadata": {},
     "output_type": "display_data"
    },
    {
     "name": "stderr",
     "output_type": "stream",
     "text": [
      "                                         "
     ]
    },
    {
     "data": {
      "text/html": [
       "<video src=\"media/jupyter/QuadraticExpression@2025-08-18@16-06-10.mp4\" controls autoplay loop style=\"max-width: 60%;\"  >\n",
       "      Your browser does not support the <code>video</code> element.\n",
       "    </video>"
      ],
      "text/plain": [
       "<IPython.core.display.Video object>"
      ]
     },
     "metadata": {},
     "output_type": "display_data"
    }
   ],
   "source": [
    "%%manim -ql -v WARNING QuadraticExpression\n",
    "\n",
    "from manim import *\n",
    "#from manim_voiceover import VoiceoverScene\n",
    "#from manim_voiceover.services.gtts import GTTSService\n",
    "\n",
    "config.pixel_width = 1920\n",
    "config.pixel_height = 1080\n",
    "config.frame_rate = 30\n",
    "config.disable_caching = True\n",
    "\n",
    "class QuadraticExpression(Scene):\n",
    "    def construct(self):\n",
    "        # Set Up speech services\n",
    "        #self.set_speech_service(GTTSService(lang=\"en\", transcription_model=\"base\"))\n",
    "\n",
    "        # Add background image\n",
    "        background = ImageMobject(\"../Image/chalk_board.jpg\")\n",
    "        background.set_z_index(-1)\n",
    "        background.scale_to_fit_height(config.frame_height)\n",
    "        background.scale_to_fit_width(config.frame_width)\n",
    "        self.add(background)\n",
    "\n",
    "        # Load and position logo image\n",
    "        logo = ImageMobject(\"../Image/logo.png\")\n",
    "        logo_corner = logo.scale(0.15)\n",
    "        logo_corner.to_corner(DR)\n",
    "        self.add(logo_corner)\n",
    "\n",
    "        # Intro\n",
    "        title = Tex(r\"\\textbf{Factorizing a Quadratic Expression.}\", color=YELLOW)\n",
    "        institution = Tex(r\"@Kasiwa Academy\")\n",
    "        self.play(Write(title))\n",
    "        self.wait()\n",
    "        self.play(title.animate.shift(UP).scale(1.5).set_color(WHITE))\n",
    "        self.wait()\n",
    "        self.play(FadeIn(institution, shift=UP))\n",
    "        self.wait(2)\n",
    "\n",
    "        #Slide 1\n",
    "        sub_title_1 = Tex(r\"Problem Statement:\", color=YELLOW).to_edge(DOWN)\n",
    "        statement_1 = Tex(r\"Factorize completely \", r\"$10 + 8m -24m^2$\", r\".\").scale(1.3)\n",
    "        self.play(Write(sub_title_1))\n",
    "        self.wait()\n",
    "        self.play(FadeOut(title, institution, shift=UP), sub_title_1.animate.to_edge(UP).set_color(YELLOW_B).scale(1.5),\n",
    "                 Write(statement_1))\n",
    "        self.wait()\n",
    "        self.play(Indicate(statement_1[1]))\n",
    "        self.wait(2)\n",
    "        self.play(FadeOut(sub_title_1, statement_1))\n",
    "        \n",
    "        #Outro\n",
    "        #outro_text = \"\"\"\n",
    "        #            Thank you for watching. See you in our next video.\n",
    "        #             \"\"\"\n",
    "        #with self.voiceover(text=outro_text) as tracker:\n",
    "        final_text = Tex(\"Thank you for watching!\", color=YELLOW_B).scale(1.5)\n",
    "        self.play(Write(final_text))\n",
    "        self.wait()\n",
    "        self.play(logo_corner.animate.move_to(ORIGIN).scale(3), \n",
    "                    final_text.animate.to_edge(DOWN).set_color(WHITE))\n",
    "        self.wait(2)\n",
    "        self.play(FadeOut(final_text, logo_corner))"
   ]
  },
  {
   "cell_type": "code",
   "execution_count": null,
   "id": "87feeb25-5297-40b4-8b5f-0c0653c9573c",
   "metadata": {},
   "outputs": [],
   "source": []
  }
 ],
 "metadata": {
  "kernelspec": {
   "display_name": "Python 3 (ipykernel)",
   "language": "python",
   "name": "python3"
  },
  "language_info": {
   "codemirror_mode": {
    "name": "ipython",
    "version": 3
   },
   "file_extension": ".py",
   "mimetype": "text/x-python",
   "name": "python",
   "nbconvert_exporter": "python",
   "pygments_lexer": "ipython3",
   "version": "3.10.18"
  }
 },
 "nbformat": 4,
 "nbformat_minor": 5
}
