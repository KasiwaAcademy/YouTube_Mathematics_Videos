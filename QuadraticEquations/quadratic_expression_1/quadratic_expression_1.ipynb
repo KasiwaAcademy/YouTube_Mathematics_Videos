{
 "cells": [
  {
   "cell_type": "code",
   "execution_count": 1,
   "id": "9f4359d0-d0a9-4f51-a7e9-1f8c395f1e5e",
   "metadata": {},
   "outputs": [],
   "source": [
    "from manim import *"
   ]
  },
  {
   "cell_type": "code",
   "execution_count": 2,
   "id": "be48bec6-aa3c-428c-ad63-80ecf8c32854",
   "metadata": {},
   "outputs": [
    {
     "data": {
      "text/html": [
       "<pre style=\"white-space:pre;overflow-x:auto;line-height:normal;font-family:Menlo,'DejaVu Sans Mono',consolas,'Courier New',monospace\">Manim Community <span style=\"color: #008000; text-decoration-color: #008000\">v0.18.1</span>\n",
       "\n",
       "</pre>\n"
      ],
      "text/plain": [
       "Manim Community \u001b[32mv0.\u001b[0m\u001b[32m18.1\u001b[0m\n",
       "\n"
      ]
     },
     "metadata": {},
     "output_type": "display_data"
    },
    {
     "name": "stderr",
     "output_type": "stream",
     "text": [
      "/home/mcbrown/.manim_env/lib/python3.10/site-packages/stable_whisper/whisper_word_level/original_whisper.py:249: UserWarning: FP16 is not supported on CPU; using FP32 instead\n",
      "  warnings.warn(\"FP16 is not supported on CPU; using FP32 instead\")\n",
      "Transcribe:   0%| | 0/9.34 [00:17<?, ?sec/s"
     ]
    },
    {
     "name": "stdout",
     "output_type": "stream",
     "text": [
      "Detected language: english\n"
     ]
    },
    {
     "name": "stderr",
     "output_type": "stream",
     "text": [
      "Transcribe: 100%|█| 9.34/9.34 [00:24<00:00,\n",
      "/home/mcbrown/.manim_env/lib/python3.10/site-packages/stable_whisper/whisper_word_level/original_whisper.py:249: UserWarning: FP16 is not supported on CPU; using FP32 instead\n",
      "  warnings.warn(\"FP16 is not supported on CPU; using FP32 instead\")\n",
      "Transcribe:   0%| | 0/11.18 [00:01<?, ?sec/"
     ]
    },
    {
     "name": "stdout",
     "output_type": "stream",
     "text": [
      "Detected language: english\n"
     ]
    },
    {
     "name": "stderr",
     "output_type": "stream",
     "text": [
      "Transcribe: 100%|█| 11.18/11.18 [00:05<00:0\n",
      "/home/mcbrown/.manim_env/lib/python3.10/site-packages/stable_whisper/whisper_word_level/original_whisper.py:249: UserWarning: FP16 is not supported on CPU; using FP32 instead\n",
      "  warnings.warn(\"FP16 is not supported on CPU; using FP32 instead\")\n",
      "Transcribe:   0%| | 0/26.47 [00:01<?, ?sec/"
     ]
    },
    {
     "name": "stdout",
     "output_type": "stream",
     "text": [
      "Detected language: english\n"
     ]
    },
    {
     "name": "stderr",
     "output_type": "stream",
     "text": [
      "Transcribe: 100%|█| 26.47/26.47 [00:07<00:0\n",
      "/home/mcbrown/.manim_env/lib/python3.10/site-packages/stable_whisper/whisper_word_level/original_whisper.py:249: UserWarning: FP16 is not supported on CPU; using FP32 instead\n",
      "  warnings.warn(\"FP16 is not supported on CPU; using FP32 instead\")\n",
      "Transcribe:   0%| | 0/16.87 [00:01<?, ?sec/"
     ]
    },
    {
     "name": "stdout",
     "output_type": "stream",
     "text": [
      "Detected language: english\n"
     ]
    },
    {
     "name": "stderr",
     "output_type": "stream",
     "text": [
      "Transcribe: 100%|█| 16.87/16.87 [00:05<00:0\n",
      "/home/mcbrown/.manim_env/lib/python3.10/site-packages/stable_whisper/whisper_word_level/original_whisper.py:249: UserWarning: FP16 is not supported on CPU; using FP32 instead\n",
      "  warnings.warn(\"FP16 is not supported on CPU; using FP32 instead\")\n",
      "Transcribe:   0%| | 0/25.51 [00:02<?, ?sec/"
     ]
    },
    {
     "name": "stdout",
     "output_type": "stream",
     "text": [
      "Detected language: english\n"
     ]
    },
    {
     "name": "stderr",
     "output_type": "stream",
     "text": [
      "Transcribe: 100%|█| 25.51/25.51 [00:08<00:0\n",
      "/home/mcbrown/.manim_env/lib/python3.10/site-packages/stable_whisper/whisper_word_level/original_whisper.py:249: UserWarning: FP16 is not supported on CPU; using FP32 instead\n",
      "  warnings.warn(\"FP16 is not supported on CPU; using FP32 instead\")\n",
      "Transcribe:   0%| | 0/23.26 [00:01<?, ?sec/"
     ]
    },
    {
     "name": "stdout",
     "output_type": "stream",
     "text": [
      "Detected language: english\n"
     ]
    },
    {
     "name": "stderr",
     "output_type": "stream",
     "text": [
      "Transcribe: 100%|█| 23.26/23.26 [00:04<00:0\n",
      "/home/mcbrown/.manim_env/lib/python3.10/site-packages/stable_whisper/whisper_word_level/original_whisper.py:249: UserWarning: FP16 is not supported on CPU; using FP32 instead\n",
      "  warnings.warn(\"FP16 is not supported on CPU; using FP32 instead\")\n",
      "Transcribe:   0%| | 0/33.26 [00:01<?, ?sec/"
     ]
    },
    {
     "name": "stdout",
     "output_type": "stream",
     "text": [
      "Detected language: english\n"
     ]
    },
    {
     "name": "stderr",
     "output_type": "stream",
     "text": [
      "Transcribe: 100%|█| 33.26/33.26 [00:07<00:0\n",
      "/home/mcbrown/.manim_env/lib/python3.10/site-packages/stable_whisper/whisper_word_level/original_whisper.py:249: UserWarning: FP16 is not supported on CPU; using FP32 instead\n",
      "  warnings.warn(\"FP16 is not supported on CPU; using FP32 instead\")\n",
      "Transcribe:   0%| | 0/12.02 [00:01<?, ?sec/"
     ]
    },
    {
     "name": "stdout",
     "output_type": "stream",
     "text": [
      "Detected language: english\n"
     ]
    },
    {
     "name": "stderr",
     "output_type": "stream",
     "text": [
      "Transcribe: 100%|█| 12.02/12.02 [00:04<00:0\n",
      "/home/mcbrown/.manim_env/lib/python3.10/site-packages/stable_whisper/whisper_word_level/original_whisper.py:249: UserWarning: FP16 is not supported on CPU; using FP32 instead\n",
      "  warnings.warn(\"FP16 is not supported on CPU; using FP32 instead\")\n",
      "Transcribe:   0%| | 0/10.34 [00:01<?, ?sec/"
     ]
    },
    {
     "name": "stdout",
     "output_type": "stream",
     "text": [
      "Detected language: english\n"
     ]
    },
    {
     "name": "stderr",
     "output_type": "stream",
     "text": [
      "Transcribe: 100%|█| 10.34/10.34 [00:04<00:0\n",
      "                                           "
     ]
    },
    {
     "data": {
      "text/html": [
       "<video src=\"media/jupyter/QuadraticExpression@2025-08-20@12-20-24.mp4\" controls autoplay loop style=\"max-width: 60%;\"  >\n",
       "      Your browser does not support the <code>video</code> element.\n",
       "    </video>"
      ],
      "text/plain": [
       "<IPython.core.display.Video object>"
      ]
     },
     "metadata": {},
     "output_type": "display_data"
    }
   ],
   "source": [
    "%%manim -ql -v WARNING QuadraticExpression\n",
    "\n",
    "from manim import *\n",
    "from manim_voiceover import VoiceoverScene\n",
    "from manim_voiceover.services.gtts import GTTSService\n",
    "\n",
    "config.pixel_width = 1920\n",
    "config.pixel_height = 1080\n",
    "config.frame_rate = 30\n",
    "config.disable_caching = True\n",
    "\n",
    "class QuadraticExpression(VoiceoverScene):\n",
    "    def construct(self):\n",
    "        # Set Up speech services\n",
    "        self.set_speech_service(GTTSService(lang=\"en\", transcription_model=\"base\"))\n",
    "\n",
    "        # Add background image\n",
    "        background = ImageMobject(\"../Image/chalk_board.jpg\")\n",
    "        background.set_z_index(-1)\n",
    "        background.scale_to_fit_height(config.frame_height)\n",
    "        background.scale_to_fit_width(config.frame_width)\n",
    "        self.add(background)\n",
    "\n",
    "        # Load and position logo image\n",
    "        logo = ImageMobject(\"../Image/logo.png\")\n",
    "        logo_corner = logo.scale(0.15)\n",
    "        logo_corner.to_corner(DR)\n",
    "        self.add(logo_corner)\n",
    "\n",
    "        # Intro\n",
    "        intro_text = \"\"\"\n",
    "                    Welcome to Kasiwa Academy. In this lesson, we are going to learn how to factorize a \\\n",
    "                    quadratic expression step by step\n",
    "                     \"\"\"\n",
    "        with self.voiceover(text=intro_text) as tracker:\n",
    "            title = Tex(r\"\\textbf{Factorizing a Quadratic Expression.}\", color=YELLOW)\n",
    "            institution = Tex(r\"@Kasiwa Academy\")\n",
    "            self.play(Write(title))\n",
    "            self.wait()\n",
    "            self.play(title.animate.shift(UP).scale(1.5).set_color(WHITE))\n",
    "            self.wait()\n",
    "            self.play(FadeIn(institution, shift=UP))\n",
    "        self.wait(2)\n",
    "\n",
    "        #Slide 1\n",
    "        text_1 = \"\"\"\n",
    "                The problem is: Factorize completely the quadratic expression: ten plus eight m minus twenty-four \\\n",
    "                m squared. Let’s work it out together.\n",
    "                 \"\"\"\n",
    "        with self.voiceover(text=text_1) as tracker:\n",
    "            sub_title_1 = Tex(r\"Problem Statement:\", color=YELLOW).to_edge(DOWN)\n",
    "            statement_1 = Tex(r\"Factorize completely \", r\"$10 + 8m -24m^2$\", r\".\").scale(1.3)\n",
    "            self.play(Write(sub_title_1))\n",
    "            self.wait()\n",
    "            self.play(FadeOut(title, institution, shift=UP), sub_title_1.animate.to_edge(UP).set_color(YELLOW_B).scale(1.5),\n",
    "                     Write(statement_1))\n",
    "            self.wait()\n",
    "            self.play(Indicate(statement_1[1]))\n",
    "        self.wait(2)\n",
    "\n",
    "        # Slide 2\n",
    "        text_2 = \"\"\"\n",
    "                We begin with the given expression: ten plus eight m minus twenty-four m squared. First, take \\\n",
    "                out the common factor of two. This simplifies the expression to two times, five plus four m \\\n",
    "                minus twelve m squared. Rearranging, we write it as two times negative twelve m squared, plus \\\n",
    "                four m, plus five.\n",
    "                 \"\"\"\n",
    "        with self.voiceover(text=text_2) as tracker:\n",
    "            sub_title_2 = Tex(r\"Start with the given expression:\", color=YELLOW).to_edge(DOWN)\n",
    "            group_1 = VGroup(\n",
    "                MathTex(r\"10 + 8m - 24m^2\"),\n",
    "                MathTex(r\"2(5 + 4m -12m^2)\"),\n",
    "                MathTex(r\"2(-12m^2 + 4m +5)\")\n",
    "            ).arrange(DOWN, buff=0.5).scale(1.3)\n",
    "            self.play(Write(sub_title_2))\n",
    "            self.wait()\n",
    "            self.play(FadeOut(sub_title_1, statement_1, shift=UP), sub_title_2.animate.to_edge(UP).set_color(YELLOW_B).scale(1.5))\n",
    "            self.wait()               \n",
    "            self.play(Write(group_1[0]))\n",
    "            self.wait()\n",
    "            self.play(TransformFromCopy(group_1[0], group_1[1]))\n",
    "            self.wait()\n",
    "            self.play(TransformFromCopy(group_1[1], group_1[2]))\n",
    "        self.wait(2)\n",
    "\n",
    "        # Slide 3\n",
    "        text_3 = \"\"\"\n",
    "                Now, let’s use the a c method for factorizing quadratics. Recall the general form: ax squared \\\n",
    "                plus bx plus c, where a, b, and c are integers, and a is not equal to zero.\n",
    "                 \"\"\"\n",
    "        with self.voiceover(text=text_3) as tracker:\n",
    "            sub_title_3 = Tex(r\"Use the \\textbf{ac} Method:\", color= YELLOW).to_edge(DOWN)\n",
    "            group_2 = VGroup(\n",
    "                MathTex(r\"ax^2 + bx + c\"),\n",
    "                Tex(r\"where:\"),\n",
    "                Tex(r\"$a$, $b$, and $c$ are integers\"),\n",
    "                Tex(r\"$a \\neq 0$\")\n",
    "            ).arrange(DOWN, buff=0.5).scale(1.3).move_to([0, -0.5, 0])\n",
    "            self.play(Write(sub_title_3))\n",
    "            self.wait()\n",
    "            self.play(FadeOut(sub_title_2, group_1[:2], shift=UP), group_1[2].animate.move_to([0, 2.3, 0]),\n",
    "                     sub_title_3.animate.to_edge(UP).set_color(YELLOW_B).scale(1.5))\n",
    "            self.wait()\n",
    "            self.play(Write(group_2[0]))\n",
    "            self.wait()\n",
    "            self.play(Write(group_2[1]))\n",
    "            self.wait()\n",
    "            self.play(Write(group_2[2]))\n",
    "            self.wait()\n",
    "            self.play(Write(group_2[3]))\n",
    "        self.wait(2)\n",
    "\n",
    "        # Slide 4\n",
    "        text_4 = \"\"\"\n",
    "                For our quadratic, a equals negative twelve, b equals four, and c equals five. Now, multiply a \\\n",
    "                by c. That is negative twelve times five. The result is negative sixty. So our expression becomes: \\\n",
    "                two times negative twelve m squared, plus four m, plus five.\n",
    "                 \"\"\"\n",
    "        with self.voiceover(text=text_4) as tracker:\n",
    "            sub_title_4 = Tex(r\"Identify $a$, $b$, and $c$ :\", color=YELLOW).to_edge(DOWN)\n",
    "            group_3 = VGroup(\n",
    "                Tex(r\"$a = -12$, $b = 4$, and $c = 5$\"),\n",
    "                Tex(r\"$a \\times c \\qquad \\Rightarrow \\qquad -12 \\times 5$\"),\n",
    "                Tex(r\"$-60$\"),\n",
    "                Tex(r\"$2(-12m^2$ \", r\"$+ 4m$ \", r\"$+ 5$)\")\n",
    "            ).arrange(DOWN, buff=0.5).move_to([0, -0.5, 0]).scale(1.3)\n",
    "            self.play(Write(sub_title_4))\n",
    "            self.wait()\n",
    "            self.play(FadeOut(sub_title_3, shift=UP), FadeOut(group_2, shift=DOWN), \n",
    "                     sub_title_4.animate.to_edge(UP).set_color(YELLOW_B).scale(1.5))\n",
    "            self.wait()\n",
    "            self.play(Write(group_3[0]))\n",
    "            self.wait()\n",
    "            self.play(Write(group_3[1]))\n",
    "            self.wait()\n",
    "            self.play(Write(group_3[2]))\n",
    "            self.wait()\n",
    "            self.play(Write(group_3[3]))\n",
    "        self.wait(2)\n",
    "\n",
    "        # Slide 5\n",
    "        text_5 = \"\"\"\n",
    "                Next, we split the middle term, four m, into two terms that add to four and multiply to \\\n",
    "                negative sixty. Those numbers are negative six and ten. So we rewrite the expression as: \\\n",
    "                two times negative twelve m squared, minus six m, plus ten m, plus five.\n",
    "                 \"\"\"\n",
    "        with self.voiceover(text = text_5) as tracker:\n",
    "            sub_title_5 = Tex(r\"Split the middle term:\", color=YELLOW).to_edge(DOWN)\n",
    "            group_4 = VGroup(\n",
    "                MathTex(r\"2(\", r\"-12\", r\"m^2 \", r\"+4m \", r\"+\", r\"5\"),\n",
    "                MathTex(r\"-60\"),\n",
    "                MathTex(r\"-6\", r\"\\qquad \\qquad\", r\"10\"),\n",
    "                MathTex(r\"2(-12m^2 - 6m + 10m + 5)\")\n",
    "            ).arrange(DOWN, buff=0.75).scale(1.3)\n",
    "            arrow_group = VGroup(\n",
    "                Arrow(start=group_4[0][1].get_bottom(), end=group_4[1].get_top(), stroke_width=2),\n",
    "                Arrow(start=group_4[0][5].get_bottom(), end=group_4[1].get_top(), stroke_width=2),\n",
    "                Arrow(start=group_4[1].get_bottom(), end=group_4[2][0].get_top(), stroke_width=2),\n",
    "                Arrow(start=group_4[1].get_bottom(), end=group_4[2][2].get_top(), stroke_width=2)\n",
    "            )\n",
    "            self.play(Write(sub_title_5))\n",
    "            self.wait()\n",
    "            self.play(FadeOut(sub_title_4, group_1[2], group_3, shift=UP), Write(group_4[0]),\n",
    "                     sub_title_5.animate.to_edge(UP).set_color(YELLOW_B).scale(1.5))\n",
    "            self.wait()\n",
    "            self.play(Write(group_4[1]), FadeIn(arrow_group[:2]))\n",
    "            self.wait()\n",
    "            self.play(FadeIn(group_4[2], arrow_group[-2:]))\n",
    "            self.wait()\n",
    "            self.play(TransformFromCopy(group_4[2], group_4[3]))\n",
    "        self.wait(2)\n",
    "\n",
    "        # Slide 6\n",
    "        text_6 = \"\"\"\n",
    "                Now, let’s group the terms into pairs. From the first pair, we can take out negative six m, \\\n",
    "                leaving two m plus one. From the second pair, we take out five, leaving two m plus one. Now, we \\\n",
    "                factorize further: two times two m plus one, times negative six m plus five. Or equivalently, \\\n",
    "                two times two m plus one, times five minus six m.\n",
    "                 \"\"\"\n",
    "        with self.voiceover(text=text_6) as tracker:\n",
    "            sub_title_6 = Tex(r\"Group terms into pairs:\", color=YELLOW).to_edge(DOWN)\n",
    "            group_5 = VGroup(\n",
    "                MathTex(r\"2[(-12m^2 - 6m)+(10m+5)]\"),\n",
    "                MathTex(r\"2[-6m(2m+1)+5(2m+1)]\"),\n",
    "                MathTex(r\"2 \\times (2m+1)(-6m+5)\"),\n",
    "                MathTex(r\"2(2m+1)(5-6m)\")\n",
    "            ).arrange(DOWN, buff=0.5).move_to([0, -0.75, 0]).scale(1.3)\n",
    "            self.play(Write(sub_title_6))\n",
    "            self.wait()\n",
    "            self.play(FadeOut(sub_title_5, arrow_group, group_4[:3], shift=UP), group_4[3].animate.move_to([0, 2.3, 0]),\n",
    "                     sub_title_6.animate.to_edge(UP).set_color(YELLOW_B).scale(1.5))\n",
    "            self.wait()\n",
    "            self.play(TransformFromCopy(group_4[3], group_5[0]))\n",
    "            self.wait()\n",
    "            self.play(TransformFromCopy(group_5[0], group_5[1]))\n",
    "            self.wait()\n",
    "            self.play(TransformFromCopy(group_5[1], group_5[2]))\n",
    "            self.wait()\n",
    "            self.play(TransformFromCopy(group_5[2], group_5[3]))\n",
    "        self.wait(2)\n",
    "\n",
    "        # Slide 7\n",
    "        text_7 = \"\"\"\n",
    "                Therefore, the completely factorized form of the quadratic expression is: two, times two m plus one, times five minus six m.\n",
    "                 \"\"\"\n",
    "        with self.voiceover(text=text_7) as tracker:\n",
    "            sub_title_7 = Tex(r\"Final Answer:\", color=YELLOW).to_edge(DOWN)\n",
    "            self.play(Write(sub_title_7))\n",
    "            self.wait()\n",
    "            self.play(FadeOut(sub_title_6, group_5[:3], group_4[3], shift=UP), \n",
    "                     group_5[3].animate.move_to(ORIGIN).scale(1.5).set_color(YELLOW_C),\n",
    "                     sub_title_7.animate.to_edge(UP).set_color(YELLOW_B).scale(1.5))\n",
    "            box = SurroundingRectangle(group_5[3], buff=0.25, color=YELLOW_D)\n",
    "            self.wait()\n",
    "            self.play(Create(box))\n",
    "            self.wait()\n",
    "            self.play(Indicate(group_5[3]))\n",
    "            final_group = VGroup(sub_title_7, group_5[3], box)\n",
    "        self.wait(2)\n",
    "        self.play(ShrinkToCenter(final_group))\n",
    "        \n",
    "        #Outro\n",
    "        outro_text = \"\"\"\n",
    "                    Thank you for watching. I hope this step-by-step process helped you understand how to \\\n",
    "                    factorize a quadratic expression. See you in our next lesson.\n",
    "                     \"\"\"\n",
    "        with self.voiceover(text=outro_text) as tracker:\n",
    "            final_text = Tex(\"Thank you for watching!\", color=YELLOW_B).scale(1.5)\n",
    "            self.play(Write(final_text))\n",
    "            self.wait()\n",
    "            self.play(logo_corner.animate.move_to(ORIGIN).scale(3), \n",
    "                        final_text.animate.to_edge(DOWN).set_color(WHITE))\n",
    "        self.wait(2)\n",
    "        self.play(FadeOut(final_text, logo_corner))"
   ]
  },
  {
   "cell_type": "code",
   "execution_count": null,
   "id": "87feeb25-5297-40b4-8b5f-0c0653c9573c",
   "metadata": {},
   "outputs": [],
   "source": []
  }
 ],
 "metadata": {
  "kernelspec": {
   "display_name": "Python 3 (ipykernel)",
   "language": "python",
   "name": "python3"
  },
  "language_info": {
   "codemirror_mode": {
    "name": "ipython",
    "version": 3
   },
   "file_extension": ".py",
   "mimetype": "text/x-python",
   "name": "python",
   "nbconvert_exporter": "python",
   "pygments_lexer": "ipython3",
   "version": "3.10.18"
  }
 },
 "nbformat": 4,
 "nbformat_minor": 5
}
