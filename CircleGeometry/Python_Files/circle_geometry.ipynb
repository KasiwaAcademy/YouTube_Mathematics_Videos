{
 "cells": [
  {
   "cell_type": "code",
   "execution_count": 1,
   "id": "1e494779-21ee-4a95-82c9-b9c8ac84e2e3",
   "metadata": {},
   "outputs": [],
   "source": [
    "from manim import *"
   ]
  },
  {
   "cell_type": "code",
   "execution_count": 6,
   "id": "33330366-5634-4e17-ab3a-25f307fdd99c",
   "metadata": {},
   "outputs": [
    {
     "data": {
      "text/html": [
       "<pre style=\"white-space:pre;overflow-x:auto;line-height:normal;font-family:Menlo,'DejaVu Sans Mono',consolas,'Courier New',monospace\">Manim Community <span style=\"color: #008000; text-decoration-color: #008000\">v0.19.0</span>\n",
       "\n",
       "</pre>\n"
      ],
      "text/plain": [
       "Manim Community \u001b[32mv0.\u001b[0m\u001b[32m19.0\u001b[0m\n",
       "\n"
      ]
     },
     "metadata": {},
     "output_type": "display_data"
    },
    {
     "name": "stderr",
     "output_type": "stream",
     "text": [
      "                                           "
     ]
    },
    {
     "data": {
      "text/html": [
       "<video src=\"media/jupyter/CircleGeometry@2025-07-20@19-01-15.mp4\" controls autoplay loop style=\"max-width: 60%;\"  >\n",
       "      Your browser does not support the <code>video</code> element.\n",
       "    </video>"
      ],
      "text/plain": [
       "<IPython.core.display.Video object>"
      ]
     },
     "metadata": {},
     "output_type": "display_data"
    }
   ],
   "source": [
    "%%manim -ql -v WARNING CircleGeometry\n",
    "\n",
    "# main.py\n",
    "from manim import *\n",
    "from figure_creator import create_geometric_figure # Import the creator function\n",
    "\n",
    "\n",
    "class CircleGeometry(Scene):\n",
    "    def construct(self):\n",
    "        # Add background image\n",
    "        background = ImageMobject(\"../Image/chalk_board.jpg\")\n",
    "        background.set_z_index(-1)\n",
    "        background.scale_to_fit_height(config.frame_height)\n",
    "        background.scale_to_fit_width(config.frame_width)\n",
    "        self.add(background)\n",
    "\n",
    "        # Load and position logo image\n",
    "        logo = ImageMobject(\"../Image/logo.png\")\n",
    "        logo_corner = logo.scale(0.15) \n",
    "        logo_corner.to_corner(DR) \n",
    "        self.add(logo_corner)\n",
    "\n",
    "        # Into\n",
    "        text = Tex(r\"Circle Geometry\").shift(UP).scale(1.75)\n",
    "        institution = Tex(r\"@Kasiwa Academy\")\n",
    "        self.play(Write(text))\n",
    "        self.wait()\n",
    "        self.play(FadeIn(institution))\n",
    "        self.wait()\n",
    "        self.play(FadeOut(text, institution))\n",
    "        \n",
    "        # Problem Statement and Geometric Construction\n",
    "        text_1 = Tex(\"Problem Statement:\").to_edge(UP).scale(1.3)\n",
    "        text_2 = Tex(r\"Figure below is a circle $ABCD$ with centre $O$ in which\").next_to(text_1, DOWN).scale(1)\n",
    "        text_3 = Tex(r\"$BC$ = $CD$ and angle $DAB = 52^\\circ$\").next_to(text_2, DOWN).scale(1)\n",
    "        text_4 = Tex(\"Calculate the value of angle $ABC$.\").to_edge(DOWN).scale(0.75)\n",
    "        text_vgroup = VGroup(text_1, text_2, text_3, text_4) \n",
    "        # --- 1. Configuration ---\n",
    "        figure_radius = 2\n",
    "        figure_origin = np.array([0, -0.75, 0])\n",
    "\n",
    "        # --- 2. Create the Figure ---\n",
    "        figure_parts = create_geometric_figure(\n",
    "            radius=figure_radius,\n",
    "            origin=figure_origin\n",
    "        )\n",
    "        # --- 3. Add Text Mobjects\n",
    "        self.add(text_1, text_2, text_3, text_4)\n",
    "        \n",
    "        # --- 4. Animate the Figure ---\n",
    "        # The dictionary structure makes it easy to animate parts separately.\n",
    "        self.play(Create(figure_parts[\"main_shapes\"]))\n",
    "        self.wait(1)\n",
    "        \n",
    "        self.play(FadeIn(figure_parts[\"points_and_labels\"]))\n",
    "        self.wait(1)\n",
    "\n",
    "        self.play(Write(figure_parts[\"annotations\"]))\n",
    "        self.wait(3)\n",
    "\n",
    "        self.play(FadeOut(figure_parts[\"main_shapes\"], figure_parts[\"points_and_labels\"],\n",
    "                          figure_parts[\"annotations\"], text_vgroup))\n",
    "        self.wait()\n",
    "\n",
    "        #Step 1\n",
    "        text = Tex(\"Step 1: Use the Equal Chords Rule\").to_edge(UP).scale(1.3)\n",
    "        steps = VGroup(\n",
    "            Tex(r\"$BC$ and $CD$ are equal Chords (given)\"),\n",
    "            Tex(r\"Equal Chords create equal angle\\\\\"\n",
    "                r\"at the circumference\"),\n",
    "            Tex(r\"$BC$ creates angle $BAC$ at\\\\\"\n",
    "               r\"point $A$\"),\n",
    "            Tex(r\"$CD$ creates angle $CAD$ at\\\\\"\n",
    "               r\"at point $A$\"),\n",
    "            Tex(r\"Therefore angle $BAC$ = $CAD$\"),\n",
    "            Tex(r\"angle $DAB$ = $DAS$\"),\n",
    "            Tex(r\"angle $BAC$=$CAD$=$DAB$\"),\n",
    "        ).arrange(DOWN, aligned_edge=LEFT, buff=0.3).scale(1)\n",
    "        \n",
    "        figure_parts_vgroup = VGroup(figure_parts[\"main_shapes\"], figure_parts[\"points_and_labels\"],\n",
    "                                    figure_parts[\"annotations\"])\n",
    "        steps.move_to(RIGHT*3)\n",
    "        figure_parts_vgroup.move_to(LEFT*4.5)\n",
    "        \n",
    "        self.add(text, figure_parts_vgroup)\n",
    "        self.wait()\n",
    "        for step in steps:\n",
    "            self.play(Write(step))\n",
    "            self.wait(3)\n",
    "        self.play(FadeOut(text, figure_parts_vgroup, steps))\n",
    "        self.wait()\n",
    "        \n",
    "         # Outro\n",
    "        final_text = Tex(\"Thank you for watching!\").to_edge(DOWN).scale(1.75)\n",
    "        logo_final = logo.move_to(ORIGIN).scale(3)\n",
    "        self.play(Write(final_text))\n",
    "        self.wait()\n",
    "        self.play(Transform(logo_corner, logo_final))\n",
    "        self.wait(2)\n",
    "        self.play(FadeOut(final_text, logo_final))"
   ]
  },
  {
   "cell_type": "code",
   "execution_count": null,
   "id": "042d1519-7a2f-42a5-9990-483361524295",
   "metadata": {},
   "outputs": [],
   "source": []
  }
 ],
 "metadata": {
  "kernelspec": {
   "display_name": "Python 3 (ipykernel)",
   "language": "python",
   "name": "python3"
  },
  "language_info": {
   "codemirror_mode": {
    "name": "ipython",
    "version": 3
   },
   "file_extension": ".py",
   "mimetype": "text/x-python",
   "name": "python",
   "nbconvert_exporter": "python",
   "pygments_lexer": "ipython3",
   "version": "3.12.3"
  }
 },
 "nbformat": 4,
 "nbformat_minor": 5
}
