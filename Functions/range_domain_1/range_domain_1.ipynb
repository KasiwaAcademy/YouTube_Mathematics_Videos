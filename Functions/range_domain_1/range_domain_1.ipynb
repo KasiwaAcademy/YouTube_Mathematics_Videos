{
 "cells": [
  {
   "cell_type": "code",
   "execution_count": 1,
   "id": "3b44c85a-94bc-46c3-950a-2f285ea14d04",
   "metadata": {},
   "outputs": [],
   "source": [
    "from manim import *"
   ]
  },
  {
   "cell_type": "code",
   "execution_count": 3,
   "id": "782aedb9-2cd7-44b3-bc16-047ccb97fa8c",
   "metadata": {},
   "outputs": [
    {
     "data": {
      "text/html": [
       "<pre style=\"white-space:pre;overflow-x:auto;line-height:normal;font-family:Menlo,'DejaVu Sans Mono',consolas,'Courier New',monospace\">Manim Community <span style=\"color: #008000; text-decoration-color: #008000\">v0.19.0</span>\n",
       "\n",
       "</pre>\n"
      ],
      "text/plain": [
       "Manim Community \u001b[32mv0.\u001b[0m\u001b[32m19.0\u001b[0m\n",
       "\n"
      ]
     },
     "metadata": {},
     "output_type": "display_data"
    },
    {
     "name": "stderr",
     "output_type": "stream",
     "text": [
      "                                         "
     ]
    },
    {
     "data": {
      "text/html": [
       "<video src=\"media/jupyter/DomainRange@2025-08-15@09-32-06.mp4\" controls autoplay loop style=\"max-width: 60%;\"  >\n",
       "      Your browser does not support the <code>video</code> element.\n",
       "    </video>"
      ],
      "text/plain": [
       "<IPython.core.display.Video object>"
      ]
     },
     "metadata": {},
     "output_type": "display_data"
    }
   ],
   "source": [
    "%%manim -ql -v WARNING DomainRange\n",
    "from manim import *\n",
    "#from manim_voiceover import VoiceoverScene\n",
    "#from manim_voiceover.services.gtts import GTTSService\n",
    "\n",
    "config.pixel_width = 1920\n",
    "config.pixel_height = 1080\n",
    "config.frame_rate = 30\n",
    "config.disable_caching = True\n",
    "\n",
    "class DomainRange(Scene):\n",
    "    def construct(self):\n",
    "        # Set Up speech services\n",
    "        #self.set_speech_service(GTTSService(lang=\"en\"))\n",
    "\n",
    "        # Add background image\n",
    "        background = ImageMobject(\"./Image/chalk_board.jpg\")\n",
    "        background.set_z_index(-1)\n",
    "        background.scale_to_fit_height(config.frame_height)\n",
    "        background.scale_to_fit_width(config.frame_width)\n",
    "        self.add(background)\n",
    "\n",
    "        # Load and position logo image\n",
    "        logo = ImageMobject(\"./Image/logo.png\")\n",
    "        logo_corner = logo.scale(0.15)\n",
    "        logo_corner.to_corner(DR)\n",
    "        self.add(logo_corner)\n",
    "\n",
    "        # Intro\n",
    "        title = Tex(r\"Finding Domain given Range\", color=YELLOW)\n",
    "        institution = Tex(r\"@Kasiwa Academy\")\n",
    "        self.play(Write(title))\n",
    "        self.wait()\n",
    "        self.play(title.animate.shift(UP).scale(1.5).set_color(WHITE), FadeIn(institution, shift=UP))\n",
    "        self.wait()\n",
    "        self.play(FadeOut(title, institution, shift=UP))\n",
    "        self.wait()\n",
    "\n",
    "        #Outro\n",
    "        final_text = Tex(\"Thank you for watching!\", color=YELLOW).scale(1.5)\n",
    "        self.play(Write(final_text))\n",
    "        self.wait()\n",
    "        self.play(logo_corner.animate.move_to(ORIGIN).scale(3), \n",
    "                    final_text.animate.to_edge(DOWN).set_color(WHITE))\n",
    "        self.wait(2)\n",
    "        self.play(FadeOut(final_text, logo_corner))"
   ]
  },
  {
   "cell_type": "code",
   "execution_count": null,
   "id": "42d0d010-8e74-4767-8cba-44591c5bf020",
   "metadata": {},
   "outputs": [],
   "source": []
  }
 ],
 "metadata": {
  "kernelspec": {
   "display_name": "Python 3 (ipykernel)",
   "language": "python",
   "name": "python3"
  },
  "language_info": {
   "codemirror_mode": {
    "name": "ipython",
    "version": 3
   },
   "file_extension": ".py",
   "mimetype": "text/x-python",
   "name": "python",
   "nbconvert_exporter": "python",
   "pygments_lexer": "ipython3",
   "version": "3.10.18"
  }
 },
 "nbformat": 4,
 "nbformat_minor": 5
}
