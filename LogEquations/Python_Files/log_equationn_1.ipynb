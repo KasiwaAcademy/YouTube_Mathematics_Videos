{
 "cells": [
  {
   "cell_type": "code",
   "execution_count": 1,
   "id": "e9ba2bd4-4fdb-42e4-80fa-7623d62a516b",
   "metadata": {},
   "outputs": [],
   "source": [
    "from manim import *\n",
    "import math"
   ]
  },
  {
   "cell_type": "code",
   "execution_count": 2,
   "id": "0173c91e-c6d5-478d-9191-52a2716ce6e4",
   "metadata": {},
   "outputs": [
    {
     "data": {
      "text/html": [
       "<pre style=\"white-space:pre;overflow-x:auto;line-height:normal;font-family:Menlo,'DejaVu Sans Mono',consolas,'Courier New',monospace\">Manim Community <span style=\"color: #008000; text-decoration-color: #008000\">v0.19.0</span>\n",
       "\n",
       "</pre>\n"
      ],
      "text/plain": [
       "Manim Community \u001b[32mv0.\u001b[0m\u001b[32m19.0\u001b[0m\n",
       "\n"
      ]
     },
     "metadata": {},
     "output_type": "display_data"
    },
    {
     "name": "stderr",
     "output_type": "stream",
     "text": [
      "                                           "
     ]
    },
    {
     "data": {
      "text/html": [
       "<video src=\"media/jupyter/SolveLogEquation@2025-07-17@16-59-37.mp4\" controls autoplay loop style=\"max-width: 60%;\"  >\n",
       "      Your browser does not support the <code>video</code> element.\n",
       "    </video>"
      ],
      "text/plain": [
       "<IPython.core.display.Video object>"
      ]
     },
     "metadata": {},
     "output_type": "display_data"
    }
   ],
   "source": [
    "%%manim -ql -v WARNING SolveLogEquation\n",
    "\n",
    "config.pixel_width = 720\n",
    "config.pixel_height = 1280\n",
    "config.frame_rate = 30\n",
    "\n",
    "class SolveLogEquation(Scene):\n",
    "    def construct(self):\n",
    "        # Add background image\n",
    "        background = ImageMobject(\"../Image/chalk_board.jpg\")\n",
    "        background.set_z_index(-1)\n",
    "        background.scale_to_fit_height(config.frame_height)\n",
    "        background.scale_to_fit_width(config.frame_width)\n",
    "        self.add(background)\n",
    "\n",
    "         # Load and position logo image\n",
    "        logo = ImageMobject(\"../Image/logo.png\")\n",
    "        logo_corner = logo.scale(0.15)\n",
    "        logo_corner.to_corner(DR)\n",
    "        self.add(logo_corner)\n",
    "\n",
    "        # Intro\n",
    "        note = Tex(r\"Solving Logarithmic Equations\").scale(1.75).shift(UP)\n",
    "        institution = Tex(r\"@Kasiwa Academy\")\n",
    "        self.play(Write(note))\n",
    "        self.wait()\n",
    "        self.play(FadeIn(institution))\n",
    "        self.wait(2)\n",
    "        self.play(FadeOut(note, institution))\n",
    "        self.wait()\n",
    "        \n",
    "        # Title\n",
    "        text = Tex(r\"Problem Statement:\").scale(1.75).to_edge(UP)\n",
    "        statement = Tex(r\"Solve the equation $2\\log y = \\log(3y + 4)$\").scale(1.5)\n",
    "        self.add(text)\n",
    "        self.wait()\n",
    "        self.play(Write(statement))\n",
    "        self.wait(3)\n",
    "        self.play(FadeOut(text, statement))\n",
    "\n",
    "        # Step 1: Original equation\n",
    "        eq1 = MathTex(r\"2\\log y = \\log(3y + 4)\").shift(DOWN)\n",
    "        eq1.scale(1.75)\n",
    "        note1 = Tex(\"Start with the given equation:\").to_edge(UP).scale(1.5)\n",
    "        self.play(Write(eq1), FadeIn(note1))\n",
    "        self.wait(3)\n",
    "\n",
    "        # Step 2: Apply power rule\n",
    "        eq2 = MathTex(r\"\\log(y^2) = \\log(3y + 4)\").shift(DOWN)\n",
    "        eq2.scale(1.75)\n",
    "        note2 = Tex(r\"Use: $a\\log b = \\log(b^a)$\").to_edge(UP).scale(1.5)\n",
    "        self.play(Transform(eq1, eq2), Transform(note1, note2))\n",
    "        self.wait(3)\n",
    "\n",
    "        # Step 3: Remove logs\n",
    "        eq3 = MathTex(\"y^2 = 3y + 4\").shift(DOWN)\n",
    "        eq3.scale(1.75)\n",
    "        note3 = Tex(\"Equal logs → equal arguments\").to_edge(UP).scale(1.5)\n",
    "        self.play(Transform(eq1, eq3), Transform(note1, note3))\n",
    "        self.wait(3)\n",
    "\n",
    "        # Step 4: Rearranged quadratic form\n",
    "        eq4 = MathTex(\"y^2 - 3y - 4 = 0\").shift(DOWN)\n",
    "        eq4.scale(1.75)\n",
    "        note4 = Tex(\"Move all terms to one side:\").to_edge(UP).scale(1.5)\n",
    "        self.play(Transform(eq1, eq4), Transform(note1, note4))\n",
    "        self.wait(3)\n",
    "\n",
    "        # Step 5: Quadratic formula\n",
    "        formula = MathTex(r\"y = \\frac{-(-3) \\pm \\sqrt{(-3)^2 - 4(1)(-4)}}{2(1)}\").scale(1.75).shift(DOWN)\n",
    "        note5 = Tex(\"Use quadratic formula: $a=1$, $b=-3$, $c=-4$\").to_edge(UP).scale(1.3)\n",
    "        self.play(Transform(eq1, formula), Transform(note1, note5))\n",
    "        self.wait(3)\n",
    "\n",
    "        # Step 6: Simplify step by step\n",
    "        step1 = MathTex(r\"y = \\frac{3 \\pm \\sqrt{9 + 16}}{2}\").scale(1.75).shift(DOWN)\n",
    "        self.play(Transform(eq1, step1))\n",
    "        self.wait(3)\n",
    "\n",
    "        step2 = MathTex(r\"y = \\frac{3 \\pm \\sqrt{25}}{2}\").scale(1.75).shift(DOWN)\n",
    "        self.play(Transform(eq1, step2))\n",
    "        self.wait(3)\n",
    "\n",
    "        step3 = MathTex(r\"y = \\frac{3 \\pm 5}{2}\").scale(1.75).shift(DOWN)\n",
    "        self.play(Transform(eq1, step3))\n",
    "        self.wait(3)\n",
    "\n",
    "        # Step 7: Show both possible answers\n",
    "        answers = MathTex(r\"y = 4 \\quad \\text{or} \\quad y = -1\").scale(1.75).shift(DOWN)\n",
    "        note7 = Tex(\"Solve for both possibilities:\").to_edge(UP).scale(1.5)\n",
    "        self.play(Transform(eq1, answers), Transform(note1, note7))\n",
    "        self.wait(3)\n",
    "\n",
    "        # Step 8: Check for valid log values\n",
    "        final = MathTex(r\"\\log y\\text{ is undefined for } y \\leq 0\").to_edge(DOWN).scale(1.5)\n",
    "        self.play(Write(final))\n",
    "        self.wait(3)\n",
    "\n",
    "        # Final boxed answer\n",
    "        solution = MathTex(r\"\\boxed{y = 4}\").scale(4)\n",
    "        solution_text = Tex(\"Therefore:\").to_edge(UP).scale(1.5)        \n",
    "        self.play(FadeOut(eq1, note1, final), FadeIn(solution), Write(solution_text))\n",
    "        self.wait(3)\n",
    "        self.play(FadeOut(solution, solution_text))\n",
    "        self.wait()\n",
    "\n",
    "        # Outro\n",
    "        final_text = Tex(\"Thank you for watching!\").to_edge(DOWN).scale(1.75)\n",
    "        logo_final = logo.move_to(ORIGIN).scale(3)\n",
    "        self.play(Write(final_text))\n",
    "        self.wait()\n",
    "        self.play(Transform(logo_corner, logo_final))\n",
    "        self.wait(2)\n",
    "        self.play(FadeOut(final_text, logo_final))\n",
    "        self.wait()"
   ]
  }
 ],
 "metadata": {
  "kernelspec": {
   "display_name": "Python 3 (ipykernel)",
   "language": "python",
   "name": "python3"
  },
  "language_info": {
   "codemirror_mode": {
    "name": "ipython",
    "version": 3
   },
   "file_extension": ".py",
   "mimetype": "text/x-python",
   "name": "python",
   "nbconvert_exporter": "python",
   "pygments_lexer": "ipython3",
   "version": "3.12.3"
  }
 },
 "nbformat": 4,
 "nbformat_minor": 5
}
