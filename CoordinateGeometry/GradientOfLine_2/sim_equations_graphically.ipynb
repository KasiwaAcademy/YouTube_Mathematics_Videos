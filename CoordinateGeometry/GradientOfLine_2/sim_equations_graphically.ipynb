{
 "cells": [
  {
   "cell_type": "code",
   "execution_count": 1,
   "id": "b280eb9f-46d7-46ab-920e-1b0d568c1c6d",
   "metadata": {},
   "outputs": [],
   "source": [
    "from manim import *"
   ]
  },
  {
   "cell_type": "code",
   "execution_count": 7,
   "id": "d6abb670-6ebf-4b8f-bf6c-fbe5935809bd",
   "metadata": {},
   "outputs": [
    {
     "data": {
      "text/html": [
       "<pre style=\"white-space:pre;overflow-x:auto;line-height:normal;font-family:Menlo,'DejaVu Sans Mono',consolas,'Courier New',monospace\">Manim Community <span style=\"color: #008000; text-decoration-color: #008000\">v0.18.1</span>\n",
       "\n",
       "</pre>\n"
      ],
      "text/plain": [
       "Manim Community \u001b[32mv0.\u001b[0m\u001b[32m18.1\u001b[0m\n",
       "\n"
      ]
     },
     "metadata": {},
     "output_type": "display_data"
    },
    {
     "name": "stderr",
     "output_type": "stream",
     "text": [
      "                                                                                "
     ]
    },
    {
     "data": {
      "text/html": [
       "<video src=\"media/jupyter/SimultaneousEquations@2025-08-24@19-53-24.mp4\" controls autoplay loop style=\"max-width: 60%;\"  >\n",
       "      Your browser does not support the <code>video</code> element.\n",
       "    </video>"
      ],
      "text/plain": [
       "<IPython.core.display.Video object>"
      ]
     },
     "metadata": {},
     "output_type": "display_data"
    }
   ],
   "source": [
    "%%manim -ql -v WARNING SimultaneousEquations\n",
    "\n",
    "from manim import *\n",
    "\n",
    "config.pixel_width = 1920\n",
    "config.pixel_height = 1080\n",
    "config.frame_rate = 30\n",
    "config.disable_caching = True\n",
    "\n",
    "class SimultaneousEquations(Scene):\n",
    "    def construct(self):\n",
    "        # Create a custom Latex template that includes the cancel package\n",
    "        my_template = TexTemplate()\n",
    "        my_template.add_to_preamble(r\"\\usepackage{cancel}\")\n",
    "\n",
    "        # Load and position logo image\n",
    "        logo = ImageMobject(\"../Image/logo.png\")\n",
    "        logo_corner = logo.scale(0.15)\n",
    "        logo_corner.to_corner(DR, buff=-0.2)\n",
    "        self.add(logo_corner)\n",
    "\n",
    "        # Intro\n",
    "        title = Tex(r\"Solving Simultaneous Equations Graphically.\", color=YELLOW)\n",
    "        institution = Tex(r\"@Kasiwa Academy\")\n",
    "        self.play(Write(title))\n",
    "        self.wait()\n",
    "        self.play(title.animate.shift(UP).scale(1.3).set_color(YELLOW_B), FadeIn(institution, shift=UP))\n",
    "        self.wait(2)\n",
    "\n",
    "        # Problem Statement\n",
    "        sub_title_1 = Tex(r\"Problem Statement:\", color=YELLOW).to_edge(DOWN)\n",
    "        statement_1 = Tex(r\"Solve the following simultaneous equations graphically:\")\n",
    "        eq_group_1 = VGroup(\n",
    "            MathTex(r\"y = x^3 + 3x^2 + x -2\"),\n",
    "            MathTex(r\"y = 2x + 1\")\n",
    "        ).arrange(DOWN, buff=0.3, aligned_edge=LEFT).next_to(statement_1, DOWN, buff=0.3)\n",
    "        self.play(Write(sub_title_1))\n",
    "        self.wait()\n",
    "        self.play(FadeOut(title, institution, shift=UP), sub_title_1.animate.to_edge(UP).scale(1.3).set_color(WHITE), \n",
    "                  FadeIn(statement_1, eq_group_1, shift=UP))\n",
    "        self.wait()\n",
    "        self.play(statement_1.animate.scale(1.1))\n",
    "        self.wait(2)\n",
    "\n",
    "        #Outro\n",
    "        final_text = Tex(\"Thank you for watching!\", color=YELLOW_B)\n",
    "        self.play(Write(final_text), FadeOut(statement_1, sub_title_1, shift=RIGHT))\n",
    "        self.wait()\n",
    "        self.play(logo_corner.animate.move_to(ORIGIN).scale(3), \n",
    "                    final_text.animate.to_edge(DOWN).set_color(WHITE).scale(1.3))\n",
    "        self.wait()\n",
    "        self.play(FadeOut(final_text, logo_corner))\n",
    "        self.wait()"
   ]
  },
  {
   "cell_type": "code",
   "execution_count": null,
   "id": "ffa1a2e9-3011-4a3f-a61a-aa1f12750ed0",
   "metadata": {},
   "outputs": [],
   "source": []
  }
 ],
 "metadata": {
  "kernelspec": {
   "display_name": "Python 3 (ipykernel)",
   "language": "python",
   "name": "python3"
  },
  "language_info": {
   "codemirror_mode": {
    "name": "ipython",
    "version": 3
   },
   "file_extension": ".py",
   "mimetype": "text/x-python",
   "name": "python",
   "nbconvert_exporter": "python",
   "pygments_lexer": "ipython3",
   "version": "3.10.18"
  }
 },
 "nbformat": 4,
 "nbformat_minor": 5
}
